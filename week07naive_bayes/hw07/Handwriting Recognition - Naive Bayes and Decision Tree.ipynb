{
 "cells": [
  {
   "cell_type": "markdown",
   "id": "88553d66",
   "metadata": {
    "id": "88553d66"
   },
   "source": [
    "**Chaithra K C**\n",
    "\n",
    "1. Introduction\n",
    "2. Data preparation\n",
    "    1. Load data\n",
    "    2. Check for null and missing values\n",
    "    3. Split training and valdiation set\n",
    "3. Gaussian Naive Bayes Classifier\n",
    "    1. Define the model\n",
    "    2. Confusion Matrix\n",
    "    2. Evaluate the model\n",
    "4. Multinominal Naive Bayes Classifier \n",
    "    1. Define the model\n",
    "    2. Confusion matrix\n",
    "    3. Evaluate the model\n",
    "5. Decision Trees \n",
    "    1. Define the model\n",
    "    2. Confusion matrix\n",
    "    3. Evaluate the model\n",
    "6. Prediction and submition to Kaggle\n",
    "    1. Predict and Submit results"
   ]
  },
  {
   "cell_type": "markdown",
   "id": "3881027d",
   "metadata": {
    "id": "3881027d"
   },
   "source": [
    "#### 1. INTRODUCTION\n",
    "\n",
    "The data set comes from the Kaggle Digit Recognizer competition. The goal is to recognize digits 0 to 9 in handwriting images.\n",
    "We construct prediction models using naïve Bayes and decision tree algorithms. Tune their parameters to get the best model (measured by cross validation) and compare which algorithms provide better model for this task."
   ]
  },
  {
   "cell_type": "markdown",
   "id": "b571f7cb",
   "metadata": {
    "id": "b571f7cb"
   },
   "source": [
    "#### 2. DATA PREPARATION"
   ]
  },
  {
   "cell_type": "code",
   "execution_count": 1,
   "id": "5ed560a5",
   "metadata": {
    "executionInfo": {
     "elapsed": 242,
     "status": "ok",
     "timestamp": 1648584192347,
     "user": {
      "displayName": "Chaithra K.C",
      "userId": "06590399226295405413"
     },
     "user_tz": 240
    },
    "id": "5ed560a5"
   },
   "outputs": [],
   "source": [
    "# importing required libraries\n",
    "import pandas as pd\n",
    "import numpy as np\n",
    "import matplotlib.pyplot as plt\n",
    "import seaborn as sns \n",
    "from sklearn.model_selection import train_test_split\n",
    "from sklearn.metrics import confusion_matrix \n",
    "from sklearn.metrics import classification_report\n",
    "from sklearn.naive_bayes import GaussianNB, MultinomialNB\n",
    "from sklearn.tree import DecisionTreeClassifier\n",
    "from sklearn import tree\n",
    "import timeit # to measure the execution time of models\n"
   ]
  },
  {
   "cell_type": "markdown",
   "id": "974d0388",
   "metadata": {
    "id": "974d0388"
   },
   "source": [
    "#### 2.1 LOAD DATA"
   ]
  },
  {
   "cell_type": "code",
   "execution_count": 2,
   "id": "044ce04e",
   "metadata": {
    "colab": {
     "base_uri": "https://localhost:8080/"
    },
    "executionInfo": {
     "elapsed": 3761,
     "status": "ok",
     "timestamp": 1648584196240,
     "user": {
      "displayName": "Chaithra K.C",
      "userId": "06590399226295405413"
     },
     "user_tz": 240
    },
    "id": "044ce04e",
    "outputId": "c98e506a-4683-435f-eb5a-96d03c6c782a"
   },
   "outputs": [
    {
     "data": {
      "text/plain": [
       "((42000, 785), (28000, 784))"
      ]
     },
     "execution_count": 2,
     "metadata": {},
     "output_type": "execute_result"
    }
   ],
   "source": [
    "train = pd.read_csv('train.csv')\n",
    "test = pd.read_csv('test.csv')\n",
    "\n",
    "train.shape, test.shape"
   ]
  },
  {
   "cell_type": "code",
   "execution_count": 3,
   "id": "06cf3b74",
   "metadata": {
    "colab": {
     "base_uri": "https://localhost:8080/",
     "height": 299
    },
    "executionInfo": {
     "elapsed": 17,
     "status": "ok",
     "timestamp": 1648584196241,
     "user": {
      "displayName": "Chaithra K.C",
      "userId": "06590399226295405413"
     },
     "user_tz": 240
    },
    "id": "06cf3b74",
    "outputId": "4e1820e4-af0d-45d8-d253-e82541adf536"
   },
   "outputs": [
    {
     "data": {
      "text/html": [
       "<div>\n",
       "<style scoped>\n",
       "    .dataframe tbody tr th:only-of-type {\n",
       "        vertical-align: middle;\n",
       "    }\n",
       "\n",
       "    .dataframe tbody tr th {\n",
       "        vertical-align: top;\n",
       "    }\n",
       "\n",
       "    .dataframe thead th {\n",
       "        text-align: right;\n",
       "    }\n",
       "</style>\n",
       "<table border=\"1\" class=\"dataframe\">\n",
       "  <thead>\n",
       "    <tr style=\"text-align: right;\">\n",
       "      <th></th>\n",
       "      <th>label</th>\n",
       "      <th>pixel0</th>\n",
       "      <th>pixel1</th>\n",
       "      <th>pixel2</th>\n",
       "      <th>pixel3</th>\n",
       "      <th>pixel4</th>\n",
       "      <th>pixel5</th>\n",
       "      <th>pixel6</th>\n",
       "      <th>pixel7</th>\n",
       "      <th>pixel8</th>\n",
       "      <th>...</th>\n",
       "      <th>pixel774</th>\n",
       "      <th>pixel775</th>\n",
       "      <th>pixel776</th>\n",
       "      <th>pixel777</th>\n",
       "      <th>pixel778</th>\n",
       "      <th>pixel779</th>\n",
       "      <th>pixel780</th>\n",
       "      <th>pixel781</th>\n",
       "      <th>pixel782</th>\n",
       "      <th>pixel783</th>\n",
       "    </tr>\n",
       "  </thead>\n",
       "  <tbody>\n",
       "    <tr>\n",
       "      <th>0</th>\n",
       "      <td>1</td>\n",
       "      <td>0</td>\n",
       "      <td>0</td>\n",
       "      <td>0</td>\n",
       "      <td>0</td>\n",
       "      <td>0</td>\n",
       "      <td>0</td>\n",
       "      <td>0</td>\n",
       "      <td>0</td>\n",
       "      <td>0</td>\n",
       "      <td>...</td>\n",
       "      <td>0</td>\n",
       "      <td>0</td>\n",
       "      <td>0</td>\n",
       "      <td>0</td>\n",
       "      <td>0</td>\n",
       "      <td>0</td>\n",
       "      <td>0</td>\n",
       "      <td>0</td>\n",
       "      <td>0</td>\n",
       "      <td>0</td>\n",
       "    </tr>\n",
       "    <tr>\n",
       "      <th>1</th>\n",
       "      <td>0</td>\n",
       "      <td>0</td>\n",
       "      <td>0</td>\n",
       "      <td>0</td>\n",
       "      <td>0</td>\n",
       "      <td>0</td>\n",
       "      <td>0</td>\n",
       "      <td>0</td>\n",
       "      <td>0</td>\n",
       "      <td>0</td>\n",
       "      <td>...</td>\n",
       "      <td>0</td>\n",
       "      <td>0</td>\n",
       "      <td>0</td>\n",
       "      <td>0</td>\n",
       "      <td>0</td>\n",
       "      <td>0</td>\n",
       "      <td>0</td>\n",
       "      <td>0</td>\n",
       "      <td>0</td>\n",
       "      <td>0</td>\n",
       "    </tr>\n",
       "    <tr>\n",
       "      <th>2</th>\n",
       "      <td>1</td>\n",
       "      <td>0</td>\n",
       "      <td>0</td>\n",
       "      <td>0</td>\n",
       "      <td>0</td>\n",
       "      <td>0</td>\n",
       "      <td>0</td>\n",
       "      <td>0</td>\n",
       "      <td>0</td>\n",
       "      <td>0</td>\n",
       "      <td>...</td>\n",
       "      <td>0</td>\n",
       "      <td>0</td>\n",
       "      <td>0</td>\n",
       "      <td>0</td>\n",
       "      <td>0</td>\n",
       "      <td>0</td>\n",
       "      <td>0</td>\n",
       "      <td>0</td>\n",
       "      <td>0</td>\n",
       "      <td>0</td>\n",
       "    </tr>\n",
       "    <tr>\n",
       "      <th>3</th>\n",
       "      <td>4</td>\n",
       "      <td>0</td>\n",
       "      <td>0</td>\n",
       "      <td>0</td>\n",
       "      <td>0</td>\n",
       "      <td>0</td>\n",
       "      <td>0</td>\n",
       "      <td>0</td>\n",
       "      <td>0</td>\n",
       "      <td>0</td>\n",
       "      <td>...</td>\n",
       "      <td>0</td>\n",
       "      <td>0</td>\n",
       "      <td>0</td>\n",
       "      <td>0</td>\n",
       "      <td>0</td>\n",
       "      <td>0</td>\n",
       "      <td>0</td>\n",
       "      <td>0</td>\n",
       "      <td>0</td>\n",
       "      <td>0</td>\n",
       "    </tr>\n",
       "    <tr>\n",
       "      <th>4</th>\n",
       "      <td>0</td>\n",
       "      <td>0</td>\n",
       "      <td>0</td>\n",
       "      <td>0</td>\n",
       "      <td>0</td>\n",
       "      <td>0</td>\n",
       "      <td>0</td>\n",
       "      <td>0</td>\n",
       "      <td>0</td>\n",
       "      <td>0</td>\n",
       "      <td>...</td>\n",
       "      <td>0</td>\n",
       "      <td>0</td>\n",
       "      <td>0</td>\n",
       "      <td>0</td>\n",
       "      <td>0</td>\n",
       "      <td>0</td>\n",
       "      <td>0</td>\n",
       "      <td>0</td>\n",
       "      <td>0</td>\n",
       "      <td>0</td>\n",
       "    </tr>\n",
       "  </tbody>\n",
       "</table>\n",
       "<p>5 rows × 785 columns</p>\n",
       "</div>"
      ],
      "text/plain": [
       "   label  pixel0  pixel1  pixel2  pixel3  pixel4  pixel5  pixel6  pixel7  \\\n",
       "0      1       0       0       0       0       0       0       0       0   \n",
       "1      0       0       0       0       0       0       0       0       0   \n",
       "2      1       0       0       0       0       0       0       0       0   \n",
       "3      4       0       0       0       0       0       0       0       0   \n",
       "4      0       0       0       0       0       0       0       0       0   \n",
       "\n",
       "   pixel8  ...  pixel774  pixel775  pixel776  pixel777  pixel778  pixel779  \\\n",
       "0       0  ...         0         0         0         0         0         0   \n",
       "1       0  ...         0         0         0         0         0         0   \n",
       "2       0  ...         0         0         0         0         0         0   \n",
       "3       0  ...         0         0         0         0         0         0   \n",
       "4       0  ...         0         0         0         0         0         0   \n",
       "\n",
       "   pixel780  pixel781  pixel782  pixel783  \n",
       "0         0         0         0         0  \n",
       "1         0         0         0         0  \n",
       "2         0         0         0         0  \n",
       "3         0         0         0         0  \n",
       "4         0         0         0         0  \n",
       "\n",
       "[5 rows x 785 columns]"
      ]
     },
     "execution_count": 3,
     "metadata": {},
     "output_type": "execute_result"
    }
   ],
   "source": [
    "train.head() # vieweing first 5 rows to understand the dataset"
   ]
  },
  {
   "cell_type": "code",
   "execution_count": 4,
   "id": "ef9f587b",
   "metadata": {
    "colab": {
     "base_uri": "https://localhost:8080/",
     "height": 299
    },
    "executionInfo": {
     "elapsed": 15,
     "status": "ok",
     "timestamp": 1648584196241,
     "user": {
      "displayName": "Chaithra K.C",
      "userId": "06590399226295405413"
     },
     "user_tz": 240
    },
    "id": "ef9f587b",
    "outputId": "c9ffbc27-2b19-4031-d60b-73b80334e25f"
   },
   "outputs": [
    {
     "data": {
      "text/html": [
       "<div>\n",
       "<style scoped>\n",
       "    .dataframe tbody tr th:only-of-type {\n",
       "        vertical-align: middle;\n",
       "    }\n",
       "\n",
       "    .dataframe tbody tr th {\n",
       "        vertical-align: top;\n",
       "    }\n",
       "\n",
       "    .dataframe thead th {\n",
       "        text-align: right;\n",
       "    }\n",
       "</style>\n",
       "<table border=\"1\" class=\"dataframe\">\n",
       "  <thead>\n",
       "    <tr style=\"text-align: right;\">\n",
       "      <th></th>\n",
       "      <th>pixel0</th>\n",
       "      <th>pixel1</th>\n",
       "      <th>pixel2</th>\n",
       "      <th>pixel3</th>\n",
       "      <th>pixel4</th>\n",
       "      <th>pixel5</th>\n",
       "      <th>pixel6</th>\n",
       "      <th>pixel7</th>\n",
       "      <th>pixel8</th>\n",
       "      <th>pixel9</th>\n",
       "      <th>...</th>\n",
       "      <th>pixel774</th>\n",
       "      <th>pixel775</th>\n",
       "      <th>pixel776</th>\n",
       "      <th>pixel777</th>\n",
       "      <th>pixel778</th>\n",
       "      <th>pixel779</th>\n",
       "      <th>pixel780</th>\n",
       "      <th>pixel781</th>\n",
       "      <th>pixel782</th>\n",
       "      <th>pixel783</th>\n",
       "    </tr>\n",
       "  </thead>\n",
       "  <tbody>\n",
       "    <tr>\n",
       "      <th>0</th>\n",
       "      <td>0</td>\n",
       "      <td>0</td>\n",
       "      <td>0</td>\n",
       "      <td>0</td>\n",
       "      <td>0</td>\n",
       "      <td>0</td>\n",
       "      <td>0</td>\n",
       "      <td>0</td>\n",
       "      <td>0</td>\n",
       "      <td>0</td>\n",
       "      <td>...</td>\n",
       "      <td>0</td>\n",
       "      <td>0</td>\n",
       "      <td>0</td>\n",
       "      <td>0</td>\n",
       "      <td>0</td>\n",
       "      <td>0</td>\n",
       "      <td>0</td>\n",
       "      <td>0</td>\n",
       "      <td>0</td>\n",
       "      <td>0</td>\n",
       "    </tr>\n",
       "    <tr>\n",
       "      <th>1</th>\n",
       "      <td>0</td>\n",
       "      <td>0</td>\n",
       "      <td>0</td>\n",
       "      <td>0</td>\n",
       "      <td>0</td>\n",
       "      <td>0</td>\n",
       "      <td>0</td>\n",
       "      <td>0</td>\n",
       "      <td>0</td>\n",
       "      <td>0</td>\n",
       "      <td>...</td>\n",
       "      <td>0</td>\n",
       "      <td>0</td>\n",
       "      <td>0</td>\n",
       "      <td>0</td>\n",
       "      <td>0</td>\n",
       "      <td>0</td>\n",
       "      <td>0</td>\n",
       "      <td>0</td>\n",
       "      <td>0</td>\n",
       "      <td>0</td>\n",
       "    </tr>\n",
       "    <tr>\n",
       "      <th>2</th>\n",
       "      <td>0</td>\n",
       "      <td>0</td>\n",
       "      <td>0</td>\n",
       "      <td>0</td>\n",
       "      <td>0</td>\n",
       "      <td>0</td>\n",
       "      <td>0</td>\n",
       "      <td>0</td>\n",
       "      <td>0</td>\n",
       "      <td>0</td>\n",
       "      <td>...</td>\n",
       "      <td>0</td>\n",
       "      <td>0</td>\n",
       "      <td>0</td>\n",
       "      <td>0</td>\n",
       "      <td>0</td>\n",
       "      <td>0</td>\n",
       "      <td>0</td>\n",
       "      <td>0</td>\n",
       "      <td>0</td>\n",
       "      <td>0</td>\n",
       "    </tr>\n",
       "    <tr>\n",
       "      <th>3</th>\n",
       "      <td>0</td>\n",
       "      <td>0</td>\n",
       "      <td>0</td>\n",
       "      <td>0</td>\n",
       "      <td>0</td>\n",
       "      <td>0</td>\n",
       "      <td>0</td>\n",
       "      <td>0</td>\n",
       "      <td>0</td>\n",
       "      <td>0</td>\n",
       "      <td>...</td>\n",
       "      <td>0</td>\n",
       "      <td>0</td>\n",
       "      <td>0</td>\n",
       "      <td>0</td>\n",
       "      <td>0</td>\n",
       "      <td>0</td>\n",
       "      <td>0</td>\n",
       "      <td>0</td>\n",
       "      <td>0</td>\n",
       "      <td>0</td>\n",
       "    </tr>\n",
       "    <tr>\n",
       "      <th>4</th>\n",
       "      <td>0</td>\n",
       "      <td>0</td>\n",
       "      <td>0</td>\n",
       "      <td>0</td>\n",
       "      <td>0</td>\n",
       "      <td>0</td>\n",
       "      <td>0</td>\n",
       "      <td>0</td>\n",
       "      <td>0</td>\n",
       "      <td>0</td>\n",
       "      <td>...</td>\n",
       "      <td>0</td>\n",
       "      <td>0</td>\n",
       "      <td>0</td>\n",
       "      <td>0</td>\n",
       "      <td>0</td>\n",
       "      <td>0</td>\n",
       "      <td>0</td>\n",
       "      <td>0</td>\n",
       "      <td>0</td>\n",
       "      <td>0</td>\n",
       "    </tr>\n",
       "  </tbody>\n",
       "</table>\n",
       "<p>5 rows × 784 columns</p>\n",
       "</div>"
      ],
      "text/plain": [
       "   pixel0  pixel1  pixel2  pixel3  pixel4  pixel5  pixel6  pixel7  pixel8  \\\n",
       "0       0       0       0       0       0       0       0       0       0   \n",
       "1       0       0       0       0       0       0       0       0       0   \n",
       "2       0       0       0       0       0       0       0       0       0   \n",
       "3       0       0       0       0       0       0       0       0       0   \n",
       "4       0       0       0       0       0       0       0       0       0   \n",
       "\n",
       "   pixel9  ...  pixel774  pixel775  pixel776  pixel777  pixel778  pixel779  \\\n",
       "0       0  ...         0         0         0         0         0         0   \n",
       "1       0  ...         0         0         0         0         0         0   \n",
       "2       0  ...         0         0         0         0         0         0   \n",
       "3       0  ...         0         0         0         0         0         0   \n",
       "4       0  ...         0         0         0         0         0         0   \n",
       "\n",
       "   pixel780  pixel781  pixel782  pixel783  \n",
       "0         0         0         0         0  \n",
       "1         0         0         0         0  \n",
       "2         0         0         0         0  \n",
       "3         0         0         0         0  \n",
       "4         0         0         0         0  \n",
       "\n",
       "[5 rows x 784 columns]"
      ]
     },
     "execution_count": 4,
     "metadata": {},
     "output_type": "execute_result"
    }
   ],
   "source": [
    "test.head()"
   ]
  },
  {
   "cell_type": "markdown",
   "id": "9ae12d90",
   "metadata": {
    "id": "9ae12d90"
   },
   "source": [
    "#### 2.2 CHECK FOR NULL OR NAN VALUES"
   ]
  },
  {
   "cell_type": "code",
   "execution_count": 5,
   "id": "6a379847",
   "metadata": {
    "executionInfo": {
     "elapsed": 13,
     "status": "ok",
     "timestamp": 1648584196241,
     "user": {
      "displayName": "Chaithra K.C",
      "userId": "06590399226295405413"
     },
     "user_tz": 240
    },
    "id": "6a379847"
   },
   "outputs": [
    {
     "data": {
      "text/plain": [
       "<AxesSubplot:>"
      ]
     },
     "execution_count": 5,
     "metadata": {},
     "output_type": "execute_result"
    },
    {
     "data": {
      "image/png": "[encoded data removed]",
      "text/plain": [
       "<Figure size 432x288 with 2 Axes>"
      ]
     },
     "metadata": {
      "needs_background": "light"
     },
     "output_type": "display_data"
    }
   ],
   "source": [
    "sns.heatmap(train.isnull()) # no null or NA values in training data # resource intense "
   ]
  },
  {
   "cell_type": "code",
   "execution_count": 6,
   "id": "afb3733b",
   "metadata": {
    "executionInfo": {
     "elapsed": 13,
     "status": "ok",
     "timestamp": 1648584196242,
     "user": {
      "displayName": "Chaithra K.C",
      "userId": "06590399226295405413"
     },
     "user_tz": 240
    },
    "id": "afb3733b"
   },
   "outputs": [
    {
     "data": {
      "text/plain": [
       "<AxesSubplot:>"
      ]
     },
     "execution_count": 6,
     "metadata": {},
     "output_type": "execute_result"
    },
    {
     "data": {
      "image/png": "[encoded data removed]",
      "text/plain": [
       "<Figure size 432x288 with 2 Axes>"
      ]
     },
     "metadata": {
      "needs_background": "light"
     },
     "output_type": "display_data"
    }
   ],
   "source": [
    "sns.heatmap(test.isnull()) # no null or NA values in testing data # resource intense "
   ]
  },
  {
   "cell_type": "markdown",
   "id": "47a1f3f7",
   "metadata": {
    "id": "47a1f3f7"
   },
   "source": [
    "There are no Null or NA values present in the dataset of both train and test."
   ]
  },
  {
   "cell_type": "markdown",
   "id": "7710f84e",
   "metadata": {
    "id": "7710f84e"
   },
   "source": [
    "#### 2.3 SPLIT TRAINING AND VALIDATION SET "
   ]
  },
  {
   "cell_type": "code",
   "execution_count": 7,
   "id": "dc319f4c",
   "metadata": {
    "colab": {
     "base_uri": "https://localhost:8080/",
     "height": 525
    },
    "executionInfo": {
     "elapsed": 206,
     "status": "ok",
     "timestamp": 1648584196436,
     "user": {
      "displayName": "Chaithra K.C",
      "userId": "06590399226295405413"
     },
     "user_tz": 240
    },
    "id": "dc319f4c",
    "outputId": "73325ee7-4092-4204-a96d-426ac0e0758b"
   },
   "outputs": [
    {
     "name": "stderr",
     "output_type": "stream",
     "text": [
      "C:\\Users\\Chaithra\\anaconda3\\lib\\site-packages\\seaborn\\_decorators.py:36: FutureWarning: Pass the following variable as a keyword arg: x. From version 0.12, the only valid positional argument will be `data`, and passing other arguments without an explicit keyword will result in an error or misinterpretation.\n",
      "  warnings.warn(\n"
     ]
    },
    {
     "data": {
      "text/plain": [
       "1    4684\n",
       "7    4401\n",
       "3    4351\n",
       "9    4188\n",
       "2    4177\n",
       "6    4137\n",
       "0    4132\n",
       "4    4072\n",
       "8    4063\n",
       "5    3795\n",
       "Name: label, dtype: int64"
      ]
     },
     "execution_count": 7,
     "metadata": {},
     "output_type": "execute_result"
    },
    {
     "data": {
      "image/png": "[encoded data removed]",
      "text/plain": [
       "<Figure size 432x288 with 1 Axes>"
      ]
     },
     "metadata": {
      "needs_background": "light"
     },
     "output_type": "display_data"
    }
   ],
   "source": [
    "Y_train = train[\"label\"]\n",
    "\n",
    "# dropping the 'label' column\n",
    "X_train = train.drop(labels = [\"label\"],axis = 1) \n",
    "\n",
    "g = sns.countplot(Y_train)\n",
    "\n",
    "Y_train.value_counts()"
   ]
  },
  {
   "cell_type": "markdown",
   "id": "50c67350",
   "metadata": {
    "id": "50c67350"
   },
   "source": [
    "We have similar counts for the 10 digits."
   ]
  },
  {
   "cell_type": "code",
   "execution_count": 8,
   "id": "fc51312d",
   "metadata": {
    "colab": {
     "base_uri": "https://localhost:8080/"
    },
    "executionInfo": {
     "elapsed": 205,
     "status": "ok",
     "timestamp": 1648584196635,
     "user": {
      "displayName": "Chaithra K.C",
      "userId": "06590399226295405413"
     },
     "user_tz": 240
    },
    "id": "fc51312d",
    "outputId": "cd0e8930-eee1-46e3-da08-5bf880b44b91"
   },
   "outputs": [
    {
     "data": {
      "text/plain": [
       "1"
      ]
     },
     "execution_count": 8,
     "metadata": {},
     "output_type": "execute_result"
    }
   ],
   "source": [
    "Y_train[0]"
   ]
  },
  {
   "cell_type": "markdown",
   "id": "8431df94",
   "metadata": {
    "id": "8431df94"
   },
   "source": [
    "\n",
    "**We can get a better sense for one of these examples by visualising the image and looking at the label**"
   ]
  },
  {
   "cell_type": "code",
   "execution_count": 9,
   "id": "2d89311f",
   "metadata": {
    "colab": {
     "base_uri": "https://localhost:8080/",
     "height": 300
    },
    "executionInfo": {
     "elapsed": 184,
     "status": "ok",
     "timestamp": 1648584196807,
     "user": {
      "displayName": "Chaithra K.C",
      "userId": "06590399226295405413"
     },
     "user_tz": 240
    },
    "id": "2d89311f",
    "outputId": "c4e7f962-703d-4ea2-ce71-4f06be760cfb"
   },
   "outputs": [
    {
     "name": "stdout",
     "output_type": "stream",
     "text": [
      "1\n"
     ]
    },
    {
     "data": {
      "text/plain": [
       "<matplotlib.image.AxesImage at 0x20880754760>"
      ]
     },
     "execution_count": 9,
     "metadata": {},
     "output_type": "execute_result"
    },
    {
     "data": {
      "image/png": "[encoded data removed]",
      "text/plain": [
       "<Figure size 432x288 with 1 Axes>"
      ]
     },
     "metadata": {
      "needs_background": "light"
     },
     "output_type": "display_data"
    }
   ],
   "source": [
    "# visualizing the digits for few training example\n",
    "print(Y_train[0])\n",
    "training_example = X_train.iloc[0]\n",
    "training_example = training_example.to_numpy() # converting series to numpy array\n",
    "training_example = training_example.reshape((28,28)) # converting 1d array of pixels to 2d (28X28) pixels matrix\n",
    "plt.imshow(training_example, cmap='gray')"
   ]
  },
  {
   "cell_type": "code",
   "execution_count": 10,
   "id": "c968a03f",
   "metadata": {
    "colab": {
     "base_uri": "https://localhost:8080/",
     "height": 300
    },
    "executionInfo": {
     "elapsed": 168,
     "status": "ok",
     "timestamp": 1648584196958,
     "user": {
      "displayName": "Chaithra K.C",
      "userId": "06590399226295405413"
     },
     "user_tz": 240
    },
    "id": "c968a03f",
    "outputId": "1b2021d4-3366-45cd-a5ca-7885834b6cb8"
   },
   "outputs": [
    {
     "name": "stdout",
     "output_type": "stream",
     "text": [
      "8\n"
     ]
    },
    {
     "data": {
      "text/plain": [
       "<matplotlib.image.AxesImage at 0x208807c8460>"
      ]
     },
     "execution_count": 10,
     "metadata": {},
     "output_type": "execute_result"
    },
    {
     "data": {
      "image/png": "[encoded data removed]",
      "text/plain": [
       "<Figure size 432x288 with 1 Axes>"
      ]
     },
     "metadata": {
      "needs_background": "light"
     },
     "output_type": "display_data"
    }
   ],
   "source": [
    "print(Y_train[300])\n",
    "training_example = X_train.iloc[300]\n",
    "training_example = training_example.to_numpy() # converting series to numpy array\n",
    "training_example = training_example.reshape((28,28)) # converting 1d array of pixels to 2d (28X28) pixels matrix\n",
    "plt.imshow(training_example, cmap='gray')"
   ]
  },
  {
   "cell_type": "markdown",
   "id": "6735a19d",
   "metadata": {
    "id": "6735a19d"
   },
   "source": [
    "A small fraction (40%) became the validation set which the model is evaluated and the rest (60%) is used to train the model"
   ]
  },
  {
   "cell_type": "code",
   "execution_count": 11,
   "id": "d6ee4883",
   "metadata": {
    "executionInfo": {
     "elapsed": 224,
     "status": "ok",
     "timestamp": 1648584197178,
     "user": {
      "displayName": "Chaithra K.C",
      "userId": "06590399226295405413"
     },
     "user_tz": 240
    },
    "id": "d6ee4883"
   },
   "outputs": [],
   "source": [
    "# Split the train and the validation set for the fitting\n",
    "X_train, X_val, Y_train, Y_val = train_test_split(X_train, Y_train, test_size = 0.4, random_state=30)"
   ]
  },
  {
   "cell_type": "markdown",
   "id": "3bb6b663",
   "metadata": {
    "id": "3bb6b663"
   },
   "source": [
    "# Gaussian Naive Bayes"
   ]
  },
  {
   "cell_type": "code",
   "execution_count": 12,
   "id": "t7_V9YGYQzmz",
   "metadata": {
    "colab": {
     "base_uri": "https://localhost:8080/"
    },
    "executionInfo": {
     "elapsed": 591,
     "status": "ok",
     "timestamp": 1648585288662,
     "user": {
      "displayName": "Chaithra K.C",
      "userId": "06590399226295405413"
     },
     "user_tz": 240
    },
    "id": "t7_V9YGYQzmz",
    "outputId": "d8764ffb-ef5e-41da-c13a-3cbe8fdbc72d"
   },
   "outputs": [
    {
     "data": {
      "text/plain": [
       "pixel12     202.805239\n",
       "pixel13     146.313554\n",
       "pixel14     204.939015\n",
       "pixel15     204.939015\n",
       "pixel32     204.939015\n",
       "               ...    \n",
       "pixel775     46.957137\n",
       "pixel776     61.709513\n",
       "pixel777    109.689258\n",
       "pixel778    121.493598\n",
       "pixel779    145.149671\n",
       "Length: 512, dtype: float64"
      ]
     },
     "execution_count": 12,
     "metadata": {},
     "output_type": "execute_result"
    }
   ],
   "source": [
    "# Gaussian distribution assumes all the features to be normally distributed \n",
    "\n",
    "# checking the distribution of all features with skewness\n",
    "\n",
    "skweness = train.skew()\n",
    "\n",
    "# variables with skewness > 1 are highly positively skewed\n",
    "# variables with skewness < -1 are highly negatively skewed\n",
    "# variables with -0.5 < skewness < 0.5 are symmetric i.e normally distributed\n",
    "\n",
    "skweness[skweness>1] # positively skewed data"
   ]
  },
  {
   "cell_type": "code",
   "execution_count": 13,
   "id": "rBXrgUZyVygE",
   "metadata": {
    "colab": {
     "base_uri": "https://localhost:8080/"
    },
    "executionInfo": {
     "elapsed": 146,
     "status": "ok",
     "timestamp": 1648585297878,
     "user": {
      "displayName": "Chaithra K.C",
      "userId": "06590399226295405413"
     },
     "user_tz": 240
    },
    "id": "rBXrgUZyVygE",
    "outputId": "04716551-5856-409a-9b79-90574d21f17c"
   },
   "outputs": [
    {
     "data": {
      "text/plain": [
       "Series([], dtype: float64)"
      ]
     },
     "execution_count": 13,
     "metadata": {},
     "output_type": "execute_result"
    }
   ],
   "source": [
    "skweness[skweness<-1] # no negatively skewed"
   ]
  },
  {
   "cell_type": "code",
   "execution_count": 14,
   "id": "UlpqJb_0WEXK",
   "metadata": {
    "colab": {
     "base_uri": "https://localhost:8080/",
     "height": 283
    },
    "executionInfo": {
     "elapsed": 611,
     "status": "ok",
     "timestamp": 1648585515235,
     "user": {
      "displayName": "Chaithra K.C",
      "userId": "06590399226295405413"
     },
     "user_tz": 240
    },
    "id": "UlpqJb_0WEXK",
    "outputId": "e4ce1097-8954-40e9-e4b1-790ef1fb5694"
   },
   "outputs": [
    {
     "data": {
      "text/plain": [
       "label       0.026479\n",
       "pixel0      0.000000\n",
       "pixel1      0.000000\n",
       "pixel2      0.000000\n",
       "pixel3      0.000000\n",
       "              ...   \n",
       "pixel760    0.000000\n",
       "pixel780    0.000000\n",
       "pixel781    0.000000\n",
       "pixel782    0.000000\n",
       "pixel783    0.000000\n",
       "Length: 188, dtype: float64"
      ]
     },
     "execution_count": 14,
     "metadata": {},
     "output_type": "execute_result"
    }
   ],
   "source": [
    "# normally distributed features\n",
    "skweness[abs(skweness) < 0.5]"
   ]
  },
  {
   "cell_type": "markdown",
   "id": "C-9j06AZX0yF",
   "metadata": {
    "id": "C-9j06AZX0yF"
   },
   "source": [
    "There are many features in the data that are highly skewed."
   ]
  },
  {
   "cell_type": "code",
   "execution_count": 15,
   "id": "fe407b8b",
   "metadata": {
    "colab": {
     "base_uri": "https://localhost:8080/"
    },
    "executionInfo": {
     "elapsed": 418,
     "status": "ok",
     "timestamp": 1648584197590,
     "user": {
      "displayName": "Chaithra K.C",
      "userId": "06590399226295405413"
     },
     "user_tz": 240
    },
    "id": "fe407b8b",
    "outputId": "d2457282-6791-46e3-d118-9f1fef9d3381"
   },
   "outputs": [
    {
     "data": {
      "text/plain": [
       "GaussianNB()"
      ]
     },
     "execution_count": 15,
     "metadata": {},
     "output_type": "execute_result"
    }
   ],
   "source": [
    "# instantiate the model\n",
    "gnb = GaussianNB()\n",
    "\n",
    "# fit the model\n",
    "gnb.fit(X_train, Y_train)"
   ]
  },
  {
   "cell_type": "code",
   "execution_count": 16,
   "id": "20249c10",
   "metadata": {
    "colab": {
     "base_uri": "https://localhost:8080/"
    },
    "executionInfo": {
     "elapsed": 754,
     "status": "ok",
     "timestamp": 1648584198341,
     "user": {
      "displayName": "Chaithra K.C",
      "userId": "06590399226295405413"
     },
     "user_tz": 240
    },
    "id": "20249c10",
    "outputId": "0b19181a-232f-4d59-d09a-d33ab6a4202d"
   },
   "outputs": [
    {
     "data": {
      "text/plain": [
       "array([6, 1, 9, ..., 0, 2, 0], dtype=int64)"
      ]
     },
     "execution_count": 16,
     "metadata": {},
     "output_type": "execute_result"
    }
   ],
   "source": [
    "# predict\n",
    "nb_pred = gnb.predict(X_val)\n",
    "\n",
    "nb_pred"
   ]
  },
  {
   "cell_type": "code",
   "execution_count": 17,
   "id": "b5cc9a4d",
   "metadata": {
    "colab": {
     "base_uri": "https://localhost:8080/",
     "height": 394
    },
    "executionInfo": {
     "elapsed": 17,
     "status": "ok",
     "timestamp": 1648584198342,
     "user": {
      "displayName": "Chaithra K.C",
      "userId": "06590399226295405413"
     },
     "user_tz": 240
    },
    "id": "b5cc9a4d",
    "outputId": "20a74912-d85e-4cdd-ebaf-4384b56ed9c2"
   },
   "outputs": [
    {
     "data": {
      "text/html": [
       "<div>\n",
       "<style scoped>\n",
       "    .dataframe tbody tr th:only-of-type {\n",
       "        vertical-align: middle;\n",
       "    }\n",
       "\n",
       "    .dataframe tbody tr th {\n",
       "        vertical-align: top;\n",
       "    }\n",
       "\n",
       "    .dataframe thead th {\n",
       "        text-align: right;\n",
       "    }\n",
       "</style>\n",
       "<table border=\"1\" class=\"dataframe\">\n",
       "  <thead>\n",
       "    <tr style=\"text-align: right;\">\n",
       "      <th>Predicted</th>\n",
       "      <th>0</th>\n",
       "      <th>1</th>\n",
       "      <th>2</th>\n",
       "      <th>3</th>\n",
       "      <th>4</th>\n",
       "      <th>5</th>\n",
       "      <th>6</th>\n",
       "      <th>7</th>\n",
       "      <th>8</th>\n",
       "      <th>9</th>\n",
       "    </tr>\n",
       "    <tr>\n",
       "      <th>Actual</th>\n",
       "      <th></th>\n",
       "      <th></th>\n",
       "      <th></th>\n",
       "      <th></th>\n",
       "      <th></th>\n",
       "      <th></th>\n",
       "      <th></th>\n",
       "      <th></th>\n",
       "      <th></th>\n",
       "      <th></th>\n",
       "    </tr>\n",
       "  </thead>\n",
       "  <tbody>\n",
       "    <tr>\n",
       "      <th>0</th>\n",
       "      <td>1552</td>\n",
       "      <td>1</td>\n",
       "      <td>8</td>\n",
       "      <td>7</td>\n",
       "      <td>2</td>\n",
       "      <td>3</td>\n",
       "      <td>60</td>\n",
       "      <td>1</td>\n",
       "      <td>27</td>\n",
       "      <td>21</td>\n",
       "    </tr>\n",
       "    <tr>\n",
       "      <th>1</th>\n",
       "      <td>1</td>\n",
       "      <td>1813</td>\n",
       "      <td>2</td>\n",
       "      <td>10</td>\n",
       "      <td>1</td>\n",
       "      <td>1</td>\n",
       "      <td>19</td>\n",
       "      <td>0</td>\n",
       "      <td>33</td>\n",
       "      <td>18</td>\n",
       "    </tr>\n",
       "    <tr>\n",
       "      <th>2</th>\n",
       "      <td>185</td>\n",
       "      <td>56</td>\n",
       "      <td>394</td>\n",
       "      <td>265</td>\n",
       "      <td>13</td>\n",
       "      <td>10</td>\n",
       "      <td>425</td>\n",
       "      <td>3</td>\n",
       "      <td>284</td>\n",
       "      <td>29</td>\n",
       "    </tr>\n",
       "    <tr>\n",
       "      <th>3</th>\n",
       "      <td>98</td>\n",
       "      <td>92</td>\n",
       "      <td>9</td>\n",
       "      <td>1010</td>\n",
       "      <td>3</td>\n",
       "      <td>2</td>\n",
       "      <td>70</td>\n",
       "      <td>15</td>\n",
       "      <td>238</td>\n",
       "      <td>180</td>\n",
       "    </tr>\n",
       "    <tr>\n",
       "      <th>4</th>\n",
       "      <td>47</td>\n",
       "      <td>13</td>\n",
       "      <td>11</td>\n",
       "      <td>16</td>\n",
       "      <td>332</td>\n",
       "      <td>6</td>\n",
       "      <td>183</td>\n",
       "      <td>5</td>\n",
       "      <td>236</td>\n",
       "      <td>817</td>\n",
       "    </tr>\n",
       "    <tr>\n",
       "      <th>5</th>\n",
       "      <td>238</td>\n",
       "      <td>46</td>\n",
       "      <td>5</td>\n",
       "      <td>77</td>\n",
       "      <td>17</td>\n",
       "      <td>80</td>\n",
       "      <td>92</td>\n",
       "      <td>1</td>\n",
       "      <td>813</td>\n",
       "      <td>149</td>\n",
       "    </tr>\n",
       "    <tr>\n",
       "      <th>6</th>\n",
       "      <td>17</td>\n",
       "      <td>23</td>\n",
       "      <td>5</td>\n",
       "      <td>3</td>\n",
       "      <td>2</td>\n",
       "      <td>2</td>\n",
       "      <td>1553</td>\n",
       "      <td>0</td>\n",
       "      <td>30</td>\n",
       "      <td>2</td>\n",
       "    </tr>\n",
       "    <tr>\n",
       "      <th>7</th>\n",
       "      <td>8</td>\n",
       "      <td>12</td>\n",
       "      <td>1</td>\n",
       "      <td>28</td>\n",
       "      <td>12</td>\n",
       "      <td>2</td>\n",
       "      <td>11</td>\n",
       "      <td>573</td>\n",
       "      <td>49</td>\n",
       "      <td>1052</td>\n",
       "    </tr>\n",
       "    <tr>\n",
       "      <th>8</th>\n",
       "      <td>35</td>\n",
       "      <td>250</td>\n",
       "      <td>3</td>\n",
       "      <td>46</td>\n",
       "      <td>12</td>\n",
       "      <td>7</td>\n",
       "      <td>20</td>\n",
       "      <td>3</td>\n",
       "      <td>905</td>\n",
       "      <td>322</td>\n",
       "    </tr>\n",
       "    <tr>\n",
       "      <th>9</th>\n",
       "      <td>6</td>\n",
       "      <td>12</td>\n",
       "      <td>4</td>\n",
       "      <td>8</td>\n",
       "      <td>12</td>\n",
       "      <td>2</td>\n",
       "      <td>3</td>\n",
       "      <td>21</td>\n",
       "      <td>33</td>\n",
       "      <td>1566</td>\n",
       "    </tr>\n",
       "  </tbody>\n",
       "</table>\n",
       "</div>"
      ],
      "text/plain": [
       "Predicted     0     1    2     3    4   5     6    7    8     9\n",
       "Actual                                                         \n",
       "0          1552     1    8     7    2   3    60    1   27    21\n",
       "1             1  1813    2    10    1   1    19    0   33    18\n",
       "2           185    56  394   265   13  10   425    3  284    29\n",
       "3            98    92    9  1010    3   2    70   15  238   180\n",
       "4            47    13   11    16  332   6   183    5  236   817\n",
       "5           238    46    5    77   17  80    92    1  813   149\n",
       "6            17    23    5     3    2   2  1553    0   30     2\n",
       "7             8    12    1    28   12   2    11  573   49  1052\n",
       "8            35   250    3    46   12   7    20    3  905   322\n",
       "9             6    12    4     8   12   2     3   21   33  1566"
      ]
     },
     "execution_count": 17,
     "metadata": {},
     "output_type": "execute_result"
    }
   ],
   "source": [
    "# validating testing data\n",
    "tab = pd.crosstab(Y_val, nb_pred, rownames=['Actual'],colnames=['Predicted'])\n",
    "tab"
   ]
  },
  {
   "cell_type": "code",
   "execution_count": 18,
   "id": "bdce2782",
   "metadata": {
    "colab": {
     "base_uri": "https://localhost:8080/",
     "height": 297
    },
    "executionInfo": {
     "elapsed": 401,
     "status": "ok",
     "timestamp": 1648584198730,
     "user": {
      "displayName": "Chaithra K.C",
      "userId": "06590399226295405413"
     },
     "user_tz": 240
    },
    "id": "bdce2782",
    "outputId": "7250573a-e066-48c2-c683-11bd09091515"
   },
   "outputs": [
    {
     "data": {
      "text/plain": [
       "<AxesSubplot:xlabel='Predicted', ylabel='Actual'>"
      ]
     },
     "execution_count": 18,
     "metadata": {},
     "output_type": "execute_result"
    },
    {
     "data": {
      "image/png": "[encoded data removed]",
      "text/plain": [
       "<Figure size 432x288 with 2 Axes>"
      ]
     },
     "metadata": {
      "needs_background": "light"
     },
     "output_type": "display_data"
    }
   ],
   "source": [
    "sns.heatmap(tab)"
   ]
  },
  {
   "cell_type": "code",
   "execution_count": 19,
   "id": "cdc2dfe0",
   "metadata": {
    "executionInfo": {
     "elapsed": 10,
     "status": "ok",
     "timestamp": 1648584198731,
     "user": {
      "displayName": "Chaithra K.C",
      "userId": "06590399226295405413"
     },
     "user_tz": 240
    },
    "id": "cdc2dfe0"
   },
   "outputs": [],
   "source": [
    "# Look at confusion matrix \n",
    "import itertools\n",
    "\n",
    "def plot_confusion_matrix(cm, classes,\n",
    "                          normalize=False,\n",
    "                          title='Confusion matrix',\n",
    "                          cmap=plt.cm.Blues):\n",
    "    \"\"\"\n",
    "    This function prints and plots the confusion matrix.\n",
    "    Normalization can be applied by setting `normalize=True`.\n",
    "    \"\"\"\n",
    "    plt.imshow(cm, interpolation='nearest', cmap=cmap)\n",
    "    plt.title(title)\n",
    "    plt.colorbar()\n",
    "    tick_marks = np.arange(len(classes))\n",
    "    plt.xticks(tick_marks, classes, rotation=45)\n",
    "    plt.yticks(tick_marks, classes)\n",
    "\n",
    "    if normalize:\n",
    "        cm = cm.astype('float') / cm.sum(axis=1)[:, np.newaxis]\n",
    "\n",
    "    thresh = cm.max() / 2.\n",
    "    for i, j in itertools.product(range(cm.shape[0]), range(cm.shape[1])):\n",
    "        plt.text(j, i, cm[i, j],\n",
    "                 horizontalalignment=\"center\",\n",
    "                 color=\"white\" if cm[i, j] > thresh else \"black\")\n",
    "\n",
    "    plt.tight_layout()\n",
    "    plt.ylabel('True label')\n",
    "    plt.xlabel('Predicted label')"
   ]
  },
  {
   "cell_type": "code",
   "execution_count": 20,
   "id": "d265f468",
   "metadata": {
    "colab": {
     "base_uri": "https://localhost:8080/",
     "height": 311
    },
    "executionInfo": {
     "elapsed": 781,
     "status": "ok",
     "timestamp": 1648584199503,
     "user": {
      "displayName": "Chaithra K.C",
      "userId": "06590399226295405413"
     },
     "user_tz": 240
    },
    "id": "d265f468",
    "outputId": "931e78d3-6967-4853-875b-139b54c178b9"
   },
   "outputs": [
    {
     "data": {
      "image/png": "[encoded data removed]",
      "text/plain": [
       "<Figure size 432x288 with 2 Axes>"
      ]
     },
     "metadata": {
      "needs_background": "light"
     },
     "output_type": "display_data"
    }
   ],
   "source": [
    "# compute the confusion matrix\n",
    "confusion_gnb = confusion_matrix(Y_val, nb_pred) \n",
    "# plot the confusion matrix\n",
    "plot_confusion_matrix(confusion_gnb, classes = range(10)) "
   ]
  },
  {
   "cell_type": "code",
   "execution_count": 21,
   "id": "c3290383",
   "metadata": {
    "colab": {
     "base_uri": "https://localhost:8080/"
    },
    "executionInfo": {
     "elapsed": 7,
     "status": "ok",
     "timestamp": 1648584199504,
     "user": {
      "displayName": "Chaithra K.C",
      "userId": "06590399226295405413"
     },
     "user_tz": 240
    },
    "id": "c3290383",
    "outputId": "dcf07a41-5f9c-4a0a-9bcf-ece4da940b21"
   },
   "outputs": [
    {
     "name": "stdout",
     "output_type": "stream",
     "text": [
      "              precision    recall  f1-score   support\n",
      "\n",
      "           0       0.71      0.92      0.80      1682\n",
      "           1       0.78      0.96      0.86      1898\n",
      "           2       0.89      0.24      0.37      1664\n",
      "           3       0.69      0.59      0.63      1717\n",
      "           4       0.82      0.20      0.32      1666\n",
      "           5       0.70      0.05      0.10      1518\n",
      "           6       0.64      0.95      0.76      1637\n",
      "           7       0.92      0.33      0.48      1748\n",
      "           8       0.34      0.56      0.43      1603\n",
      "           9       0.38      0.94      0.54      1667\n",
      "\n",
      "    accuracy                           0.58     16800\n",
      "   macro avg       0.69      0.57      0.53     16800\n",
      "weighted avg       0.69      0.58      0.54     16800\n",
      "\n"
     ]
    }
   ],
   "source": [
    "print(classification_report(Y_val, nb_pred))"
   ]
  },
  {
   "cell_type": "markdown",
   "id": "5cd2e17c",
   "metadata": {
    "id": "5cd2e17c"
   },
   "source": [
    "#### Accuracy of Gaussian Naive Bayes classifier is 0.58 which is very low. Reason for low accuracy might be due to the fact that GNB assumes features to be normally distributed. "
   ]
  },
  {
   "cell_type": "markdown",
   "id": "e43ee537",
   "metadata": {
    "id": "e43ee537"
   },
   "source": [
    "#### Naive Bayes Classifiers:\n",
    "\n",
    "**(1) Bernoulli Naive Bayes** : It assumes that all our features are binary such that they take only two values. Means 0s can represent “word does not occur in the document” and 1s as \"word occurs in the document\" .\n",
    "\n",
    "**(2) Multinomial Naive Bayes** : Its is used when we have discrete data (e.g. movie ratings ranging 1 and 5 as each rating will have certain frequency to represent). In text learning we have the count of each word to predict the class or label.\n",
    "\n",
    "**(3) Gaussian Naive Bayes** : Because of the assumption of the normal distribution, Gaussian Naive Bayes is used in cases when all our features are continuous. For example in Iris dataset features are sepal width, petal width, sepal length, petal length. So its features can have different values in data set as width and length can vary. We can’t represent features in terms of their occurrences. This means data is continuous. Hence we use Gaussian Naive Bayes here.\n",
    "\n",
    "```Based on the above information about the different classifiers, MultiNominal Naive Bayes might be appropriate to predict discrete data (digits 0-9) ```\n",
    "\n",
    "External Reference - https://www.quora.com/What-is-the-difference-between-the-the-Gaussian-Bernoulli-Multinomial-and-the-regular-Naive-Bayes-algorithms\n"
   ]
  },
  {
   "cell_type": "markdown",
   "id": "d54588de",
   "metadata": {
    "id": "d54588de"
   },
   "source": [
    "# Multinomial Naive Bayes"
   ]
  },
  {
   "cell_type": "code",
   "execution_count": 22,
   "id": "7647cf7e",
   "metadata": {
    "colab": {
     "base_uri": "https://localhost:8080/"
    },
    "executionInfo": {
     "elapsed": 781,
     "status": "ok",
     "timestamp": 1648584200281,
     "user": {
      "displayName": "Chaithra K.C",
      "userId": "06590399226295405413"
     },
     "user_tz": 240
    },
    "id": "7647cf7e",
    "outputId": "98436fed-41bc-43ef-871b-22756dc8fd09"
   },
   "outputs": [
    {
     "name": "stdout",
     "output_type": "stream",
     "text": [
      "execution time of multinominal naive bayes classifier is 0.44364649999999983 seconds\n"
     ]
    }
   ],
   "source": [
    "\n",
    "start = timeit.default_timer() # start time\n",
    "\n",
    "clf_mnb = MultinomialNB()\n",
    "clf_mnb.fit(X_train, Y_train)\n",
    "\n",
    "stop = timeit.default_timer() # end time\n",
    "\n",
    "execution_time = stop-start\n",
    "print(f'execution time of multinominal naive bayes classifier is {str(execution_time)} seconds')  "
   ]
  },
  {
   "cell_type": "code",
   "execution_count": 23,
   "id": "8f933253",
   "metadata": {},
   "outputs": [
    {
     "data": {
      "text/plain": [
       "array([3, 1, 7, ..., 0, 2, 0], dtype=int64)"
      ]
     },
     "execution_count": 23,
     "metadata": {},
     "output_type": "execute_result"
    }
   ],
   "source": [
    "pred_mnb = clf_mnb.predict(X_val)\n",
    "pred_mnb"
   ]
  },
  {
   "cell_type": "code",
   "execution_count": 24,
   "id": "6e9adc72",
   "metadata": {
    "colab": {
     "base_uri": "https://localhost:8080/",
     "height": 394
    },
    "executionInfo": {
     "elapsed": 10,
     "status": "ok",
     "timestamp": 1648584200282,
     "user": {
      "displayName": "Chaithra K.C",
      "userId": "06590399226295405413"
     },
     "user_tz": 240
    },
    "id": "6e9adc72",
    "outputId": "1556858c-1aef-4ee8-e55e-c56791379fc7"
   },
   "outputs": [
    {
     "data": {
      "text/html": [
       "<div>\n",
       "<style scoped>\n",
       "    .dataframe tbody tr th:only-of-type {\n",
       "        vertical-align: middle;\n",
       "    }\n",
       "\n",
       "    .dataframe tbody tr th {\n",
       "        vertical-align: top;\n",
       "    }\n",
       "\n",
       "    .dataframe thead th {\n",
       "        text-align: right;\n",
       "    }\n",
       "</style>\n",
       "<table border=\"1\" class=\"dataframe\">\n",
       "  <thead>\n",
       "    <tr style=\"text-align: right;\">\n",
       "      <th>Predicted</th>\n",
       "      <th>0</th>\n",
       "      <th>1</th>\n",
       "      <th>2</th>\n",
       "      <th>3</th>\n",
       "      <th>4</th>\n",
       "      <th>5</th>\n",
       "      <th>6</th>\n",
       "      <th>7</th>\n",
       "      <th>8</th>\n",
       "      <th>9</th>\n",
       "    </tr>\n",
       "    <tr>\n",
       "      <th>Actual</th>\n",
       "      <th></th>\n",
       "      <th></th>\n",
       "      <th></th>\n",
       "      <th></th>\n",
       "      <th></th>\n",
       "      <th></th>\n",
       "      <th></th>\n",
       "      <th></th>\n",
       "      <th></th>\n",
       "      <th></th>\n",
       "    </tr>\n",
       "  </thead>\n",
       "  <tbody>\n",
       "    <tr>\n",
       "      <th>0</th>\n",
       "      <td>1534</td>\n",
       "      <td>0</td>\n",
       "      <td>8</td>\n",
       "      <td>3</td>\n",
       "      <td>1</td>\n",
       "      <td>17</td>\n",
       "      <td>38</td>\n",
       "      <td>0</td>\n",
       "      <td>78</td>\n",
       "      <td>3</td>\n",
       "    </tr>\n",
       "    <tr>\n",
       "      <th>1</th>\n",
       "      <td>0</td>\n",
       "      <td>1780</td>\n",
       "      <td>13</td>\n",
       "      <td>10</td>\n",
       "      <td>1</td>\n",
       "      <td>6</td>\n",
       "      <td>9</td>\n",
       "      <td>1</td>\n",
       "      <td>71</td>\n",
       "      <td>7</td>\n",
       "    </tr>\n",
       "    <tr>\n",
       "      <th>2</th>\n",
       "      <td>24</td>\n",
       "      <td>25</td>\n",
       "      <td>1387</td>\n",
       "      <td>36</td>\n",
       "      <td>16</td>\n",
       "      <td>3</td>\n",
       "      <td>68</td>\n",
       "      <td>15</td>\n",
       "      <td>85</td>\n",
       "      <td>5</td>\n",
       "    </tr>\n",
       "    <tr>\n",
       "      <th>3</th>\n",
       "      <td>10</td>\n",
       "      <td>34</td>\n",
       "      <td>80</td>\n",
       "      <td>1381</td>\n",
       "      <td>4</td>\n",
       "      <td>32</td>\n",
       "      <td>20</td>\n",
       "      <td>10</td>\n",
       "      <td>86</td>\n",
       "      <td>60</td>\n",
       "    </tr>\n",
       "    <tr>\n",
       "      <th>4</th>\n",
       "      <td>3</td>\n",
       "      <td>7</td>\n",
       "      <td>8</td>\n",
       "      <td>0</td>\n",
       "      <td>1200</td>\n",
       "      <td>3</td>\n",
       "      <td>44</td>\n",
       "      <td>2</td>\n",
       "      <td>67</td>\n",
       "      <td>332</td>\n",
       "    </tr>\n",
       "    <tr>\n",
       "      <th>5</th>\n",
       "      <td>39</td>\n",
       "      <td>15</td>\n",
       "      <td>11</td>\n",
       "      <td>183</td>\n",
       "      <td>37</td>\n",
       "      <td>1024</td>\n",
       "      <td>33</td>\n",
       "      <td>2</td>\n",
       "      <td>134</td>\n",
       "      <td>40</td>\n",
       "    </tr>\n",
       "    <tr>\n",
       "      <th>6</th>\n",
       "      <td>15</td>\n",
       "      <td>30</td>\n",
       "      <td>7</td>\n",
       "      <td>1</td>\n",
       "      <td>7</td>\n",
       "      <td>37</td>\n",
       "      <td>1516</td>\n",
       "      <td>0</td>\n",
       "      <td>24</td>\n",
       "      <td>0</td>\n",
       "    </tr>\n",
       "    <tr>\n",
       "      <th>7</th>\n",
       "      <td>9</td>\n",
       "      <td>28</td>\n",
       "      <td>15</td>\n",
       "      <td>5</td>\n",
       "      <td>38</td>\n",
       "      <td>0</td>\n",
       "      <td>4</td>\n",
       "      <td>1448</td>\n",
       "      <td>45</td>\n",
       "      <td>156</td>\n",
       "    </tr>\n",
       "    <tr>\n",
       "      <th>8</th>\n",
       "      <td>7</td>\n",
       "      <td>79</td>\n",
       "      <td>18</td>\n",
       "      <td>81</td>\n",
       "      <td>27</td>\n",
       "      <td>67</td>\n",
       "      <td>8</td>\n",
       "      <td>7</td>\n",
       "      <td>1257</td>\n",
       "      <td>52</td>\n",
       "    </tr>\n",
       "    <tr>\n",
       "      <th>9</th>\n",
       "      <td>8</td>\n",
       "      <td>12</td>\n",
       "      <td>6</td>\n",
       "      <td>22</td>\n",
       "      <td>135</td>\n",
       "      <td>3</td>\n",
       "      <td>0</td>\n",
       "      <td>36</td>\n",
       "      <td>54</td>\n",
       "      <td>1391</td>\n",
       "    </tr>\n",
       "  </tbody>\n",
       "</table>\n",
       "</div>"
      ],
      "text/plain": [
       "Predicted     0     1     2     3     4     5     6     7     8     9\n",
       "Actual                                                               \n",
       "0          1534     0     8     3     1    17    38     0    78     3\n",
       "1             0  1780    13    10     1     6     9     1    71     7\n",
       "2            24    25  1387    36    16     3    68    15    85     5\n",
       "3            10    34    80  1381     4    32    20    10    86    60\n",
       "4             3     7     8     0  1200     3    44     2    67   332\n",
       "5            39    15    11   183    37  1024    33     2   134    40\n",
       "6            15    30     7     1     7    37  1516     0    24     0\n",
       "7             9    28    15     5    38     0     4  1448    45   156\n",
       "8             7    79    18    81    27    67     8     7  1257    52\n",
       "9             8    12     6    22   135     3     0    36    54  1391"
      ]
     },
     "execution_count": 24,
     "metadata": {},
     "output_type": "execute_result"
    }
   ],
   "source": [
    "# validating testing data\n",
    "tab_mnb = pd.crosstab(Y_val, pred_mnb, rownames=['Actual'],colnames=['Predicted'])\n",
    "tab_mnb"
   ]
  },
  {
   "cell_type": "code",
   "execution_count": 25,
   "id": "7f75fcad",
   "metadata": {
    "colab": {
     "base_uri": "https://localhost:8080/",
     "height": 311
    },
    "executionInfo": {
     "elapsed": 977,
     "status": "ok",
     "timestamp": 1648584201251,
     "user": {
      "displayName": "Chaithra K.C",
      "userId": "06590399226295405413"
     },
     "user_tz": 240
    },
    "id": "7f75fcad",
    "outputId": "496e2556-ac12-47ea-9e4e-10902ed86842"
   },
   "outputs": [
    {
     "data": {
      "image/png": "[encoded data removed]",
      "text/plain": [
       "<Figure size 432x288 with 2 Axes>"
      ]
     },
     "metadata": {
      "needs_background": "light"
     },
     "output_type": "display_data"
    }
   ],
   "source": [
    "# compute the confusion matrix\n",
    "confusion_mnb = confusion_matrix(Y_val, pred_mnb) \n",
    "# plot the confusion matrix\n",
    "plot_confusion_matrix(confusion_mnb, classes = range(10)) "
   ]
  },
  {
   "cell_type": "code",
   "execution_count": 26,
   "id": "a0ce8594",
   "metadata": {
    "colab": {
     "base_uri": "https://localhost:8080/",
     "height": 297
    },
    "executionInfo": {
     "elapsed": 764,
     "status": "ok",
     "timestamp": 1648584202011,
     "user": {
      "displayName": "Chaithra K.C",
      "userId": "06590399226295405413"
     },
     "user_tz": 240
    },
    "id": "a0ce8594",
    "outputId": "d3878c11-c466-4777-e947-a79f55db91fa"
   },
   "outputs": [
    {
     "data": {
      "text/plain": [
       "<AxesSubplot:xlabel='Predicted', ylabel='Actual'>"
      ]
     },
     "execution_count": 26,
     "metadata": {},
     "output_type": "execute_result"
    },
    {
     "data": {
      "image/png": "[encoded data removed]",
      "text/plain": [
       "<Figure size 432x288 with 2 Axes>"
      ]
     },
     "metadata": {
      "needs_background": "light"
     },
     "output_type": "display_data"
    }
   ],
   "source": [
    "sns.heatmap(tab_mnb)"
   ]
  },
  {
   "cell_type": "code",
   "execution_count": 27,
   "id": "b96a0ea7",
   "metadata": {
    "colab": {
     "base_uri": "https://localhost:8080/"
    },
    "executionInfo": {
     "elapsed": 177,
     "status": "ok",
     "timestamp": 1648584202181,
     "user": {
      "displayName": "Chaithra K.C",
      "userId": "06590399226295405413"
     },
     "user_tz": 240
    },
    "id": "b96a0ea7",
    "outputId": "92eb9595-b90f-40f6-897c-f4276aebf115"
   },
   "outputs": [
    {
     "name": "stdout",
     "output_type": "stream",
     "text": [
      "              precision    recall  f1-score   support\n",
      "\n",
      "           0       0.93      0.91      0.92      1682\n",
      "           1       0.89      0.94      0.91      1898\n",
      "           2       0.89      0.83      0.86      1664\n",
      "           3       0.80      0.80      0.80      1717\n",
      "           4       0.82      0.72      0.77      1666\n",
      "           5       0.86      0.67      0.76      1518\n",
      "           6       0.87      0.93      0.90      1637\n",
      "           7       0.95      0.83      0.89      1748\n",
      "           8       0.66      0.78      0.72      1603\n",
      "           9       0.68      0.83      0.75      1667\n",
      "\n",
      "    accuracy                           0.83     16800\n",
      "   macro avg       0.84      0.83      0.83     16800\n",
      "weighted avg       0.84      0.83      0.83     16800\n",
      "\n"
     ]
    }
   ],
   "source": [
    "print(classification_report(Y_val, pred_mnb))"
   ]
  },
  {
   "cell_type": "markdown",
   "id": "8de1f566",
   "metadata": {
    "id": "8de1f566"
   },
   "source": [
    "##### 0.83 accuracy for Multinominal Naive Bayes Classifier"
   ]
  },
  {
   "cell_type": "markdown",
   "id": "120c8c01",
   "metadata": {
    "id": "120c8c01"
   },
   "source": [
    "# Decision Trees"
   ]
  },
  {
   "cell_type": "code",
   "execution_count": 28,
   "id": "4bfb3d08",
   "metadata": {
    "colab": {
     "base_uri": "https://localhost:8080/"
    },
    "executionInfo": {
     "elapsed": 22240,
     "status": "ok",
     "timestamp": 1648584224416,
     "user": {
      "displayName": "Chaithra K.C",
      "userId": "06590399226295405413"
     },
     "user_tz": 240
    },
    "id": "4bfb3d08",
    "outputId": "b12e0722-b82c-45d4-cdda-45bc2f4f9769"
   },
   "outputs": [
    {
     "data": {
      "text/plain": [
       "DecisionTreeClassifier(random_state=0)"
      ]
     },
     "execution_count": 28,
     "metadata": {},
     "output_type": "execute_result"
    }
   ],
   "source": [
    "# training the model\n",
    "clf = DecisionTreeClassifier(random_state=0, criterion='gini') # entropy to measure the purity of the split \n",
    "clf.fit(X_train,Y_train)"
   ]
  },
  {
   "cell_type": "code",
   "execution_count": 29,
   "id": "6b538294",
   "metadata": {
    "colab": {
     "base_uri": "https://localhost:8080/"
    },
    "executionInfo": {
     "elapsed": 14,
     "status": "ok",
     "timestamp": 1648584224417,
     "user": {
      "displayName": "Chaithra K.C",
      "userId": "06590399226295405413"
     },
     "user_tz": 240
    },
    "id": "6b538294",
    "outputId": "f0abf713-ff5c-4b45-afdd-f3187682826f"
   },
   "outputs": [
    {
     "data": {
      "text/plain": [
       "array([3, 1, 7, ..., 0, 2, 0], dtype=int64)"
      ]
     },
     "execution_count": 29,
     "metadata": {},
     "output_type": "execute_result"
    }
   ],
   "source": [
    "# predicting on test data\n",
    "dt_pred=clf.predict(X_val)\n",
    "dt_pred"
   ]
  },
  {
   "cell_type": "code",
   "execution_count": 30,
   "id": "ed531558",
   "metadata": {
    "colab": {
     "base_uri": "https://localhost:8080/",
     "height": 394
    },
    "executionInfo": {
     "elapsed": 206,
     "status": "ok",
     "timestamp": 1648584224616,
     "user": {
      "displayName": "Chaithra K.C",
      "userId": "06590399226295405413"
     },
     "user_tz": 240
    },
    "id": "ed531558",
    "outputId": "90e7b66d-fc8d-4f5b-f3e5-a38dc3d325ad"
   },
   "outputs": [
    {
     "data": {
      "text/html": [
       "<div>\n",
       "<style scoped>\n",
       "    .dataframe tbody tr th:only-of-type {\n",
       "        vertical-align: middle;\n",
       "    }\n",
       "\n",
       "    .dataframe tbody tr th {\n",
       "        vertical-align: top;\n",
       "    }\n",
       "\n",
       "    .dataframe thead th {\n",
       "        text-align: right;\n",
       "    }\n",
       "</style>\n",
       "<table border=\"1\" class=\"dataframe\">\n",
       "  <thead>\n",
       "    <tr style=\"text-align: right;\">\n",
       "      <th>Predicted</th>\n",
       "      <th>0</th>\n",
       "      <th>1</th>\n",
       "      <th>2</th>\n",
       "      <th>3</th>\n",
       "      <th>4</th>\n",
       "      <th>5</th>\n",
       "      <th>6</th>\n",
       "      <th>7</th>\n",
       "      <th>8</th>\n",
       "      <th>9</th>\n",
       "    </tr>\n",
       "    <tr>\n",
       "      <th>Actual</th>\n",
       "      <th></th>\n",
       "      <th></th>\n",
       "      <th></th>\n",
       "      <th></th>\n",
       "      <th></th>\n",
       "      <th></th>\n",
       "      <th></th>\n",
       "      <th></th>\n",
       "      <th></th>\n",
       "      <th></th>\n",
       "    </tr>\n",
       "  </thead>\n",
       "  <tbody>\n",
       "    <tr>\n",
       "      <th>0</th>\n",
       "      <td>1507</td>\n",
       "      <td>2</td>\n",
       "      <td>12</td>\n",
       "      <td>20</td>\n",
       "      <td>9</td>\n",
       "      <td>42</td>\n",
       "      <td>38</td>\n",
       "      <td>8</td>\n",
       "      <td>25</td>\n",
       "      <td>19</td>\n",
       "    </tr>\n",
       "    <tr>\n",
       "      <th>1</th>\n",
       "      <td>2</td>\n",
       "      <td>1806</td>\n",
       "      <td>18</td>\n",
       "      <td>10</td>\n",
       "      <td>7</td>\n",
       "      <td>12</td>\n",
       "      <td>7</td>\n",
       "      <td>8</td>\n",
       "      <td>19</td>\n",
       "      <td>9</td>\n",
       "    </tr>\n",
       "    <tr>\n",
       "      <th>2</th>\n",
       "      <td>23</td>\n",
       "      <td>29</td>\n",
       "      <td>1373</td>\n",
       "      <td>51</td>\n",
       "      <td>25</td>\n",
       "      <td>28</td>\n",
       "      <td>23</td>\n",
       "      <td>39</td>\n",
       "      <td>48</td>\n",
       "      <td>25</td>\n",
       "    </tr>\n",
       "    <tr>\n",
       "      <th>3</th>\n",
       "      <td>8</td>\n",
       "      <td>11</td>\n",
       "      <td>62</td>\n",
       "      <td>1369</td>\n",
       "      <td>19</td>\n",
       "      <td>91</td>\n",
       "      <td>15</td>\n",
       "      <td>26</td>\n",
       "      <td>80</td>\n",
       "      <td>36</td>\n",
       "    </tr>\n",
       "    <tr>\n",
       "      <th>4</th>\n",
       "      <td>11</td>\n",
       "      <td>13</td>\n",
       "      <td>27</td>\n",
       "      <td>8</td>\n",
       "      <td>1401</td>\n",
       "      <td>15</td>\n",
       "      <td>34</td>\n",
       "      <td>36</td>\n",
       "      <td>26</td>\n",
       "      <td>95</td>\n",
       "    </tr>\n",
       "    <tr>\n",
       "      <th>5</th>\n",
       "      <td>23</td>\n",
       "      <td>8</td>\n",
       "      <td>14</td>\n",
       "      <td>85</td>\n",
       "      <td>28</td>\n",
       "      <td>1235</td>\n",
       "      <td>35</td>\n",
       "      <td>15</td>\n",
       "      <td>44</td>\n",
       "      <td>31</td>\n",
       "    </tr>\n",
       "    <tr>\n",
       "      <th>6</th>\n",
       "      <td>21</td>\n",
       "      <td>6</td>\n",
       "      <td>26</td>\n",
       "      <td>14</td>\n",
       "      <td>29</td>\n",
       "      <td>48</td>\n",
       "      <td>1454</td>\n",
       "      <td>4</td>\n",
       "      <td>30</td>\n",
       "      <td>5</td>\n",
       "    </tr>\n",
       "    <tr>\n",
       "      <th>7</th>\n",
       "      <td>6</td>\n",
       "      <td>6</td>\n",
       "      <td>30</td>\n",
       "      <td>33</td>\n",
       "      <td>24</td>\n",
       "      <td>12</td>\n",
       "      <td>6</td>\n",
       "      <td>1563</td>\n",
       "      <td>20</td>\n",
       "      <td>48</td>\n",
       "    </tr>\n",
       "    <tr>\n",
       "      <th>8</th>\n",
       "      <td>15</td>\n",
       "      <td>24</td>\n",
       "      <td>42</td>\n",
       "      <td>51</td>\n",
       "      <td>32</td>\n",
       "      <td>52</td>\n",
       "      <td>32</td>\n",
       "      <td>22</td>\n",
       "      <td>1280</td>\n",
       "      <td>53</td>\n",
       "    </tr>\n",
       "    <tr>\n",
       "      <th>9</th>\n",
       "      <td>18</td>\n",
       "      <td>4</td>\n",
       "      <td>23</td>\n",
       "      <td>35</td>\n",
       "      <td>81</td>\n",
       "      <td>34</td>\n",
       "      <td>6</td>\n",
       "      <td>66</td>\n",
       "      <td>45</td>\n",
       "      <td>1355</td>\n",
       "    </tr>\n",
       "  </tbody>\n",
       "</table>\n",
       "</div>"
      ],
      "text/plain": [
       "Predicted     0     1     2     3     4     5     6     7     8     9\n",
       "Actual                                                               \n",
       "0          1507     2    12    20     9    42    38     8    25    19\n",
       "1             2  1806    18    10     7    12     7     8    19     9\n",
       "2            23    29  1373    51    25    28    23    39    48    25\n",
       "3             8    11    62  1369    19    91    15    26    80    36\n",
       "4            11    13    27     8  1401    15    34    36    26    95\n",
       "5            23     8    14    85    28  1235    35    15    44    31\n",
       "6            21     6    26    14    29    48  1454     4    30     5\n",
       "7             6     6    30    33    24    12     6  1563    20    48\n",
       "8            15    24    42    51    32    52    32    22  1280    53\n",
       "9            18     4    23    35    81    34     6    66    45  1355"
      ]
     },
     "execution_count": 30,
     "metadata": {},
     "output_type": "execute_result"
    }
   ],
   "source": [
    "# validating testing data\n",
    "tab_dt = pd.crosstab(Y_val, dt_pred, rownames=['Actual'],colnames=['Predicted'])\n",
    "tab_dt"
   ]
  },
  {
   "cell_type": "code",
   "execution_count": 31,
   "id": "48e2e9b4",
   "metadata": {
    "colab": {
     "base_uri": "https://localhost:8080/",
     "height": 297
    },
    "executionInfo": {
     "elapsed": 382,
     "status": "ok",
     "timestamp": 1648584224983,
     "user": {
      "displayName": "Chaithra K.C",
      "userId": "06590399226295405413"
     },
     "user_tz": 240
    },
    "id": "48e2e9b4",
    "outputId": "42ecdb1d-13dd-4c64-ba66-8113e0db775e"
   },
   "outputs": [
    {
     "data": {
      "text/plain": [
       "<AxesSubplot:xlabel='Predicted', ylabel='Actual'>"
      ]
     },
     "execution_count": 31,
     "metadata": {},
     "output_type": "execute_result"
    },
    {
     "data": {
      "image/png": "[encoded data removed]",
      "text/plain": [
       "<Figure size 432x288 with 2 Axes>"
      ]
     },
     "metadata": {
      "needs_background": "light"
     },
     "output_type": "display_data"
    }
   ],
   "source": [
    "sns.heatmap(tab_dt)"
   ]
  },
  {
   "cell_type": "code",
   "execution_count": 32,
   "id": "589ab540",
   "metadata": {
    "colab": {
     "base_uri": "https://localhost:8080/",
     "height": 311
    },
    "executionInfo": {
     "elapsed": 1410,
     "status": "ok",
     "timestamp": 1648584226385,
     "user": {
      "displayName": "Chaithra K.C",
      "userId": "06590399226295405413"
     },
     "user_tz": 240
    },
    "id": "589ab540",
    "outputId": "7b6a1846-7679-4c7d-940f-789d9c979eb5"
   },
   "outputs": [
    {
     "data": {
      "image/png": "[encoded data removed]",
      "text/plain": [
       "<Figure size 432x288 with 2 Axes>"
      ]
     },
     "metadata": {
      "needs_background": "light"
     },
     "output_type": "display_data"
    }
   ],
   "source": [
    "# compute the confusion matrix\n",
    "confusion_dt = confusion_matrix(Y_val, dt_pred) \n",
    "# plot the confusion matrix\n",
    "plot_confusion_matrix(confusion_dt, classes = range(10)) "
   ]
  },
  {
   "cell_type": "code",
   "execution_count": 33,
   "id": "566f439a",
   "metadata": {
    "colab": {
     "base_uri": "https://localhost:8080/"
    },
    "executionInfo": {
     "elapsed": 9,
     "status": "ok",
     "timestamp": 1648584226386,
     "user": {
      "displayName": "Chaithra K.C",
      "userId": "06590399226295405413"
     },
     "user_tz": 240
    },
    "id": "566f439a",
    "outputId": "2d4c07f8-fa9d-4036-d43f-7bc7adc9432c"
   },
   "outputs": [
    {
     "name": "stdout",
     "output_type": "stream",
     "text": [
      "              precision    recall  f1-score   support\n",
      "\n",
      "           0       0.92      0.90      0.91      1682\n",
      "           1       0.95      0.95      0.95      1898\n",
      "           2       0.84      0.83      0.83      1664\n",
      "           3       0.82      0.80      0.81      1717\n",
      "           4       0.85      0.84      0.84      1666\n",
      "           5       0.79      0.81      0.80      1518\n",
      "           6       0.88      0.89      0.88      1637\n",
      "           7       0.87      0.89      0.88      1748\n",
      "           8       0.79      0.80      0.80      1603\n",
      "           9       0.81      0.81      0.81      1667\n",
      "\n",
      "    accuracy                           0.85     16800\n",
      "   macro avg       0.85      0.85      0.85     16800\n",
      "weighted avg       0.85      0.85      0.85     16800\n",
      "\n"
     ]
    }
   ],
   "source": [
    "print(classification_report(Y_val, dt_pred))"
   ]
  },
  {
   "cell_type": "markdown",
   "id": "0438db1c",
   "metadata": {
    "id": "0438db1c"
   },
   "source": [
    "##### 0.85 accuracy for decision tree classifier"
   ]
  },
  {
   "cell_type": "markdown",
   "id": "05494ab7",
   "metadata": {},
   "source": [
    "#### MULTI FOLD CROSS VALIDATION"
   ]
  },
  {
   "cell_type": "code",
   "execution_count": 34,
   "id": "91eecff0",
   "metadata": {},
   "outputs": [
    {
     "name": "stdout",
     "output_type": "stream",
     "text": [
      "Fold:0, Train set: 16800, Test set:8400\n",
      "Fold:1, Train set: 16800, Test set:8400\n",
      "Fold:2, Train set: 16800, Test set:8400\n"
     ]
    }
   ],
   "source": [
    "from sklearn.model_selection import KFold, cross_val_score\n",
    "\n",
    "\n",
    "# 3 folds\n",
    "splits = 3\n",
    "kf =KFold(n_splits=splits, shuffle=True, random_state=42)\n",
    "\n",
    "total = 0\n",
    "# split()  method generate indices to split data into training and test set.\n",
    "for train_index, test_index in kf.split(X_train, Y_train):\n",
    "    print(f'Fold:{total}, Train set: {len(train_index)}, Test set:{len(test_index)}')\n",
    "    total += 1"
   ]
  },
  {
   "cell_type": "code",
   "execution_count": 35,
   "id": "9211727c",
   "metadata": {},
   "outputs": [
    {
     "name": "stdout",
     "output_type": "stream",
     "text": [
      "Scores (accuracy) for each fold are: [0.82642857 0.82154762 0.82130952]\n",
      "Average score: 0.82\n"
     ]
    }
   ],
   "source": [
    "#### Model Score Using KFold\n",
    "score = cross_val_score(DecisionTreeClassifier(random_state= 42), X_train, Y_train, cv= kf, scoring=\"accuracy\")\n",
    "print(f'Scores (accuracy) for each fold are: {score}')\n",
    "print(f'Average score: {\"{:.2f}\".format(score.mean())}')"
   ]
  },
  {
   "cell_type": "markdown",
   "id": "5a4c342f",
   "metadata": {},
   "source": [
    "#### Hyperparameter Tuning\n",
    "Here we are going to do tuning based on ‘max_depth’. We will try with max depth starting from 1 to 10 and depending on the final ‘accuracy’ score choose the value of max_depth."
   ]
  },
  {
   "cell_type": "code",
   "execution_count": 36,
   "id": "ea91d06b",
   "metadata": {},
   "outputs": [
    {
     "name": "stdout",
     "output_type": "stream",
     "text": [
      "Average score(1): 0.194\n",
      "Average score(2): 0.336\n",
      "Average score(3): 0.470\n",
      "Average score(4): 0.600\n",
      "Average score(5): 0.669\n",
      "Average score(6): 0.730\n",
      "Average score(7): 0.773\n",
      "Average score(8): 0.799\n",
      "Average score(9): 0.817\n",
      "Average score(10): 0.826\n",
      "Average score(11): 0.830\n",
      "Average score(15): 0.831\n",
      "Average score(20): 0.828\n",
      "Average score(25): 0.829\n",
      "Average score(30): 0.826\n"
     ]
    }
   ],
   "source": [
    "max_depth = [1,2,3,4,5,6,7,8,9,10,11,15,20,25,30]\n",
    "\n",
    "for val in max_depth:\n",
    "    score = cross_val_score(DecisionTreeClassifier(max_depth= val, random_state= 42), X_train, Y_train, cv= kf, scoring=\"accuracy\")\n",
    "    print(f'Average score({val}): {\"{:.3f}\".format(score.mean())}')"
   ]
  },
  {
   "cell_type": "markdown",
   "id": "583a3267",
   "metadata": {},
   "source": [
    "max_depth = 15 seems to be optimal from the above results"
   ]
  },
  {
   "cell_type": "markdown",
   "id": "c4ec97c5",
   "metadata": {},
   "source": [
    "# Decision Tree with max_depth=15 and gini impurity"
   ]
  },
  {
   "cell_type": "code",
   "execution_count": 37,
   "id": "9c26c275",
   "metadata": {},
   "outputs": [
    {
     "name": "stdout",
     "output_type": "stream",
     "text": [
      "execution time of decision tree classifier classifier is 4.807591300000013 seconds\n",
      "              precision    recall  f1-score   support\n",
      "\n",
      "           0       0.90      0.90      0.90      1682\n",
      "           1       0.93      0.95      0.94      1898\n",
      "           2       0.84      0.83      0.83      1664\n",
      "           3       0.83      0.82      0.82      1717\n",
      "           4       0.84      0.85      0.85      1666\n",
      "           5       0.81      0.81      0.81      1518\n",
      "           6       0.89      0.89      0.89      1637\n",
      "           7       0.87      0.90      0.89      1748\n",
      "           8       0.81      0.79      0.80      1603\n",
      "           9       0.83      0.81      0.82      1667\n",
      "\n",
      "    accuracy                           0.86     16800\n",
      "   macro avg       0.86      0.86      0.86     16800\n",
      "weighted avg       0.86      0.86      0.86     16800\n",
      "\n"
     ]
    },
    {
     "data": {
      "image/png": "[encoded data removed]",
      "text/plain": [
       "<Figure size 432x288 with 2 Axes>"
      ]
     },
     "metadata": {
      "needs_background": "light"
     },
     "output_type": "display_data"
    }
   ],
   "source": [
    "# training the model\n",
    "start = timeit.default_timer() # start time\n",
    "\n",
    "clf = DecisionTreeClassifier(random_state=0, criterion='gini', max_depth=15) # gini to measure the purity of the split \n",
    "clf.fit(X_train,Y_train)\n",
    "\n",
    "stop = timeit.default_timer() # end time\n",
    "\n",
    "execution_time = stop-start\n",
    "print(f'execution time of decision tree classifier classifier is {str(execution_time)} seconds')  \n",
    "\n",
    "# predicting on test data\n",
    "dt_pred=clf.predict(X_val)\n",
    "dt_pred\n",
    "\n",
    "# validating testing data\n",
    "tab_dt = pd.crosstab(Y_val, dt_pred, rownames=['Actual'],colnames=['Predicted'])\n",
    "tab_dt\n",
    "\n",
    "# compute the confusion matrix\n",
    "confusion_dt = confusion_matrix(Y_val, dt_pred) \n",
    "# plot the confusion matrix\n",
    "plot_confusion_matrix(confusion_dt, classes = range(10)) \n",
    "\n",
    "print(classification_report(Y_val, dt_pred))"
   ]
  },
  {
   "cell_type": "markdown",
   "id": "131c73ed",
   "metadata": {},
   "source": [
    "#### Decision Tree classifier with gini impurity to measure the quality of the split and max_depth of 15 increased the accuracy of the model by 0.1. Accuracy after hyperparameter tuning is 0.86"
   ]
  },
  {
   "cell_type": "markdown",
   "id": "aeb6cc6b",
   "metadata": {
    "id": "aeb6cc6b"
   },
   "source": [
    "# PREDICT TEST DATA USING DECISION TREE CLASSIFIER"
   ]
  },
  {
   "cell_type": "code",
   "execution_count": 38,
   "id": "ef003e15",
   "metadata": {
    "colab": {
     "base_uri": "https://localhost:8080/"
    },
    "executionInfo": {
     "elapsed": 215,
     "status": "ok",
     "timestamp": 1648584226597,
     "user": {
      "displayName": "Chaithra K.C",
      "userId": "06590399226295405413"
     },
     "user_tz": 240
    },
    "id": "ef003e15",
    "outputId": "ca5d7117-a027-4e92-ef8a-9c5ec5743004"
   },
   "outputs": [
    {
     "data": {
      "text/plain": [
       "array([2, 0, 9, ..., 3, 9, 2], dtype=int64)"
      ]
     },
     "execution_count": 38,
     "metadata": {},
     "output_type": "execute_result"
    }
   ],
   "source": [
    "test_pred = clf.predict(test)\n",
    "test_pred"
   ]
  },
  {
   "cell_type": "code",
   "execution_count": 39,
   "id": "4aff59c8",
   "metadata": {
    "colab": {
     "base_uri": "https://localhost:8080/",
     "height": 423
    },
    "executionInfo": {
     "elapsed": 16,
     "status": "ok",
     "timestamp": 1648584226598,
     "user": {
      "displayName": "Chaithra K.C",
      "userId": "06590399226295405413"
     },
     "user_tz": 240
    },
    "id": "4aff59c8",
    "outputId": "06331fc5-2ada-4880-8a24-03d52da3d554"
   },
   "outputs": [
    {
     "data": {
      "text/html": [
       "<div>\n",
       "<style scoped>\n",
       "    .dataframe tbody tr th:only-of-type {\n",
       "        vertical-align: middle;\n",
       "    }\n",
       "\n",
       "    .dataframe tbody tr th {\n",
       "        vertical-align: top;\n",
       "    }\n",
       "\n",
       "    .dataframe thead th {\n",
       "        text-align: right;\n",
       "    }\n",
       "</style>\n",
       "<table border=\"1\" class=\"dataframe\">\n",
       "  <thead>\n",
       "    <tr style=\"text-align: right;\">\n",
       "      <th></th>\n",
       "      <th>ImageId</th>\n",
       "      <th>Label</th>\n",
       "    </tr>\n",
       "  </thead>\n",
       "  <tbody>\n",
       "    <tr>\n",
       "      <th>0</th>\n",
       "      <td>1</td>\n",
       "      <td>2</td>\n",
       "    </tr>\n",
       "    <tr>\n",
       "      <th>1</th>\n",
       "      <td>2</td>\n",
       "      <td>0</td>\n",
       "    </tr>\n",
       "    <tr>\n",
       "      <th>2</th>\n",
       "      <td>3</td>\n",
       "      <td>9</td>\n",
       "    </tr>\n",
       "    <tr>\n",
       "      <th>3</th>\n",
       "      <td>4</td>\n",
       "      <td>9</td>\n",
       "    </tr>\n",
       "    <tr>\n",
       "      <th>4</th>\n",
       "      <td>5</td>\n",
       "      <td>3</td>\n",
       "    </tr>\n",
       "    <tr>\n",
       "      <th>...</th>\n",
       "      <td>...</td>\n",
       "      <td>...</td>\n",
       "    </tr>\n",
       "    <tr>\n",
       "      <th>27995</th>\n",
       "      <td>27996</td>\n",
       "      <td>9</td>\n",
       "    </tr>\n",
       "    <tr>\n",
       "      <th>27996</th>\n",
       "      <td>27997</td>\n",
       "      <td>7</td>\n",
       "    </tr>\n",
       "    <tr>\n",
       "      <th>27997</th>\n",
       "      <td>27998</td>\n",
       "      <td>3</td>\n",
       "    </tr>\n",
       "    <tr>\n",
       "      <th>27998</th>\n",
       "      <td>27999</td>\n",
       "      <td>9</td>\n",
       "    </tr>\n",
       "    <tr>\n",
       "      <th>27999</th>\n",
       "      <td>28000</td>\n",
       "      <td>2</td>\n",
       "    </tr>\n",
       "  </tbody>\n",
       "</table>\n",
       "<p>28000 rows × 2 columns</p>\n",
       "</div>"
      ],
      "text/plain": [
       "       ImageId  Label\n",
       "0            1      2\n",
       "1            2      0\n",
       "2            3      9\n",
       "3            4      9\n",
       "4            5      3\n",
       "...        ...    ...\n",
       "27995    27996      9\n",
       "27996    27997      7\n",
       "27997    27998      3\n",
       "27998    27999      9\n",
       "27999    28000      2\n",
       "\n",
       "[28000 rows x 2 columns]"
      ]
     },
     "execution_count": 39,
     "metadata": {},
     "output_type": "execute_result"
    }
   ],
   "source": [
    "submission  = pd.DataFrame({'ImageId':pd.Series(range(1,test.shape[0]+1)),'Label':test_pred})\n",
    "submission"
   ]
  },
  {
   "cell_type": "code",
   "execution_count": 40,
   "id": "e79ac9c5",
   "metadata": {
    "executionInfo": {
     "elapsed": 15,
     "status": "ok",
     "timestamp": 1648584226599,
     "user": {
      "displayName": "Chaithra K.C",
      "userId": "06590399226295405413"
     },
     "user_tz": 240
    },
    "id": "e79ac9c5"
   },
   "outputs": [],
   "source": [
    "submission.to_csv(\"decision_tree_mnist.csv\",index=False)"
   ]
  }
 ],
 "metadata": {
  "colab": {
   "collapsed_sections": [
    "5cd2e17c",
    "e43ee537"
   ],
   "name": "Handwriting Recognition - Naive Bayes and Decision Tree.ipynb",
   "provenance": []
  },
  "kernelspec": {
   "display_name": "Python 3 (ipykernel)",
   "language": "python",
   "name": "python3"
  },
  "language_info": {
   "codemirror_mode": {
    "name": "ipython",
    "version": 3
   },
   "file_extension": ".py",
   "mimetype": "text/x-python",
   "name": "python",
   "nbconvert_exporter": "python",
   "pygments_lexer": "ipython3",
   "version": "3.9.7"
  }
 },
 "nbformat": 4,
 "nbformat_minor": 5
}
