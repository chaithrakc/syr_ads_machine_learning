{
 "cells": [
  {
   "cell_type": "code",
   "execution_count": 1,
   "id": "dcc36938",
   "metadata": {},
   "outputs": [],
   "source": [
    "import pandas as pd\n",
    "import seaborn as sns\n",
    "import sklearn\n",
    "from sklearn.naive_bayes import GaussianNB\n",
    "from sklearn.model_selection import train_test_split\n",
    "from sklearn.tree import DecisionTreeClassifier"
   ]
  },
  {
   "cell_type": "code",
   "execution_count": 2,
   "id": "19ae31ae",
   "metadata": {},
   "outputs": [
    {
     "data": {
      "text/plain": [
       "(85, 72)"
      ]
     },
     "execution_count": 2,
     "metadata": {},
     "output_type": "execute_result"
    }
   ],
   "source": [
    "federal_df = pd.read_csv('HW4-data-fedPapers85.csv')\n",
    "federal_df.shape"
   ]
  },
  {
   "cell_type": "code",
   "execution_count": 3,
   "id": "9fac0b60",
   "metadata": {},
   "outputs": [
    {
     "data": {
      "text/html": [
       "<div>\n",
       "<style scoped>\n",
       "    .dataframe tbody tr th:only-of-type {\n",
       "        vertical-align: middle;\n",
       "    }\n",
       "\n",
       "    .dataframe tbody tr th {\n",
       "        vertical-align: top;\n",
       "    }\n",
       "\n",
       "    .dataframe thead th {\n",
       "        text-align: right;\n",
       "    }\n",
       "</style>\n",
       "<table border=\"1\" class=\"dataframe\">\n",
       "  <thead>\n",
       "    <tr style=\"text-align: right;\">\n",
       "      <th></th>\n",
       "      <th>author</th>\n",
       "      <th>filename</th>\n",
       "      <th>a</th>\n",
       "      <th>all</th>\n",
       "      <th>also</th>\n",
       "      <th>an</th>\n",
       "      <th>and</th>\n",
       "      <th>any</th>\n",
       "      <th>are</th>\n",
       "      <th>as</th>\n",
       "      <th>...</th>\n",
       "      <th>was</th>\n",
       "      <th>were</th>\n",
       "      <th>what</th>\n",
       "      <th>when</th>\n",
       "      <th>which</th>\n",
       "      <th>who</th>\n",
       "      <th>will</th>\n",
       "      <th>with</th>\n",
       "      <th>would</th>\n",
       "      <th>your</th>\n",
       "    </tr>\n",
       "  </thead>\n",
       "  <tbody>\n",
       "    <tr>\n",
       "      <th>0</th>\n",
       "      <td>dispt</td>\n",
       "      <td>dispt_fed_49.txt</td>\n",
       "      <td>0.280</td>\n",
       "      <td>0.052</td>\n",
       "      <td>0.009</td>\n",
       "      <td>0.096</td>\n",
       "      <td>0.358</td>\n",
       "      <td>0.026</td>\n",
       "      <td>0.131</td>\n",
       "      <td>0.122</td>\n",
       "      <td>...</td>\n",
       "      <td>0.009</td>\n",
       "      <td>0.017</td>\n",
       "      <td>0.000</td>\n",
       "      <td>0.009</td>\n",
       "      <td>0.175</td>\n",
       "      <td>0.044</td>\n",
       "      <td>0.009</td>\n",
       "      <td>0.087</td>\n",
       "      <td>0.192</td>\n",
       "      <td>0.0</td>\n",
       "    </tr>\n",
       "    <tr>\n",
       "      <th>1</th>\n",
       "      <td>dispt</td>\n",
       "      <td>dispt_fed_50.txt</td>\n",
       "      <td>0.177</td>\n",
       "      <td>0.063</td>\n",
       "      <td>0.013</td>\n",
       "      <td>0.038</td>\n",
       "      <td>0.393</td>\n",
       "      <td>0.063</td>\n",
       "      <td>0.051</td>\n",
       "      <td>0.139</td>\n",
       "      <td>...</td>\n",
       "      <td>0.051</td>\n",
       "      <td>0.000</td>\n",
       "      <td>0.000</td>\n",
       "      <td>0.000</td>\n",
       "      <td>0.114</td>\n",
       "      <td>0.038</td>\n",
       "      <td>0.089</td>\n",
       "      <td>0.063</td>\n",
       "      <td>0.139</td>\n",
       "      <td>0.0</td>\n",
       "    </tr>\n",
       "    <tr>\n",
       "      <th>2</th>\n",
       "      <td>dispt</td>\n",
       "      <td>dispt_fed_51.txt</td>\n",
       "      <td>0.339</td>\n",
       "      <td>0.090</td>\n",
       "      <td>0.008</td>\n",
       "      <td>0.030</td>\n",
       "      <td>0.301</td>\n",
       "      <td>0.008</td>\n",
       "      <td>0.068</td>\n",
       "      <td>0.203</td>\n",
       "      <td>...</td>\n",
       "      <td>0.008</td>\n",
       "      <td>0.015</td>\n",
       "      <td>0.008</td>\n",
       "      <td>0.000</td>\n",
       "      <td>0.105</td>\n",
       "      <td>0.008</td>\n",
       "      <td>0.173</td>\n",
       "      <td>0.045</td>\n",
       "      <td>0.068</td>\n",
       "      <td>0.0</td>\n",
       "    </tr>\n",
       "    <tr>\n",
       "      <th>3</th>\n",
       "      <td>dispt</td>\n",
       "      <td>dispt_fed_52.txt</td>\n",
       "      <td>0.270</td>\n",
       "      <td>0.024</td>\n",
       "      <td>0.016</td>\n",
       "      <td>0.024</td>\n",
       "      <td>0.262</td>\n",
       "      <td>0.056</td>\n",
       "      <td>0.064</td>\n",
       "      <td>0.111</td>\n",
       "      <td>...</td>\n",
       "      <td>0.087</td>\n",
       "      <td>0.079</td>\n",
       "      <td>0.008</td>\n",
       "      <td>0.024</td>\n",
       "      <td>0.167</td>\n",
       "      <td>0.000</td>\n",
       "      <td>0.079</td>\n",
       "      <td>0.079</td>\n",
       "      <td>0.064</td>\n",
       "      <td>0.0</td>\n",
       "    </tr>\n",
       "    <tr>\n",
       "      <th>4</th>\n",
       "      <td>dispt</td>\n",
       "      <td>dispt_fed_53.txt</td>\n",
       "      <td>0.303</td>\n",
       "      <td>0.054</td>\n",
       "      <td>0.027</td>\n",
       "      <td>0.034</td>\n",
       "      <td>0.404</td>\n",
       "      <td>0.040</td>\n",
       "      <td>0.128</td>\n",
       "      <td>0.148</td>\n",
       "      <td>...</td>\n",
       "      <td>0.027</td>\n",
       "      <td>0.020</td>\n",
       "      <td>0.020</td>\n",
       "      <td>0.007</td>\n",
       "      <td>0.155</td>\n",
       "      <td>0.027</td>\n",
       "      <td>0.168</td>\n",
       "      <td>0.074</td>\n",
       "      <td>0.040</td>\n",
       "      <td>0.0</td>\n",
       "    </tr>\n",
       "  </tbody>\n",
       "</table>\n",
       "<p>5 rows × 72 columns</p>\n",
       "</div>"
      ],
      "text/plain": [
       "  author          filename      a    all   also     an    and    any    are  \\\n",
       "0  dispt  dispt_fed_49.txt  0.280  0.052  0.009  0.096  0.358  0.026  0.131   \n",
       "1  dispt  dispt_fed_50.txt  0.177  0.063  0.013  0.038  0.393  0.063  0.051   \n",
       "2  dispt  dispt_fed_51.txt  0.339  0.090  0.008  0.030  0.301  0.008  0.068   \n",
       "3  dispt  dispt_fed_52.txt  0.270  0.024  0.016  0.024  0.262  0.056  0.064   \n",
       "4  dispt  dispt_fed_53.txt  0.303  0.054  0.027  0.034  0.404  0.040  0.128   \n",
       "\n",
       "      as  ...    was   were   what   when  which    who   will   with  would  \\\n",
       "0  0.122  ...  0.009  0.017  0.000  0.009  0.175  0.044  0.009  0.087  0.192   \n",
       "1  0.139  ...  0.051  0.000  0.000  0.000  0.114  0.038  0.089  0.063  0.139   \n",
       "2  0.203  ...  0.008  0.015  0.008  0.000  0.105  0.008  0.173  0.045  0.068   \n",
       "3  0.111  ...  0.087  0.079  0.008  0.024  0.167  0.000  0.079  0.079  0.064   \n",
       "4  0.148  ...  0.027  0.020  0.020  0.007  0.155  0.027  0.168  0.074  0.040   \n",
       "\n",
       "   your  \n",
       "0   0.0  \n",
       "1   0.0  \n",
       "2   0.0  \n",
       "3   0.0  \n",
       "4   0.0  \n",
       "\n",
       "[5 rows x 72 columns]"
      ]
     },
     "execution_count": 3,
     "metadata": {},
     "output_type": "execute_result"
    }
   ],
   "source": [
    "federal_df.head()"
   ]
  },
  {
   "cell_type": "code",
   "execution_count": 4,
   "id": "e60144b4",
   "metadata": {},
   "outputs": [
    {
     "data": {
      "text/plain": [
       "<AxesSubplot:>"
      ]
     },
     "execution_count": 4,
     "metadata": {},
     "output_type": "execute_result"
    },
    {
     "data": {
      "image/png": "[encoded data removed]",
      "text/plain": [
       "<Figure size 432x288 with 2 Axes>"
      ]
     },
     "metadata": {
      "needs_background": "light"
     },
     "output_type": "display_data"
    }
   ],
   "source": [
    "# checking for missing values\n",
    "sns.heatmap(federal_df.isnull())"
   ]
  },
  {
   "cell_type": "code",
   "execution_count": 5,
   "id": "415893bf",
   "metadata": {},
   "outputs": [
    {
     "data": {
      "text/plain": [
       "<AxesSubplot:>"
      ]
     },
     "execution_count": 5,
     "metadata": {},
     "output_type": "execute_result"
    },
    {
     "data": {
      "image/png": "[encoded data removed]",
      "text/plain": [
       "<Figure size 432x288 with 2 Axes>"
      ]
     },
     "metadata": {
      "needs_background": "light"
     },
     "output_type": "display_data"
    }
   ],
   "source": [
    "sns.heatmap(federal_df.isna())"
   ]
  },
  {
   "cell_type": "markdown",
   "id": "28cab312",
   "metadata": {},
   "source": [
    "#### 1. DATA  PREPARATION\n",
    "\n",
    "Separating original dataset to training and testing data for classification."
   ]
  },
  {
   "cell_type": "code",
   "execution_count": 6,
   "id": "65b6e387",
   "metadata": {},
   "outputs": [
    {
     "data": {
      "text/html": [
       "<div>\n",
       "<style scoped>\n",
       "    .dataframe tbody tr th:only-of-type {\n",
       "        vertical-align: middle;\n",
       "    }\n",
       "\n",
       "    .dataframe tbody tr th {\n",
       "        vertical-align: top;\n",
       "    }\n",
       "\n",
       "    .dataframe thead th {\n",
       "        text-align: right;\n",
       "    }\n",
       "</style>\n",
       "<table border=\"1\" class=\"dataframe\">\n",
       "  <thead>\n",
       "    <tr style=\"text-align: right;\">\n",
       "      <th></th>\n",
       "      <th>author</th>\n",
       "      <th>filename</th>\n",
       "      <th>a</th>\n",
       "      <th>all</th>\n",
       "      <th>also</th>\n",
       "      <th>an</th>\n",
       "      <th>and</th>\n",
       "      <th>any</th>\n",
       "      <th>are</th>\n",
       "      <th>as</th>\n",
       "      <th>...</th>\n",
       "      <th>was</th>\n",
       "      <th>were</th>\n",
       "      <th>what</th>\n",
       "      <th>when</th>\n",
       "      <th>which</th>\n",
       "      <th>who</th>\n",
       "      <th>will</th>\n",
       "      <th>with</th>\n",
       "      <th>would</th>\n",
       "      <th>your</th>\n",
       "    </tr>\n",
       "  </thead>\n",
       "  <tbody>\n",
       "    <tr>\n",
       "      <th>11</th>\n",
       "      <td>Hamilton</td>\n",
       "      <td>Hamilton_fed_1.txt</td>\n",
       "      <td>0.213</td>\n",
       "      <td>0.083</td>\n",
       "      <td>0.000</td>\n",
       "      <td>0.083</td>\n",
       "      <td>0.343</td>\n",
       "      <td>0.056</td>\n",
       "      <td>0.111</td>\n",
       "      <td>0.093</td>\n",
       "      <td>...</td>\n",
       "      <td>0.000</td>\n",
       "      <td>0.000</td>\n",
       "      <td>0.000</td>\n",
       "      <td>0.009</td>\n",
       "      <td>0.158</td>\n",
       "      <td>0.074</td>\n",
       "      <td>0.222</td>\n",
       "      <td>0.046</td>\n",
       "      <td>0.019</td>\n",
       "      <td>0.074</td>\n",
       "    </tr>\n",
       "    <tr>\n",
       "      <th>12</th>\n",
       "      <td>Hamilton</td>\n",
       "      <td>Hamilton_fed_11.txt</td>\n",
       "      <td>0.369</td>\n",
       "      <td>0.070</td>\n",
       "      <td>0.006</td>\n",
       "      <td>0.076</td>\n",
       "      <td>0.411</td>\n",
       "      <td>0.023</td>\n",
       "      <td>0.053</td>\n",
       "      <td>0.117</td>\n",
       "      <td>...</td>\n",
       "      <td>0.000</td>\n",
       "      <td>0.012</td>\n",
       "      <td>0.012</td>\n",
       "      <td>0.012</td>\n",
       "      <td>0.147</td>\n",
       "      <td>0.029</td>\n",
       "      <td>0.094</td>\n",
       "      <td>0.129</td>\n",
       "      <td>0.270</td>\n",
       "      <td>0.000</td>\n",
       "    </tr>\n",
       "    <tr>\n",
       "      <th>13</th>\n",
       "      <td>Hamilton</td>\n",
       "      <td>Hamilton_fed_12.txt</td>\n",
       "      <td>0.305</td>\n",
       "      <td>0.047</td>\n",
       "      <td>0.007</td>\n",
       "      <td>0.068</td>\n",
       "      <td>0.386</td>\n",
       "      <td>0.047</td>\n",
       "      <td>0.102</td>\n",
       "      <td>0.108</td>\n",
       "      <td>...</td>\n",
       "      <td>0.000</td>\n",
       "      <td>0.000</td>\n",
       "      <td>0.007</td>\n",
       "      <td>0.000</td>\n",
       "      <td>0.156</td>\n",
       "      <td>0.007</td>\n",
       "      <td>0.074</td>\n",
       "      <td>0.122</td>\n",
       "      <td>0.149</td>\n",
       "      <td>0.000</td>\n",
       "    </tr>\n",
       "    <tr>\n",
       "      <th>14</th>\n",
       "      <td>Hamilton</td>\n",
       "      <td>Hamilton_fed_13.txt</td>\n",
       "      <td>0.391</td>\n",
       "      <td>0.045</td>\n",
       "      <td>0.015</td>\n",
       "      <td>0.030</td>\n",
       "      <td>0.270</td>\n",
       "      <td>0.045</td>\n",
       "      <td>0.060</td>\n",
       "      <td>0.090</td>\n",
       "      <td>...</td>\n",
       "      <td>0.000</td>\n",
       "      <td>0.000</td>\n",
       "      <td>0.000</td>\n",
       "      <td>0.045</td>\n",
       "      <td>0.165</td>\n",
       "      <td>0.045</td>\n",
       "      <td>0.135</td>\n",
       "      <td>0.150</td>\n",
       "      <td>0.210</td>\n",
       "      <td>0.000</td>\n",
       "    </tr>\n",
       "    <tr>\n",
       "      <th>15</th>\n",
       "      <td>Hamilton</td>\n",
       "      <td>Hamilton_fed_15.txt</td>\n",
       "      <td>0.327</td>\n",
       "      <td>0.096</td>\n",
       "      <td>0.000</td>\n",
       "      <td>0.086</td>\n",
       "      <td>0.356</td>\n",
       "      <td>0.014</td>\n",
       "      <td>0.086</td>\n",
       "      <td>0.072</td>\n",
       "      <td>...</td>\n",
       "      <td>0.014</td>\n",
       "      <td>0.038</td>\n",
       "      <td>0.014</td>\n",
       "      <td>0.019</td>\n",
       "      <td>0.264</td>\n",
       "      <td>0.029</td>\n",
       "      <td>0.091</td>\n",
       "      <td>0.086</td>\n",
       "      <td>0.062</td>\n",
       "      <td>0.010</td>\n",
       "    </tr>\n",
       "  </tbody>\n",
       "</table>\n",
       "<p>5 rows × 72 columns</p>\n",
       "</div>"
      ],
      "text/plain": [
       "      author             filename      a    all   also     an    and    any  \\\n",
       "11  Hamilton   Hamilton_fed_1.txt  0.213  0.083  0.000  0.083  0.343  0.056   \n",
       "12  Hamilton  Hamilton_fed_11.txt  0.369  0.070  0.006  0.076  0.411  0.023   \n",
       "13  Hamilton  Hamilton_fed_12.txt  0.305  0.047  0.007  0.068  0.386  0.047   \n",
       "14  Hamilton  Hamilton_fed_13.txt  0.391  0.045  0.015  0.030  0.270  0.045   \n",
       "15  Hamilton  Hamilton_fed_15.txt  0.327  0.096  0.000  0.086  0.356  0.014   \n",
       "\n",
       "      are     as  ...    was   were   what   when  which    who   will   with  \\\n",
       "11  0.111  0.093  ...  0.000  0.000  0.000  0.009  0.158  0.074  0.222  0.046   \n",
       "12  0.053  0.117  ...  0.000  0.012  0.012  0.012  0.147  0.029  0.094  0.129   \n",
       "13  0.102  0.108  ...  0.000  0.000  0.007  0.000  0.156  0.007  0.074  0.122   \n",
       "14  0.060  0.090  ...  0.000  0.000  0.000  0.045  0.165  0.045  0.135  0.150   \n",
       "15  0.086  0.072  ...  0.014  0.038  0.014  0.019  0.264  0.029  0.091  0.086   \n",
       "\n",
       "    would   your  \n",
       "11  0.019  0.074  \n",
       "12  0.270  0.000  \n",
       "13  0.149  0.000  \n",
       "14  0.210  0.000  \n",
       "15  0.062  0.010  \n",
       "\n",
       "[5 rows x 72 columns]"
      ]
     },
     "execution_count": 6,
     "metadata": {},
     "output_type": "execute_result"
    }
   ],
   "source": [
    "# removing disputed essays from the training and testing data\n",
    "temp_df = federal_df[federal_df['author']!='dispt']\n",
    "temp_df = temp_df[temp_df['author']!='Jay']\n",
    "temp_df = temp_df[temp_df['author']!='HM']\n",
    "\n",
    "temp_df.head()"
   ]
  },
  {
   "cell_type": "code",
   "execution_count": 7,
   "id": "c87b5494",
   "metadata": {},
   "outputs": [],
   "source": [
    "# disputed essays\n",
    "distputed_essays = federal_df[federal_df['author']=='dispt']\n",
    "distputed_train = distputed_essays.iloc[:,2:]"
   ]
  },
  {
   "cell_type": "code",
   "execution_count": 8,
   "id": "04c155a1",
   "metadata": {},
   "outputs": [
    {
     "data": {
      "text/plain": [
       "(66, 72)"
      ]
     },
     "execution_count": 8,
     "metadata": {},
     "output_type": "execute_result"
    }
   ],
   "source": [
    "temp_df.shape # 74 samples used for train and testing the model which does not contain any disputed essays"
   ]
  },
  {
   "cell_type": "code",
   "execution_count": 9,
   "id": "90d65ed7",
   "metadata": {},
   "outputs": [
    {
     "data": {
      "text/plain": [
       "(11, 72)"
      ]
     },
     "execution_count": 9,
     "metadata": {},
     "output_type": "execute_result"
    }
   ],
   "source": [
    "distputed_essays.shape # 11 disupted essays that needs to be classified"
   ]
  },
  {
   "cell_type": "code",
   "execution_count": 10,
   "id": "a6c4b6f8",
   "metadata": {},
   "outputs": [],
   "source": [
    "X = temp_df.iloc[:,2:] # independent variables\n",
    "Y = temp_df['author'] # dependent variables"
   ]
  },
  {
   "cell_type": "code",
   "execution_count": 11,
   "id": "4e313752",
   "metadata": {},
   "outputs": [
    {
     "data": {
      "text/plain": [
       "array(['Hamilton', 'Madison'], dtype=object)"
      ]
     },
     "execution_count": 11,
     "metadata": {},
     "output_type": "execute_result"
    }
   ],
   "source": [
    "Y.unique() # categories to predict"
   ]
  },
  {
   "cell_type": "code",
   "execution_count": 12,
   "id": "6dafe212",
   "metadata": {},
   "outputs": [],
   "source": [
    "# splitting the data \n",
    "X_train, X_test, Y_train, Y_test = train_test_split(X, Y, random_state=0, test_size=0.4) "
   ]
  },
  {
   "cell_type": "markdown",
   "id": "8a90778c",
   "metadata": {},
   "source": [
    "#### 2. MODEL BUILDING\n",
    "\n",
    "#### Model-1 : Naive Bayes Classifier"
   ]
  },
  {
   "cell_type": "code",
   "execution_count": 13,
   "id": "145d9cdc",
   "metadata": {},
   "outputs": [
    {
     "data": {
      "text/plain": [
       "GaussianNB()"
      ]
     },
     "execution_count": 13,
     "metadata": {},
     "output_type": "execute_result"
    }
   ],
   "source": [
    "# instantiate the model\n",
    "gnb = GaussianNB()\n",
    "\n",
    "\n",
    "# fit the model\n",
    "gnb.fit(X_train, Y_train)"
   ]
  },
  {
   "cell_type": "code",
   "execution_count": 14,
   "id": "42956936",
   "metadata": {},
   "outputs": [
    {
     "data": {
      "text/plain": [
       "array(['Madison', 'Hamilton', 'Hamilton', 'Madison', 'Hamilton',\n",
       "       'Madison', 'Hamilton', 'Hamilton', 'Hamilton', 'Hamilton',\n",
       "       'Madison', 'Hamilton', 'Hamilton', 'Hamilton', 'Hamilton',\n",
       "       'Hamilton', 'Hamilton', 'Madison', 'Madison', 'Hamilton',\n",
       "       'Hamilton', 'Hamilton', 'Madison', 'Hamilton', 'Hamilton',\n",
       "       'Hamilton', 'Hamilton', 'Hamilton', 'Hamilton', 'Hamilton',\n",
       "       'Hamilton', 'Hamilton', 'Madison', 'Madison', 'Hamilton',\n",
       "       'Hamilton', 'Madison', 'Hamilton', 'Hamilton'], dtype='<U8')"
      ]
     },
     "execution_count": 14,
     "metadata": {},
     "output_type": "execute_result"
    }
   ],
   "source": [
    "# predict\n",
    "naive_train_pred = gnb.predict(X_train)\n",
    "\n",
    "naive_train_pred"
   ]
  },
  {
   "cell_type": "code",
   "execution_count": 15,
   "id": "05b89f21",
   "metadata": {},
   "outputs": [
    {
     "data": {
      "text/html": [
       "<div>\n",
       "<style scoped>\n",
       "    .dataframe tbody tr th:only-of-type {\n",
       "        vertical-align: middle;\n",
       "    }\n",
       "\n",
       "    .dataframe tbody tr th {\n",
       "        vertical-align: top;\n",
       "    }\n",
       "\n",
       "    .dataframe thead th {\n",
       "        text-align: right;\n",
       "    }\n",
       "</style>\n",
       "<table border=\"1\" class=\"dataframe\">\n",
       "  <thead>\n",
       "    <tr style=\"text-align: right;\">\n",
       "      <th>Predicted</th>\n",
       "      <th>Hamilton</th>\n",
       "      <th>Madison</th>\n",
       "    </tr>\n",
       "    <tr>\n",
       "      <th>Actual</th>\n",
       "      <th></th>\n",
       "      <th></th>\n",
       "    </tr>\n",
       "  </thead>\n",
       "  <tbody>\n",
       "    <tr>\n",
       "      <th>Hamilton</th>\n",
       "      <td>29</td>\n",
       "      <td>0</td>\n",
       "    </tr>\n",
       "    <tr>\n",
       "      <th>Madison</th>\n",
       "      <td>0</td>\n",
       "      <td>10</td>\n",
       "    </tr>\n",
       "  </tbody>\n",
       "</table>\n",
       "</div>"
      ],
      "text/plain": [
       "Predicted  Hamilton  Madison\n",
       "Actual                      \n",
       "Hamilton         29        0\n",
       "Madison           0       10"
      ]
     },
     "execution_count": 15,
     "metadata": {},
     "output_type": "execute_result"
    }
   ],
   "source": [
    "# validating training data\n",
    "tab = pd.crosstab(Y_train, naive_train_pred, rownames=['Actual'],colnames=['Predicted'])\n",
    "tab"
   ]
  },
  {
   "cell_type": "code",
   "execution_count": 16,
   "id": "21cd58d3",
   "metadata": {},
   "outputs": [
    {
     "data": {
      "text/plain": [
       "array(['Hamilton', 'Hamilton', 'Hamilton', 'Hamilton', 'Hamilton',\n",
       "       'Hamilton', 'Hamilton', 'Hamilton', 'Hamilton', 'Hamilton',\n",
       "       'Hamilton', 'Hamilton', 'Hamilton', 'Hamilton', 'Madison',\n",
       "       'Hamilton', 'Hamilton', 'Hamilton', 'Hamilton', 'Hamilton',\n",
       "       'Hamilton', 'Madison', 'Hamilton', 'Hamilton', 'Hamilton',\n",
       "       'Hamilton', 'Hamilton'], dtype='<U8')"
      ]
     },
     "execution_count": 16,
     "metadata": {},
     "output_type": "execute_result"
    }
   ],
   "source": [
    "# predict\n",
    "naive_test_pred = gnb.predict(X_test)\n",
    "\n",
    "naive_test_pred"
   ]
  },
  {
   "cell_type": "code",
   "execution_count": 17,
   "id": "ffcab1eb",
   "metadata": {},
   "outputs": [
    {
     "data": {
      "text/html": [
       "<div>\n",
       "<style scoped>\n",
       "    .dataframe tbody tr th:only-of-type {\n",
       "        vertical-align: middle;\n",
       "    }\n",
       "\n",
       "    .dataframe tbody tr th {\n",
       "        vertical-align: top;\n",
       "    }\n",
       "\n",
       "    .dataframe thead th {\n",
       "        text-align: right;\n",
       "    }\n",
       "</style>\n",
       "<table border=\"1\" class=\"dataframe\">\n",
       "  <thead>\n",
       "    <tr style=\"text-align: right;\">\n",
       "      <th>Predicted</th>\n",
       "      <th>Hamilton</th>\n",
       "      <th>Madison</th>\n",
       "    </tr>\n",
       "    <tr>\n",
       "      <th>Actual</th>\n",
       "      <th></th>\n",
       "      <th></th>\n",
       "    </tr>\n",
       "  </thead>\n",
       "  <tbody>\n",
       "    <tr>\n",
       "      <th>Hamilton</th>\n",
       "      <td>22</td>\n",
       "      <td>0</td>\n",
       "    </tr>\n",
       "    <tr>\n",
       "      <th>Madison</th>\n",
       "      <td>3</td>\n",
       "      <td>2</td>\n",
       "    </tr>\n",
       "  </tbody>\n",
       "</table>\n",
       "</div>"
      ],
      "text/plain": [
       "Predicted  Hamilton  Madison\n",
       "Actual                      \n",
       "Hamilton         22        0\n",
       "Madison           3        2"
      ]
     },
     "execution_count": 17,
     "metadata": {},
     "output_type": "execute_result"
    }
   ],
   "source": [
    "# validating testing data\n",
    "tab = pd.crosstab(Y_test, naive_test_pred, rownames=['Actual'],colnames=['Predicted'])\n",
    "tab"
   ]
  },
  {
   "cell_type": "code",
   "execution_count": 18,
   "id": "24b590d6",
   "metadata": {},
   "outputs": [
    {
     "data": {
      "text/plain": [
       "<AxesSubplot:xlabel='Predicted', ylabel='Actual'>"
      ]
     },
     "execution_count": 18,
     "metadata": {},
     "output_type": "execute_result"
    },
    {
     "data": {
      "image/png": "[encoded data removed]",
      "text/plain": [
       "<Figure size 432x288 with 2 Axes>"
      ]
     },
     "metadata": {
      "needs_background": "light"
     },
     "output_type": "display_data"
    }
   ],
   "source": [
    "sns.heatmap(tab)"
   ]
  },
  {
   "cell_type": "code",
   "execution_count": 19,
   "id": "1af43481",
   "metadata": {},
   "outputs": [
    {
     "name": "stdout",
     "output_type": "stream",
     "text": [
      "              precision    recall  f1-score   support\n",
      "\n",
      "    Hamilton       0.88      1.00      0.94        22\n",
      "     Madison       1.00      0.40      0.57         5\n",
      "\n",
      "    accuracy                           0.89        27\n",
      "   macro avg       0.94      0.70      0.75        27\n",
      "weighted avg       0.90      0.89      0.87        27\n",
      "\n"
     ]
    }
   ],
   "source": [
    "from sklearn.metrics import classification_report\n",
    "print(classification_report(Y_test, naive_test_pred))"
   ]
  },
  {
   "cell_type": "code",
   "execution_count": 21,
   "id": "27c864a1",
   "metadata": {},
   "outputs": [
    {
     "data": {
      "text/plain": [
       "0.7537993920972645"
      ]
     },
     "execution_count": 21,
     "metadata": {},
     "output_type": "execute_result"
    }
   ],
   "source": [
    "import sklearn.metrics as skm\n",
    "\n",
    "# F1 Score\n",
    "skm.f1_score(Y_test,naive_test_pred,average=\"macro\")"
   ]
  },
  {
   "cell_type": "markdown",
   "id": "d3db5259",
   "metadata": {},
   "source": [
    "NAIVE BAYES - PREDICTION"
   ]
  },
  {
   "cell_type": "code",
   "execution_count": null,
   "id": "6ff3df69",
   "metadata": {},
   "outputs": [],
   "source": [
    "gnb.predict(distputed_train)"
   ]
  },
  {
   "cell_type": "markdown",
   "id": "43e3b706",
   "metadata": {},
   "source": [
    "#### MODEL  2 - DECISION TREES"
   ]
  },
  {
   "cell_type": "code",
   "execution_count": null,
   "id": "a159f2b3",
   "metadata": {},
   "outputs": [],
   "source": [
    "# training the model\n",
    "clf = DecisionTreeClassifier(random_state=0, criterion='entropy') # entropy to measure the purity of the split \n",
    "clf.fit(X_train,Y_train)"
   ]
  },
  {
   "cell_type": "code",
   "execution_count": null,
   "id": "a2ba1b3c",
   "metadata": {},
   "outputs": [],
   "source": [
    "# predicting on test data\n",
    "test_pred=clf.predict(X_test)\n",
    "test_pred"
   ]
  },
  {
   "cell_type": "code",
   "execution_count": null,
   "id": "e30626fb",
   "metadata": {},
   "outputs": [],
   "source": [
    "# predicting on training data\n",
    "train_pred = clf.predict(X_train)\n",
    "train_pred"
   ]
  },
  {
   "cell_type": "code",
   "execution_count": null,
   "id": "1460ec03",
   "metadata": {},
   "outputs": [],
   "source": [
    "# validating training data\n",
    "tab1 = pd.crosstab(Y_train, train_pred, rownames=['Actual'],colnames=['Predicted'])\n",
    "tab1"
   ]
  },
  {
   "cell_type": "code",
   "execution_count": null,
   "id": "34ccdc67",
   "metadata": {},
   "outputs": [],
   "source": [
    "sns.heatmap(tab1)"
   ]
  },
  {
   "cell_type": "code",
   "execution_count": null,
   "id": "5921a9bf",
   "metadata": {},
   "outputs": [],
   "source": [
    "# validating testing data\n",
    "tab1 = pd.crosstab(Y_test, test_pred, rownames=['Actual'],colnames=['Predicted'])\n",
    "tab1"
   ]
  },
  {
   "cell_type": "code",
   "execution_count": null,
   "id": "6d497898",
   "metadata": {},
   "outputs": [],
   "source": [
    "sns.heatmap(tab1)"
   ]
  },
  {
   "cell_type": "markdown",
   "id": "d39b205e",
   "metadata": {},
   "source": [
    "#### PREDICTION"
   ]
  },
  {
   "cell_type": "code",
   "execution_count": null,
   "id": "efe4d87e",
   "metadata": {},
   "outputs": [],
   "source": [
    "dispt_pred=clf.predict(distputed_train)\n",
    "dispt_pred"
   ]
  }
 ],
 "metadata": {
  "kernelspec": {
   "display_name": "Python 3 (ipykernel)",
   "language": "python",
   "name": "python3"
  },
  "language_info": {
   "codemirror_mode": {
    "name": "ipython",
    "version": 3
   },
   "file_extension": ".py",
   "mimetype": "text/x-python",
   "name": "python",
   "nbconvert_exporter": "python",
   "pygments_lexer": "ipython3",
   "version": "3.9.7"
  }
 },
 "nbformat": 4,
 "nbformat_minor": 5
}
