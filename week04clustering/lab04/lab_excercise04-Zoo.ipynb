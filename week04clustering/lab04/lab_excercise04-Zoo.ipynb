{
 "cells": [
  {
   "cell_type": "code",
   "execution_count": 1,
   "id": "008ca3e1",
   "metadata": {},
   "outputs": [],
   "source": [
    "import pandas as pd\n",
    "import matplotlib.pyplot as plt\n",
    "import scipy.cluster.hierarchy as sch\n",
    "from sklearn.cluster import AgglomerativeClustering \n",
    "import seaborn as sns\n",
    "from sklearn.cluster import KMeans\n",
    "from sklearn.metrics import silhouette_score, silhouette_samples\n",
    "from yellowbrick.cluster import SilhouetteVisualizer\n",
    "%matplotlib inline"
   ]
  },
  {
   "cell_type": "markdown",
   "id": "23f0daa5",
   "metadata": {},
   "source": [
    "#### Question 2: compare K-Means and HAC performance in clustering animals in the zoo data set. Which algorithm gave better result (based on Orange’s class-to-cluster accuracy measure), in what parameter setting?"
   ]
  },
  {
   "cell_type": "code",
   "execution_count": 2,
   "id": "067e0e37",
   "metadata": {},
   "outputs": [
    {
     "data": {
      "text/plain": [
       "(101, 18)"
      ]
     },
     "execution_count": 2,
     "metadata": {},
     "output_type": "execute_result"
    }
   ],
   "source": [
    "zoodf = pd.read_csv('zoo.csv')\n",
    "zoodf.shape"
   ]
  },
  {
   "cell_type": "code",
   "execution_count": 3,
   "id": "7cf91c08",
   "metadata": {},
   "outputs": [
    {
     "data": {
      "text/plain": [
       "array([1, 4, 2, 7, 6, 5, 3], dtype=int64)"
      ]
     },
     "execution_count": 3,
     "metadata": {},
     "output_type": "execute_result"
    }
   ],
   "source": [
    "zoodf['type'].unique()"
   ]
  },
  {
   "cell_type": "code",
   "execution_count": 4,
   "id": "bf20aa00",
   "metadata": {},
   "outputs": [
    {
     "data": {
      "text/html": [
       "<div>\n",
       "<style scoped>\n",
       "    .dataframe tbody tr th:only-of-type {\n",
       "        vertical-align: middle;\n",
       "    }\n",
       "\n",
       "    .dataframe tbody tr th {\n",
       "        vertical-align: top;\n",
       "    }\n",
       "\n",
       "    .dataframe thead th {\n",
       "        text-align: right;\n",
       "    }\n",
       "</style>\n",
       "<table border=\"1\" class=\"dataframe\">\n",
       "  <thead>\n",
       "    <tr style=\"text-align: right;\">\n",
       "      <th></th>\n",
       "      <th>animal-name</th>\n",
       "      <th>hair</th>\n",
       "      <th>feathers</th>\n",
       "      <th>egg</th>\n",
       "      <th>milk</th>\n",
       "      <th>airborne</th>\n",
       "      <th>aquatic</th>\n",
       "      <th>predator</th>\n",
       "      <th>toothed</th>\n",
       "      <th>backbone</th>\n",
       "      <th>breathes</th>\n",
       "      <th>venomous</th>\n",
       "      <th>fins</th>\n",
       "      <th>legs</th>\n",
       "      <th>tail</th>\n",
       "      <th>domestic</th>\n",
       "      <th>catsize</th>\n",
       "      <th>type</th>\n",
       "    </tr>\n",
       "  </thead>\n",
       "  <tbody>\n",
       "    <tr>\n",
       "      <th>0</th>\n",
       "      <td>aardvark</td>\n",
       "      <td>1</td>\n",
       "      <td>0</td>\n",
       "      <td>0</td>\n",
       "      <td>1</td>\n",
       "      <td>0</td>\n",
       "      <td>0</td>\n",
       "      <td>1</td>\n",
       "      <td>1</td>\n",
       "      <td>1</td>\n",
       "      <td>1</td>\n",
       "      <td>0</td>\n",
       "      <td>0</td>\n",
       "      <td>4</td>\n",
       "      <td>0</td>\n",
       "      <td>0</td>\n",
       "      <td>1</td>\n",
       "      <td>1</td>\n",
       "    </tr>\n",
       "    <tr>\n",
       "      <th>1</th>\n",
       "      <td>antelope</td>\n",
       "      <td>1</td>\n",
       "      <td>0</td>\n",
       "      <td>0</td>\n",
       "      <td>1</td>\n",
       "      <td>0</td>\n",
       "      <td>0</td>\n",
       "      <td>0</td>\n",
       "      <td>1</td>\n",
       "      <td>1</td>\n",
       "      <td>1</td>\n",
       "      <td>0</td>\n",
       "      <td>0</td>\n",
       "      <td>4</td>\n",
       "      <td>1</td>\n",
       "      <td>0</td>\n",
       "      <td>1</td>\n",
       "      <td>1</td>\n",
       "    </tr>\n",
       "    <tr>\n",
       "      <th>2</th>\n",
       "      <td>bass</td>\n",
       "      <td>0</td>\n",
       "      <td>0</td>\n",
       "      <td>1</td>\n",
       "      <td>0</td>\n",
       "      <td>0</td>\n",
       "      <td>1</td>\n",
       "      <td>1</td>\n",
       "      <td>1</td>\n",
       "      <td>1</td>\n",
       "      <td>0</td>\n",
       "      <td>0</td>\n",
       "      <td>1</td>\n",
       "      <td>0</td>\n",
       "      <td>1</td>\n",
       "      <td>0</td>\n",
       "      <td>0</td>\n",
       "      <td>4</td>\n",
       "    </tr>\n",
       "    <tr>\n",
       "      <th>3</th>\n",
       "      <td>bear</td>\n",
       "      <td>1</td>\n",
       "      <td>0</td>\n",
       "      <td>0</td>\n",
       "      <td>1</td>\n",
       "      <td>0</td>\n",
       "      <td>0</td>\n",
       "      <td>1</td>\n",
       "      <td>1</td>\n",
       "      <td>1</td>\n",
       "      <td>1</td>\n",
       "      <td>0</td>\n",
       "      <td>0</td>\n",
       "      <td>4</td>\n",
       "      <td>0</td>\n",
       "      <td>0</td>\n",
       "      <td>1</td>\n",
       "      <td>1</td>\n",
       "    </tr>\n",
       "    <tr>\n",
       "      <th>4</th>\n",
       "      <td>boar</td>\n",
       "      <td>1</td>\n",
       "      <td>0</td>\n",
       "      <td>0</td>\n",
       "      <td>1</td>\n",
       "      <td>0</td>\n",
       "      <td>0</td>\n",
       "      <td>1</td>\n",
       "      <td>1</td>\n",
       "      <td>1</td>\n",
       "      <td>1</td>\n",
       "      <td>0</td>\n",
       "      <td>0</td>\n",
       "      <td>4</td>\n",
       "      <td>1</td>\n",
       "      <td>0</td>\n",
       "      <td>1</td>\n",
       "      <td>1</td>\n",
       "    </tr>\n",
       "  </tbody>\n",
       "</table>\n",
       "</div>"
      ],
      "text/plain": [
       "  animal-name  hair  feathers  egg  milk  airborne  aquatic  predator  \\\n",
       "0    aardvark     1         0    0     1         0        0         1   \n",
       "1    antelope     1         0    0     1         0        0         0   \n",
       "2        bass     0         0    1     0         0        1         1   \n",
       "3        bear     1         0    0     1         0        0         1   \n",
       "4        boar     1         0    0     1         0        0         1   \n",
       "\n",
       "   toothed  backbone  breathes  venomous  fins  legs  tail  domestic  catsize  \\\n",
       "0        1         1         1         0     0     4     0         0        1   \n",
       "1        1         1         1         0     0     4     1         0        1   \n",
       "2        1         1         0         0     1     0     1         0        0   \n",
       "3        1         1         1         0     0     4     0         0        1   \n",
       "4        1         1         1         0     0     4     1         0        1   \n",
       "\n",
       "   type  \n",
       "0     1  \n",
       "1     1  \n",
       "2     4  \n",
       "3     1  \n",
       "4     1  "
      ]
     },
     "execution_count": 4,
     "metadata": {},
     "output_type": "execute_result"
    }
   ],
   "source": [
    "zoodf.head()"
   ]
  },
  {
   "cell_type": "code",
   "execution_count": 5,
   "id": "f30c225e",
   "metadata": {},
   "outputs": [
    {
     "data": {
      "text/plain": [
       "array([[1, 0, 0, 1, 0, 0, 1, 1, 1, 1, 0, 0, 4, 0, 0, 1],\n",
       "       [1, 0, 0, 1, 0, 0, 0, 1, 1, 1, 0, 0, 4, 1, 0, 1],\n",
       "       [0, 0, 1, 0, 0, 1, 1, 1, 1, 0, 0, 1, 0, 1, 0, 0],\n",
       "       [1, 0, 0, 1, 0, 0, 1, 1, 1, 1, 0, 0, 4, 0, 0, 1],\n",
       "       [1, 0, 0, 1, 0, 0, 1, 1, 1, 1, 0, 0, 4, 1, 0, 1],\n",
       "       [1, 0, 0, 1, 0, 0, 0, 1, 1, 1, 0, 0, 4, 1, 0, 1],\n",
       "       [1, 0, 0, 1, 0, 0, 0, 1, 1, 1, 0, 0, 4, 1, 1, 1],\n",
       "       [0, 0, 1, 0, 0, 1, 0, 1, 1, 0, 0, 1, 0, 1, 1, 0],\n",
       "       [0, 0, 1, 0, 0, 1, 1, 1, 1, 0, 0, 1, 0, 1, 0, 0],\n",
       "       [1, 0, 0, 1, 0, 0, 0, 1, 1, 1, 0, 0, 4, 0, 1, 0]], dtype=int64)"
      ]
     },
     "execution_count": 5,
     "metadata": {},
     "output_type": "execute_result"
    }
   ],
   "source": [
    "zoo_arr = zoodf.drop(['animal-name','type'],axis=1).values # removing 'type' and 'animal-name' columns\n",
    "zoo_arr[:10]"
   ]
  },
  {
   "cell_type": "markdown",
   "id": "403fab7b",
   "metadata": {},
   "source": [
    "# K - Means Clustering"
   ]
  },
  {
   "cell_type": "markdown",
   "id": "57810def",
   "metadata": {},
   "source": [
    "#### Elbow method for finding number of clusters (K value)"
   ]
  },
  {
   "cell_type": "code",
   "execution_count": 6,
   "id": "c565e7c0",
   "metadata": {},
   "outputs": [],
   "source": [
    "SSE_cluster = []\n",
    "for i in range(2,11): # choosing 10 clusters\n",
    "    kmeans = KMeans(n_clusters=i,init='k-means++',random_state=0)\n",
    "    kmeans.fit(zoo_arr) # Compute k-means clustering\n",
    "    SSE_cluster.append(kmeans.inertia_)"
   ]
  },
  {
   "cell_type": "code",
   "execution_count": 7,
   "id": "20e2c32a",
   "metadata": {},
   "outputs": [
    {
     "data": {
      "image/png": "[encoded data removed]",
      "text/plain": [
       "<Figure size 432x288 with 1 Axes>"
      ]
     },
     "metadata": {
      "needs_background": "light"
     },
     "output_type": "display_data"
    }
   ],
   "source": [
    "plt.plot(range(2,11),SSE_cluster) # plotting numbers of clusers vs SSE\n",
    "plt.title('The Elbow Method')\n",
    "plt.xlabel('Number of clusters')\n",
    "plt.ylabel('SSE')\n",
    "plt.show()\n"
   ]
  },
  {
   "cell_type": "markdown",
   "id": "17347285",
   "metadata": {},
   "source": [
    "#### From the elbow method, number of clusters will be 4. But, we have 7 types [1, 4, 2, 7, 6, 5, 3] in the zoo dataset. hence, proceeding with 7 clusters."
   ]
  },
  {
   "cell_type": "code",
   "execution_count": 8,
   "id": "1e441bae",
   "metadata": {},
   "outputs": [],
   "source": [
    "# Fitting K means to the dataset\n",
    "kmeans = KMeans(n_clusters=7,init='k-means++',random_state=0)"
   ]
  },
  {
   "cell_type": "code",
   "execution_count": 9,
   "id": "0970e634",
   "metadata": {},
   "outputs": [
    {
     "data": {
      "text/plain": [
       "array([0, 0, 1, 0, 0, 0, 0, 1, 1, 0, 0, 2, 1, 6, 5, 3, 2, 0, 1, 1, 2, 2,\n",
       "       0, 2, 3, 5, 5, 4, 0, 4, 3, 0, 4, 2, 1, 0, 0, 2, 1, 3, 3, 2, 3, 2,\n",
       "       0, 0, 3, 0, 0, 0, 0, 3, 5, 3, 0, 0, 2, 2, 2, 2, 1, 1, 6, 0, 0, 0,\n",
       "       1, 0, 0, 0, 0, 2, 3, 1, 1, 4, 1, 6, 2, 2, 6, 6, 1, 2, 4, 5, 1, 2,\n",
       "       3, 5, 5, 5, 1, 4, 0, 2, 4, 3, 0, 6, 2])"
      ]
     },
     "execution_count": 9,
     "metadata": {},
     "output_type": "execute_result"
    }
   ],
   "source": [
    "y_kmeans = kmeans.fit_predict(zoo_arr) # Compute cluster centers and predict cluster index for each sample\n",
    "y_kmeans # contains index of the cluster each sample belongs to"
   ]
  },
  {
   "cell_type": "code",
   "execution_count": 10,
   "id": "08d55982",
   "metadata": {},
   "outputs": [
    {
     "data": {
      "text/plain": [
       "array([[ 1.00000000e+00, -8.32667268e-17,  3.22580645e-02,\n",
       "         1.00000000e+00, -1.66533454e-16,  6.45161290e-02,\n",
       "         5.48387097e-01,  9.67741935e-01,  1.00000000e+00,\n",
       "         1.00000000e+00, -2.77555756e-17, -5.55111512e-17,\n",
       "         4.00000000e+00,  9.03225806e-01,  2.25806452e-01,\n",
       "         8.06451613e-01],\n",
       "       [ 5.88235294e-02, -2.77555756e-17,  7.64705882e-01,\n",
       "         1.76470588e-01, -1.11022302e-16,  1.00000000e+00,\n",
       "         7.64705882e-01,  1.00000000e+00,  1.00000000e+00,\n",
       "         1.76470588e-01,  1.17647059e-01,  9.41176471e-01,\n",
       "         0.00000000e+00,  9.41176471e-01,  5.88235294e-02,\n",
       "         4.11764706e-01],\n",
       "       [-1.66533454e-16,  1.00000000e+00,  1.00000000e+00,\n",
       "        -1.66533454e-16,  8.00000000e-01,  3.00000000e-01,\n",
       "         4.50000000e-01,  1.11022302e-16,  1.00000000e+00,\n",
       "         1.00000000e+00, -1.38777878e-17, -2.77555756e-17,\n",
       "         2.00000000e+00,  1.00000000e+00,  1.50000000e-01,\n",
       "         3.00000000e-01],\n",
       "       [ 3.33333333e-01,  2.77555756e-17,  9.16666667e-01,\n",
       "         0.00000000e+00,  5.00000000e-01,  2.50000000e-01,\n",
       "         4.16666667e-01,  1.11022302e-16,  0.00000000e+00,\n",
       "         7.50000000e-01,  2.50000000e-01,  5.55111512e-17,\n",
       "         6.33333333e+00,  8.33333333e-02,  8.33333333e-02,\n",
       "         8.33333333e-02],\n",
       "       [ 1.00000000e+00,  2.77555756e-17,  0.00000000e+00,\n",
       "         1.00000000e+00,  2.85714286e-01,  1.42857143e-01,\n",
       "         2.85714286e-01,  1.00000000e+00,  1.00000000e+00,\n",
       "         1.00000000e+00,  0.00000000e+00,  1.42857143e-01,\n",
       "         2.00000000e+00,  7.14285714e-01,  1.42857143e-01,\n",
       "         5.71428571e-01],\n",
       "       [ 0.00000000e+00,  2.77555756e-17,  1.00000000e+00,\n",
       "         5.55111512e-17,  0.00000000e+00,  7.50000000e-01,\n",
       "         7.50000000e-01,  6.25000000e-01,  7.50000000e-01,\n",
       "         7.50000000e-01,  1.25000000e-01,  2.77555756e-17,\n",
       "         4.12500000e+00,  3.75000000e-01,  0.00000000e+00,\n",
       "         1.25000000e-01],\n",
       "       [ 0.00000000e+00,  2.77555756e-17,  1.00000000e+00,\n",
       "         5.55111512e-17,  0.00000000e+00,  1.66666667e-01,\n",
       "         6.66666667e-01,  3.33333333e-01,  3.33333333e-01,\n",
       "         6.66666667e-01,  3.33333333e-01,  2.77555756e-17,\n",
       "         0.00000000e+00,  3.33333333e-01,  0.00000000e+00,\n",
       "         0.00000000e+00]])"
      ]
     },
     "execution_count": 10,
     "metadata": {},
     "output_type": "execute_result"
    }
   ],
   "source": [
    "kmeans.cluster_centers_ # cluster centroids"
   ]
  },
  {
   "cell_type": "markdown",
   "id": "19035ed7",
   "metadata": {},
   "source": [
    "#### VALIDATING THE CLUSTER MODEL WITH SILHOUETTE SCORE"
   ]
  },
  {
   "cell_type": "code",
   "execution_count": 11,
   "id": "c9ab7be3",
   "metadata": {},
   "outputs": [
    {
     "data": {
      "text/plain": [
       "0.4405712903716864"
      ]
     },
     "execution_count": 11,
     "metadata": {},
     "output_type": "execute_result"
    }
   ],
   "source": [
    "score = silhouette_score(zoo_arr, y_kmeans)\n",
    "score # 0.44 is a good score as it closer to 1"
   ]
  },
  {
   "cell_type": "code",
   "execution_count": 12,
   "id": "b526b2f9",
   "metadata": {},
   "outputs": [
    {
     "data": {
      "image/png": "[encoded data removed]",
      "text/plain": [
       "<Figure size 432x288 with 1 Axes>"
      ]
     },
     "metadata": {
      "needs_background": "light"
     },
     "output_type": "display_data"
    },
    {
     "data": {
      "text/plain": [
       "<AxesSubplot:title={'center':'Silhouette Plot of KMeans Clustering for 101 Samples in 7 Centers'}, xlabel='silhouette coefficient values', ylabel='cluster label'>"
      ]
     },
     "execution_count": 12,
     "metadata": {},
     "output_type": "execute_result"
    }
   ],
   "source": [
    "#Using Silhouette Plot\n",
    "visualizer = SilhouetteVisualizer(kmeans,colors =  'yellowbrick')\n",
    "\n",
    "#Fit the data to the visualizer\n",
    "visualizer.fit(zoo_arr)       \n",
    "\n",
    "#Render the figure\n",
    "visualizer.show()"
   ]
  },
  {
   "cell_type": "code",
   "execution_count": 13,
   "id": "1491dc86",
   "metadata": {},
   "outputs": [
    {
     "data": {
      "text/html": [
       "<div>\n",
       "<style scoped>\n",
       "    .dataframe tbody tr th:only-of-type {\n",
       "        vertical-align: middle;\n",
       "    }\n",
       "\n",
       "    .dataframe tbody tr th {\n",
       "        vertical-align: top;\n",
       "    }\n",
       "\n",
       "    .dataframe thead th {\n",
       "        text-align: right;\n",
       "    }\n",
       "</style>\n",
       "<table border=\"1\" class=\"dataframe\">\n",
       "  <thead>\n",
       "    <tr style=\"text-align: right;\">\n",
       "      <th>Predicted</th>\n",
       "      <th>0</th>\n",
       "      <th>1</th>\n",
       "      <th>2</th>\n",
       "      <th>3</th>\n",
       "      <th>4</th>\n",
       "      <th>5</th>\n",
       "      <th>6</th>\n",
       "    </tr>\n",
       "    <tr>\n",
       "      <th>Actual</th>\n",
       "      <th></th>\n",
       "      <th></th>\n",
       "      <th></th>\n",
       "      <th></th>\n",
       "      <th></th>\n",
       "      <th></th>\n",
       "      <th></th>\n",
       "    </tr>\n",
       "  </thead>\n",
       "  <tbody>\n",
       "    <tr>\n",
       "      <th>1</th>\n",
       "      <td>31</td>\n",
       "      <td>3</td>\n",
       "      <td>0</td>\n",
       "      <td>0</td>\n",
       "      <td>7</td>\n",
       "      <td>0</td>\n",
       "      <td>0</td>\n",
       "    </tr>\n",
       "    <tr>\n",
       "      <th>2</th>\n",
       "      <td>0</td>\n",
       "      <td>0</td>\n",
       "      <td>20</td>\n",
       "      <td>0</td>\n",
       "      <td>0</td>\n",
       "      <td>0</td>\n",
       "      <td>0</td>\n",
       "    </tr>\n",
       "    <tr>\n",
       "      <th>3</th>\n",
       "      <td>0</td>\n",
       "      <td>1</td>\n",
       "      <td>0</td>\n",
       "      <td>0</td>\n",
       "      <td>0</td>\n",
       "      <td>2</td>\n",
       "      <td>2</td>\n",
       "    </tr>\n",
       "    <tr>\n",
       "      <th>4</th>\n",
       "      <td>0</td>\n",
       "      <td>13</td>\n",
       "      <td>0</td>\n",
       "      <td>0</td>\n",
       "      <td>0</td>\n",
       "      <td>0</td>\n",
       "      <td>0</td>\n",
       "    </tr>\n",
       "    <tr>\n",
       "      <th>5</th>\n",
       "      <td>0</td>\n",
       "      <td>0</td>\n",
       "      <td>0</td>\n",
       "      <td>0</td>\n",
       "      <td>0</td>\n",
       "      <td>4</td>\n",
       "      <td>0</td>\n",
       "    </tr>\n",
       "    <tr>\n",
       "      <th>6</th>\n",
       "      <td>0</td>\n",
       "      <td>0</td>\n",
       "      <td>0</td>\n",
       "      <td>8</td>\n",
       "      <td>0</td>\n",
       "      <td>0</td>\n",
       "      <td>0</td>\n",
       "    </tr>\n",
       "    <tr>\n",
       "      <th>7</th>\n",
       "      <td>0</td>\n",
       "      <td>0</td>\n",
       "      <td>0</td>\n",
       "      <td>4</td>\n",
       "      <td>0</td>\n",
       "      <td>2</td>\n",
       "      <td>4</td>\n",
       "    </tr>\n",
       "  </tbody>\n",
       "</table>\n",
       "</div>"
      ],
      "text/plain": [
       "Predicted   0   1   2  3  4  5  6\n",
       "Actual                           \n",
       "1          31   3   0  0  7  0  0\n",
       "2           0   0  20  0  0  0  0\n",
       "3           0   1   0  0  0  2  2\n",
       "4           0  13   0  0  0  0  0\n",
       "5           0   0   0  0  0  4  0\n",
       "6           0   0   0  8  0  0  0\n",
       "7           0   0   0  4  0  2  4"
      ]
     },
     "execution_count": 13,
     "metadata": {},
     "output_type": "execute_result"
    }
   ],
   "source": [
    "# confusion matrix\n",
    "confustion_matrix = pd.crosstab(zoodf['type'],y_kmeans,rownames=['Actual'],colnames=['Predicted'])\n",
    "confustion_matrix"
   ]
  },
  {
   "cell_type": "code",
   "execution_count": 14,
   "id": "56442359",
   "metadata": {},
   "outputs": [
    {
     "data": {
      "text/plain": [
       "<AxesSubplot:xlabel='Predicted', ylabel='Actual'>"
      ]
     },
     "execution_count": 14,
     "metadata": {},
     "output_type": "execute_result"
    },
    {
     "data": {
      "image/png": "[encoded data removed]",
      "text/plain": [
       "<Figure size 432x288 with 2 Axes>"
      ]
     },
     "metadata": {
      "needs_background": "light"
     },
     "output_type": "display_data"
    }
   ],
   "source": [
    "sns.heatmap(confustion_matrix)"
   ]
  },
  {
   "cell_type": "markdown",
   "id": "b5583b61",
   "metadata": {},
   "source": [
    "# Hierarchial Clustering"
   ]
  },
  {
   "cell_type": "code",
   "execution_count": 19,
   "id": "1e5e521a",
   "metadata": {},
   "outputs": [
    {
     "data": {
      "image/png": "[encoded data removed]",
      "text/plain": [
       "<Figure size 1440x1440 with 1 Axes>"
      ]
     },
     "metadata": {
      "needs_background": "light"
     },
     "output_type": "display_data"
    }
   ],
   "source": [
    "# dendogram to find number of clusters\n",
    "plt.figure(figsize=(20, 20))  \n",
    "\n",
    "dendrogram_comp = sch.dendrogram(sch.linkage(zoo_arr, method  = \"ward\"), \n",
    "                            orientation='top')\n",
    "plt.title('Dendrogram')\n",
    "plt.xlabel('Zoo')\n",
    "plt.ylabel('Euclidean distances')\n",
    "plt.grid(b=None)\n"
   ]
  },
  {
   "cell_type": "markdown",
   "id": "3c0d0b7a",
   "metadata": {},
   "source": [
    "#### From the above dendogram, 3 clustering can be possible. But, we have 7 types [1, 4, 2, 7, 6, 5, 3] in the zoo dataset. hence, proceeding with 7 clusters."
   ]
  },
  {
   "cell_type": "code",
   "execution_count": 16,
   "id": "0faab969",
   "metadata": {},
   "outputs": [
    {
     "data": {
      "text/plain": [
       "array([1, 1, 2, 1, 1, 1, 1, 2, 2, 1], dtype=int64)"
      ]
     },
     "execution_count": 16,
     "metadata": {},
     "output_type": "execute_result"
    }
   ],
   "source": [
    "# Fitting hierarchical clustering to the Zoo dataset\n",
    "hc = AgglomerativeClustering(n_clusters = 7, affinity = 'euclidean', linkage ='ward')\n",
    "predicted = hc.fit_predict(zoo_arr)\n",
    "predicted[:10]"
   ]
  },
  {
   "cell_type": "code",
   "execution_count": 17,
   "id": "447b49d5",
   "metadata": {},
   "outputs": [
    {
     "data": {
      "text/html": [
       "<div>\n",
       "<style scoped>\n",
       "    .dataframe tbody tr th:only-of-type {\n",
       "        vertical-align: middle;\n",
       "    }\n",
       "\n",
       "    .dataframe tbody tr th {\n",
       "        vertical-align: top;\n",
       "    }\n",
       "\n",
       "    .dataframe thead th {\n",
       "        text-align: right;\n",
       "    }\n",
       "</style>\n",
       "<table border=\"1\" class=\"dataframe\">\n",
       "  <thead>\n",
       "    <tr style=\"text-align: right;\">\n",
       "      <th>Predicted</th>\n",
       "      <th>0</th>\n",
       "      <th>1</th>\n",
       "      <th>2</th>\n",
       "      <th>3</th>\n",
       "      <th>4</th>\n",
       "      <th>5</th>\n",
       "      <th>6</th>\n",
       "    </tr>\n",
       "    <tr>\n",
       "      <th>Actual</th>\n",
       "      <th></th>\n",
       "      <th></th>\n",
       "      <th></th>\n",
       "      <th></th>\n",
       "      <th></th>\n",
       "      <th></th>\n",
       "      <th></th>\n",
       "    </tr>\n",
       "  </thead>\n",
       "  <tbody>\n",
       "    <tr>\n",
       "      <th>1</th>\n",
       "      <td>0</td>\n",
       "      <td>30</td>\n",
       "      <td>3</td>\n",
       "      <td>0</td>\n",
       "      <td>7</td>\n",
       "      <td>1</td>\n",
       "      <td>0</td>\n",
       "    </tr>\n",
       "    <tr>\n",
       "      <th>2</th>\n",
       "      <td>0</td>\n",
       "      <td>0</td>\n",
       "      <td>0</td>\n",
       "      <td>20</td>\n",
       "      <td>0</td>\n",
       "      <td>0</td>\n",
       "      <td>0</td>\n",
       "    </tr>\n",
       "    <tr>\n",
       "      <th>3</th>\n",
       "      <td>0</td>\n",
       "      <td>0</td>\n",
       "      <td>0</td>\n",
       "      <td>0</td>\n",
       "      <td>0</td>\n",
       "      <td>2</td>\n",
       "      <td>3</td>\n",
       "    </tr>\n",
       "    <tr>\n",
       "      <th>4</th>\n",
       "      <td>0</td>\n",
       "      <td>0</td>\n",
       "      <td>13</td>\n",
       "      <td>0</td>\n",
       "      <td>0</td>\n",
       "      <td>0</td>\n",
       "      <td>0</td>\n",
       "    </tr>\n",
       "    <tr>\n",
       "      <th>5</th>\n",
       "      <td>0</td>\n",
       "      <td>0</td>\n",
       "      <td>0</td>\n",
       "      <td>0</td>\n",
       "      <td>0</td>\n",
       "      <td>4</td>\n",
       "      <td>0</td>\n",
       "    </tr>\n",
       "    <tr>\n",
       "      <th>6</th>\n",
       "      <td>8</td>\n",
       "      <td>0</td>\n",
       "      <td>0</td>\n",
       "      <td>0</td>\n",
       "      <td>0</td>\n",
       "      <td>0</td>\n",
       "      <td>0</td>\n",
       "    </tr>\n",
       "    <tr>\n",
       "      <th>7</th>\n",
       "      <td>6</td>\n",
       "      <td>0</td>\n",
       "      <td>0</td>\n",
       "      <td>0</td>\n",
       "      <td>0</td>\n",
       "      <td>0</td>\n",
       "      <td>4</td>\n",
       "    </tr>\n",
       "  </tbody>\n",
       "</table>\n",
       "</div>"
      ],
      "text/plain": [
       "Predicted  0   1   2   3  4  5  6\n",
       "Actual                           \n",
       "1          0  30   3   0  7  1  0\n",
       "2          0   0   0  20  0  0  0\n",
       "3          0   0   0   0  0  2  3\n",
       "4          0   0  13   0  0  0  0\n",
       "5          0   0   0   0  0  4  0\n",
       "6          8   0   0   0  0  0  0\n",
       "7          6   0   0   0  0  0  4"
      ]
     },
     "execution_count": 17,
     "metadata": {},
     "output_type": "execute_result"
    }
   ],
   "source": [
    "# confusion matrix\n",
    "confustion_matrix = pd.crosstab(zoodf['type'],predicted,rownames=['Actual'],colnames=['Predicted'])\n",
    "confustion_matrix"
   ]
  },
  {
   "cell_type": "code",
   "execution_count": 18,
   "id": "a4dcb89c",
   "metadata": {},
   "outputs": [
    {
     "data": {
      "text/plain": [
       "<AxesSubplot:xlabel='Predicted', ylabel='Actual'>"
      ]
     },
     "execution_count": 18,
     "metadata": {},
     "output_type": "execute_result"
    },
    {
     "data": {
      "image/png": "[encoded data removed]",
      "text/plain": [
       "<Figure size 432x288 with 2 Axes>"
      ]
     },
     "metadata": {
      "needs_background": "light"
     },
     "output_type": "display_data"
    }
   ],
   "source": [
    "sns.heatmap(confustion_matrix)"
   ]
  },
  {
   "cell_type": "markdown",
   "id": "e2931624",
   "metadata": {},
   "source": [
    "#### CONCLUSION\n",
    "\n",
    "from the confusion matrix caluclated above, K- Means seems to be better model compared to hieararchial clustering with ward method"
   ]
  }
 ],
 "metadata": {
  "kernelspec": {
   "display_name": "Python 3 (ipykernel)",
   "language": "python",
   "name": "python3"
  },
  "language_info": {
   "codemirror_mode": {
    "name": "ipython",
    "version": 3
   },
   "file_extension": ".py",
   "mimetype": "text/x-python",
   "name": "python",
   "nbconvert_exporter": "python",
   "pygments_lexer": "ipython3",
   "version": "3.9.7"
  }
 },
 "nbformat": 4,
 "nbformat_minor": 5
}
