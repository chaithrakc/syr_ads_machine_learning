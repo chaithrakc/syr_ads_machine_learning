{
 "cells": [
  {
   "cell_type": "markdown",
   "id": "bb1be44b",
   "metadata": {},
   "source": [
    "# HW 04 - CLUSTERING"
   ]
  },
  {
   "cell_type": "code",
   "execution_count": 1,
   "id": "b111a0dc",
   "metadata": {},
   "outputs": [],
   "source": [
    "import pandas as pd\n",
    "import numpy as np\n",
    "import matplotlib.pyplot as plt\n",
    "import scipy.cluster.hierarchy as sch\n",
    "from sklearn.cluster import AgglomerativeClustering \n",
    "import seaborn as sns\n",
    "from sklearn.cluster import KMeans\n",
    "from sklearn.metrics import silhouette_score, silhouette_samples\n",
    "from yellowbrick.cluster import SilhouetteVisualizer\n",
    "import sklearn.metrics as skm\n",
    "\n",
    "%matplotlib inline"
   ]
  },
  {
   "cell_type": "code",
   "execution_count": 2,
   "id": "278d51bb",
   "metadata": {},
   "outputs": [
    {
     "data": {
      "text/plain": [
       "(85, 72)"
      ]
     },
     "execution_count": 2,
     "metadata": {},
     "output_type": "execute_result"
    }
   ],
   "source": [
    "# loading the data set\n",
    "federalist_papers = pd.read_csv('HW4-data-fedPapers85.csv') # file path needs to be replaced if code is run on another machine\n",
    "federalist_papers.shape # 85 rows and 72 columns in the data set"
   ]
  },
  {
   "cell_type": "code",
   "execution_count": 3,
   "id": "d2022e14",
   "metadata": {},
   "outputs": [
    {
     "data": {
      "text/html": [
       "<div>\n",
       "<style scoped>\n",
       "    .dataframe tbody tr th:only-of-type {\n",
       "        vertical-align: middle;\n",
       "    }\n",
       "\n",
       "    .dataframe tbody tr th {\n",
       "        vertical-align: top;\n",
       "    }\n",
       "\n",
       "    .dataframe thead th {\n",
       "        text-align: right;\n",
       "    }\n",
       "</style>\n",
       "<table border=\"1\" class=\"dataframe\">\n",
       "  <thead>\n",
       "    <tr style=\"text-align: right;\">\n",
       "      <th></th>\n",
       "      <th>author</th>\n",
       "      <th>filename</th>\n",
       "      <th>a</th>\n",
       "      <th>all</th>\n",
       "      <th>also</th>\n",
       "      <th>an</th>\n",
       "      <th>and</th>\n",
       "      <th>any</th>\n",
       "      <th>are</th>\n",
       "      <th>as</th>\n",
       "      <th>...</th>\n",
       "      <th>was</th>\n",
       "      <th>were</th>\n",
       "      <th>what</th>\n",
       "      <th>when</th>\n",
       "      <th>which</th>\n",
       "      <th>who</th>\n",
       "      <th>will</th>\n",
       "      <th>with</th>\n",
       "      <th>would</th>\n",
       "      <th>your</th>\n",
       "    </tr>\n",
       "  </thead>\n",
       "  <tbody>\n",
       "    <tr>\n",
       "      <th>0</th>\n",
       "      <td>dispt</td>\n",
       "      <td>dispt_fed_49.txt</td>\n",
       "      <td>0.280</td>\n",
       "      <td>0.052</td>\n",
       "      <td>0.009</td>\n",
       "      <td>0.096</td>\n",
       "      <td>0.358</td>\n",
       "      <td>0.026</td>\n",
       "      <td>0.131</td>\n",
       "      <td>0.122</td>\n",
       "      <td>...</td>\n",
       "      <td>0.009</td>\n",
       "      <td>0.017</td>\n",
       "      <td>0.000</td>\n",
       "      <td>0.009</td>\n",
       "      <td>0.175</td>\n",
       "      <td>0.044</td>\n",
       "      <td>0.009</td>\n",
       "      <td>0.087</td>\n",
       "      <td>0.192</td>\n",
       "      <td>0.0</td>\n",
       "    </tr>\n",
       "    <tr>\n",
       "      <th>1</th>\n",
       "      <td>dispt</td>\n",
       "      <td>dispt_fed_50.txt</td>\n",
       "      <td>0.177</td>\n",
       "      <td>0.063</td>\n",
       "      <td>0.013</td>\n",
       "      <td>0.038</td>\n",
       "      <td>0.393</td>\n",
       "      <td>0.063</td>\n",
       "      <td>0.051</td>\n",
       "      <td>0.139</td>\n",
       "      <td>...</td>\n",
       "      <td>0.051</td>\n",
       "      <td>0.000</td>\n",
       "      <td>0.000</td>\n",
       "      <td>0.000</td>\n",
       "      <td>0.114</td>\n",
       "      <td>0.038</td>\n",
       "      <td>0.089</td>\n",
       "      <td>0.063</td>\n",
       "      <td>0.139</td>\n",
       "      <td>0.0</td>\n",
       "    </tr>\n",
       "    <tr>\n",
       "      <th>2</th>\n",
       "      <td>dispt</td>\n",
       "      <td>dispt_fed_51.txt</td>\n",
       "      <td>0.339</td>\n",
       "      <td>0.090</td>\n",
       "      <td>0.008</td>\n",
       "      <td>0.030</td>\n",
       "      <td>0.301</td>\n",
       "      <td>0.008</td>\n",
       "      <td>0.068</td>\n",
       "      <td>0.203</td>\n",
       "      <td>...</td>\n",
       "      <td>0.008</td>\n",
       "      <td>0.015</td>\n",
       "      <td>0.008</td>\n",
       "      <td>0.000</td>\n",
       "      <td>0.105</td>\n",
       "      <td>0.008</td>\n",
       "      <td>0.173</td>\n",
       "      <td>0.045</td>\n",
       "      <td>0.068</td>\n",
       "      <td>0.0</td>\n",
       "    </tr>\n",
       "    <tr>\n",
       "      <th>3</th>\n",
       "      <td>dispt</td>\n",
       "      <td>dispt_fed_52.txt</td>\n",
       "      <td>0.270</td>\n",
       "      <td>0.024</td>\n",
       "      <td>0.016</td>\n",
       "      <td>0.024</td>\n",
       "      <td>0.262</td>\n",
       "      <td>0.056</td>\n",
       "      <td>0.064</td>\n",
       "      <td>0.111</td>\n",
       "      <td>...</td>\n",
       "      <td>0.087</td>\n",
       "      <td>0.079</td>\n",
       "      <td>0.008</td>\n",
       "      <td>0.024</td>\n",
       "      <td>0.167</td>\n",
       "      <td>0.000</td>\n",
       "      <td>0.079</td>\n",
       "      <td>0.079</td>\n",
       "      <td>0.064</td>\n",
       "      <td>0.0</td>\n",
       "    </tr>\n",
       "    <tr>\n",
       "      <th>4</th>\n",
       "      <td>dispt</td>\n",
       "      <td>dispt_fed_53.txt</td>\n",
       "      <td>0.303</td>\n",
       "      <td>0.054</td>\n",
       "      <td>0.027</td>\n",
       "      <td>0.034</td>\n",
       "      <td>0.404</td>\n",
       "      <td>0.040</td>\n",
       "      <td>0.128</td>\n",
       "      <td>0.148</td>\n",
       "      <td>...</td>\n",
       "      <td>0.027</td>\n",
       "      <td>0.020</td>\n",
       "      <td>0.020</td>\n",
       "      <td>0.007</td>\n",
       "      <td>0.155</td>\n",
       "      <td>0.027</td>\n",
       "      <td>0.168</td>\n",
       "      <td>0.074</td>\n",
       "      <td>0.040</td>\n",
       "      <td>0.0</td>\n",
       "    </tr>\n",
       "  </tbody>\n",
       "</table>\n",
       "<p>5 rows × 72 columns</p>\n",
       "</div>"
      ],
      "text/plain": [
       "  author          filename      a    all   also     an    and    any    are  \\\n",
       "0  dispt  dispt_fed_49.txt  0.280  0.052  0.009  0.096  0.358  0.026  0.131   \n",
       "1  dispt  dispt_fed_50.txt  0.177  0.063  0.013  0.038  0.393  0.063  0.051   \n",
       "2  dispt  dispt_fed_51.txt  0.339  0.090  0.008  0.030  0.301  0.008  0.068   \n",
       "3  dispt  dispt_fed_52.txt  0.270  0.024  0.016  0.024  0.262  0.056  0.064   \n",
       "4  dispt  dispt_fed_53.txt  0.303  0.054  0.027  0.034  0.404  0.040  0.128   \n",
       "\n",
       "      as  ...    was   were   what   when  which    who   will   with  would  \\\n",
       "0  0.122  ...  0.009  0.017  0.000  0.009  0.175  0.044  0.009  0.087  0.192   \n",
       "1  0.139  ...  0.051  0.000  0.000  0.000  0.114  0.038  0.089  0.063  0.139   \n",
       "2  0.203  ...  0.008  0.015  0.008  0.000  0.105  0.008  0.173  0.045  0.068   \n",
       "3  0.111  ...  0.087  0.079  0.008  0.024  0.167  0.000  0.079  0.079  0.064   \n",
       "4  0.148  ...  0.027  0.020  0.020  0.007  0.155  0.027  0.168  0.074  0.040   \n",
       "\n",
       "   your  \n",
       "0   0.0  \n",
       "1   0.0  \n",
       "2   0.0  \n",
       "3   0.0  \n",
       "4   0.0  \n",
       "\n",
       "[5 rows x 72 columns]"
      ]
     },
     "execution_count": 3,
     "metadata": {},
     "output_type": "execute_result"
    }
   ],
   "source": [
    "federalist_papers.head() # viewing the first 5 rows in the data set"
   ]
  },
  {
   "cell_type": "code",
   "execution_count": 4,
   "id": "5012beec",
   "metadata": {},
   "outputs": [
    {
     "name": "stdout",
     "output_type": "stream",
     "text": [
      "<class 'pandas.core.frame.DataFrame'>\n",
      "RangeIndex: 85 entries, 0 to 84\n",
      "Data columns (total 72 columns):\n",
      " #   Column    Non-Null Count  Dtype  \n",
      "---  ------    --------------  -----  \n",
      " 0   author    85 non-null     object \n",
      " 1   filename  85 non-null     object \n",
      " 2   a         85 non-null     float64\n",
      " 3   all       85 non-null     float64\n",
      " 4   also      85 non-null     float64\n",
      " 5   an        85 non-null     float64\n",
      " 6   and       85 non-null     float64\n",
      " 7   any       85 non-null     float64\n",
      " 8   are       85 non-null     float64\n",
      " 9   as        85 non-null     float64\n",
      " 10  at        85 non-null     float64\n",
      " 11  be        85 non-null     float64\n",
      " 12  been      85 non-null     float64\n",
      " 13  but       85 non-null     float64\n",
      " 14  by        85 non-null     float64\n",
      " 15  can       85 non-null     float64\n",
      " 16  do        85 non-null     float64\n",
      " 17  down      85 non-null     float64\n",
      " 18  even      85 non-null     float64\n",
      " 19  every     85 non-null     float64\n",
      " 20  for       85 non-null     float64\n",
      " 21  from      85 non-null     float64\n",
      " 22  had       85 non-null     float64\n",
      " 23  has       85 non-null     float64\n",
      " 24  have      85 non-null     float64\n",
      " 25  her       85 non-null     float64\n",
      " 26  his       85 non-null     float64\n",
      " 27  if        85 non-null     float64\n",
      " 28  in        85 non-null     float64\n",
      " 29  into      85 non-null     float64\n",
      " 30  is        85 non-null     float64\n",
      " 31  it        85 non-null     float64\n",
      " 32  its       85 non-null     float64\n",
      " 33  may       85 non-null     float64\n",
      " 34  more      85 non-null     float64\n",
      " 35  must      85 non-null     float64\n",
      " 36  my        85 non-null     float64\n",
      " 37  no        85 non-null     float64\n",
      " 38  not       85 non-null     float64\n",
      " 39  now       85 non-null     float64\n",
      " 40  of        85 non-null     float64\n",
      " 41  on        85 non-null     float64\n",
      " 42  one       85 non-null     float64\n",
      " 43  only      85 non-null     float64\n",
      " 44  or        85 non-null     float64\n",
      " 45  our       85 non-null     float64\n",
      " 46  shall     85 non-null     float64\n",
      " 47  should    85 non-null     float64\n",
      " 48  so        85 non-null     float64\n",
      " 49  some      85 non-null     float64\n",
      " 50  such      85 non-null     float64\n",
      " 51  than      85 non-null     float64\n",
      " 52  that      85 non-null     float64\n",
      " 53  the       85 non-null     float64\n",
      " 54  their     85 non-null     float64\n",
      " 55  then      85 non-null     float64\n",
      " 56  there     85 non-null     float64\n",
      " 57  things    85 non-null     float64\n",
      " 58  this      85 non-null     float64\n",
      " 59  to        85 non-null     float64\n",
      " 60  up        85 non-null     float64\n",
      " 61  upon      85 non-null     float64\n",
      " 62  was       85 non-null     float64\n",
      " 63  were      85 non-null     float64\n",
      " 64  what      85 non-null     float64\n",
      " 65  when      85 non-null     float64\n",
      " 66  which     85 non-null     float64\n",
      " 67  who       85 non-null     float64\n",
      " 68  will      85 non-null     float64\n",
      " 69  with      85 non-null     float64\n",
      " 70  would     85 non-null     float64\n",
      " 71  your      85 non-null     float64\n",
      "dtypes: float64(70), object(2)\n",
      "memory usage: 47.9+ KB\n"
     ]
    }
   ],
   "source": [
    "federalist_papers.info() # datatype and null values in the data"
   ]
  },
  {
   "cell_type": "markdown",
   "id": "55b4414a",
   "metadata": {},
   "source": [
    "#### All the columns are numeric variables except for author and file name"
   ]
  },
  {
   "cell_type": "code",
   "execution_count": 5,
   "id": "bab9b942",
   "metadata": {},
   "outputs": [
    {
     "data": {
      "text/plain": [
       "Hamilton    51\n",
       "Madison     15\n",
       "dispt       11\n",
       "Jay          5\n",
       "HM           3\n",
       "Name: author, dtype: int64"
      ]
     },
     "execution_count": 5,
     "metadata": {},
     "output_type": "execute_result"
    }
   ],
   "source": [
    "# number of federal papers \n",
    "federalist_papers.author.value_counts()"
   ]
  },
  {
   "cell_type": "code",
   "execution_count": 6,
   "id": "a387ab0d",
   "metadata": {},
   "outputs": [
    {
     "data": {
      "text/plain": [
       "Text(0.5, 1.0, 'Pie Chart of Authors')"
      ]
     },
     "execution_count": 6,
     "metadata": {},
     "output_type": "execute_result"
    },
    {
     "data": {
      "image/png": "[encoded data removed]",
      "text/plain": [
       "<Figure size 432x288 with 1 Axes>"
      ]
     },
     "metadata": {},
     "output_type": "display_data"
    }
   ],
   "source": [
    "plt.pie(federalist_papers.author.value_counts(), labels = ['Hamilton','Madison','dispt','Jay','HM'], \n",
    "        colors = sns.color_palette('bright'), \n",
    "        autopct = '%0.0f%%')\n",
    "plt.title('Pie Chart of Authors')"
   ]
  },
  {
   "cell_type": "markdown",
   "id": "ef432bf3",
   "metadata": {},
   "source": [
    "#### Data is imbalanced - data has 60% of essays written by hamilton"
   ]
  },
  {
   "cell_type": "code",
   "execution_count": 7,
   "id": "b89483ae",
   "metadata": {},
   "outputs": [
    {
     "data": {
      "text/html": [
       "<div>\n",
       "<style scoped>\n",
       "    .dataframe tbody tr th:only-of-type {\n",
       "        vertical-align: middle;\n",
       "    }\n",
       "\n",
       "    .dataframe tbody tr th {\n",
       "        vertical-align: top;\n",
       "    }\n",
       "\n",
       "    .dataframe thead th {\n",
       "        text-align: right;\n",
       "    }\n",
       "</style>\n",
       "<table border=\"1\" class=\"dataframe\">\n",
       "  <thead>\n",
       "    <tr style=\"text-align: right;\">\n",
       "      <th></th>\n",
       "      <th>author</th>\n",
       "    </tr>\n",
       "  </thead>\n",
       "  <tbody>\n",
       "    <tr>\n",
       "      <th>count</th>\n",
       "      <td>85</td>\n",
       "    </tr>\n",
       "    <tr>\n",
       "      <th>unique</th>\n",
       "      <td>5</td>\n",
       "    </tr>\n",
       "    <tr>\n",
       "      <th>top</th>\n",
       "      <td>Hamilton</td>\n",
       "    </tr>\n",
       "    <tr>\n",
       "      <th>freq</th>\n",
       "      <td>51</td>\n",
       "    </tr>\n",
       "  </tbody>\n",
       "</table>\n",
       "</div>"
      ],
      "text/plain": [
       "          author\n",
       "count         85\n",
       "unique         5\n",
       "top     Hamilton\n",
       "freq          51"
      ]
     },
     "execution_count": 7,
     "metadata": {},
     "output_type": "execute_result"
    }
   ],
   "source": [
    "#Summary of the authors\n",
    "federalist_papers[['author']].describe()"
   ]
  },
  {
   "cell_type": "code",
   "execution_count": 8,
   "id": "988caad0",
   "metadata": {},
   "outputs": [
    {
     "data": {
      "text/plain": [
       "<AxesSubplot:>"
      ]
     },
     "execution_count": 8,
     "metadata": {},
     "output_type": "execute_result"
    },
    {
     "data": {
      "image/png": "[encoded data removed]",
      "text/plain": [
       "<Figure size 432x288 with 2 Axes>"
      ]
     },
     "metadata": {
      "needs_background": "light"
     },
     "output_type": "display_data"
    }
   ],
   "source": [
    "sns.heatmap(federalist_papers.isnull()) # no null values present"
   ]
  },
  {
   "cell_type": "code",
   "execution_count": 9,
   "id": "3d2ed33d",
   "metadata": {},
   "outputs": [
    {
     "data": {
      "text/plain": [
       "<AxesSubplot:>"
      ]
     },
     "execution_count": 9,
     "metadata": {},
     "output_type": "execute_result"
    },
    {
     "data": {
      "image/png": "[encoded data removed]",
      "text/plain": [
       "<Figure size 432x288 with 2 Axes>"
      ]
     },
     "metadata": {
      "needs_background": "light"
     },
     "output_type": "display_data"
    }
   ],
   "source": [
    "sns.heatmap(federalist_papers.isna()) # no NA's are present"
   ]
  },
  {
   "cell_type": "code",
   "execution_count": 10,
   "id": "239d32d8",
   "metadata": {},
   "outputs": [
    {
     "data": {
      "text/plain": [
       "array(['dispt', 'Hamilton', 'HM', 'Jay', 'Madison'], dtype=object)"
      ]
     },
     "execution_count": 10,
     "metadata": {},
     "output_type": "execute_result"
    }
   ],
   "source": [
    "federalist_papers['author'].unique()"
   ]
  },
  {
   "cell_type": "code",
   "execution_count": 11,
   "id": "9ad2b6cd",
   "metadata": {},
   "outputs": [
    {
     "data": {
      "text/plain": [
       "(85, 70)"
      ]
     },
     "execution_count": 11,
     "metadata": {},
     "output_type": "execute_result"
    }
   ],
   "source": [
    "paper_arr = federalist_papers.iloc[:,2:].values\n",
    "paper_arr.shape"
   ]
  },
  {
   "cell_type": "code",
   "execution_count": 12,
   "id": "6aee18f1",
   "metadata": {},
   "outputs": [
    {
     "data": {
      "text/plain": [
       "array([[0.28 , 0.052, 0.009, ..., 0.087, 0.192, 0.   ],\n",
       "       [0.177, 0.063, 0.013, ..., 0.063, 0.139, 0.   ],\n",
       "       [0.339, 0.09 , 0.008, ..., 0.045, 0.068, 0.   ],\n",
       "       ...,\n",
       "       [0.177, 0.052, 0.047, ..., 0.099, 0.021, 0.   ],\n",
       "       [0.243, 0.091, 0.008, ..., 0.061, 0.023, 0.   ],\n",
       "       [0.347, 0.097, 0.007, ..., 0.083, 0.083, 0.   ]])"
      ]
     },
     "execution_count": 12,
     "metadata": {},
     "output_type": "execute_result"
    }
   ],
   "source": [
    "paper_arr"
   ]
  },
  {
   "cell_type": "markdown",
   "id": "2453ca82",
   "metadata": {},
   "source": [
    "# K MEANS CLUSTERING"
   ]
  },
  {
   "cell_type": "markdown",
   "id": "518d6182",
   "metadata": {},
   "source": [
    "#### Elbow method for finding optimal number of clusters (K value)"
   ]
  },
  {
   "cell_type": "code",
   "execution_count": 13,
   "id": "beec7189",
   "metadata": {},
   "outputs": [],
   "source": [
    "SSE_cluster = []\n",
    "for i in range(2,11): # choosing 10 clusters\n",
    "    kmeans = KMeans(n_clusters=i,init='k-means++',random_state=0)\n",
    "    kmeans.fit(paper_arr) # Compute k-means clustering\n",
    "    SSE_cluster.append(kmeans.inertia_)"
   ]
  },
  {
   "cell_type": "code",
   "execution_count": 14,
   "id": "fd72e59c",
   "metadata": {},
   "outputs": [
    {
     "data": {
      "image/png": "[encoded data removed]",
      "text/plain": [
       "<Figure size 432x288 with 1 Axes>"
      ]
     },
     "metadata": {
      "needs_background": "light"
     },
     "output_type": "display_data"
    }
   ],
   "source": [
    "plt.plot(range(2,11),SSE_cluster) # plotting numbers of clusers vs SSE\n",
    "plt.title('The Elbow Method')\n",
    "plt.xlabel('Number of clusters')\n",
    "plt.ylabel('SSE')\n",
    "plt.show()"
   ]
  },
  {
   "cell_type": "markdown",
   "id": "3e5246b7",
   "metadata": {},
   "source": [
    "#### From the above SSE vs Number of clusters line plot, we can conclude that optimal number of clusters as 5"
   ]
  },
  {
   "cell_type": "code",
   "execution_count": 15,
   "id": "b162c07c",
   "metadata": {},
   "outputs": [
    {
     "data": {
      "text/plain": [
       "array([1, 1, 1, 1, 3, 1, 3, 4, 1, 3, 1, 3, 3, 3, 3, 3, 2, 4, 3, 3, 2, 3,\n",
       "       3, 3, 2, 2, 2, 3, 2, 1, 3, 3, 3, 2, 3, 4, 2, 2, 2, 2, 2, 2, 2, 3,\n",
       "       3, 2, 3, 3, 2, 2, 3, 3, 2, 3, 3, 2, 2, 2, 3, 2, 3, 3, 4, 4, 4, 0,\n",
       "       0, 0, 0, 0, 4, 1, 4, 3, 1, 4, 1, 4, 1, 1, 1, 1, 1, 4, 1])"
      ]
     },
     "execution_count": 15,
     "metadata": {},
     "output_type": "execute_result"
    }
   ],
   "source": [
    "# Fitting K means to the dataset\n",
    "kmeans = KMeans(n_clusters=5,init='k-means++',random_state=0)\n",
    "y_kmeans = kmeans.fit_predict(paper_arr) # Compute cluster centers and predict cluster index for each sample\n",
    "y_kmeans # contains index of the cluster each sample belongs to"
   ]
  },
  {
   "cell_type": "code",
   "execution_count": 16,
   "id": "1c601f62",
   "metadata": {},
   "outputs": [
    {
     "data": {
      "text/plain": [
       "0     1\n",
       "1     1\n",
       "2     1\n",
       "3     1\n",
       "4     3\n",
       "     ..\n",
       "80    1\n",
       "81    1\n",
       "82    1\n",
       "83    4\n",
       "84    1\n",
       "Name: predicted, Length: 85, dtype: int32"
      ]
     },
     "execution_count": 16,
     "metadata": {},
     "output_type": "execute_result"
    }
   ],
   "source": [
    "federalist_papers['predicted'] = y_kmeans\n",
    "federalist_papers['predicted']"
   ]
  },
  {
   "cell_type": "markdown",
   "id": "b21bb7d3",
   "metadata": {},
   "source": [
    "#### VALIDATING THE CLUSTER MODEL WITH SILHOUETTE SCORE"
   ]
  },
  {
   "cell_type": "code",
   "execution_count": 17,
   "id": "e364b20c",
   "metadata": {},
   "outputs": [
    {
     "data": {
      "text/plain": [
       "0.11557311610199418"
      ]
     },
     "execution_count": 17,
     "metadata": {},
     "output_type": "execute_result"
    }
   ],
   "source": [
    "score = silhouette_score(paper_arr, y_kmeans)\n",
    "score # 0.12 is still a good score because score is not negative. "
   ]
  },
  {
   "cell_type": "code",
   "execution_count": 18,
   "id": "805d01c9",
   "metadata": {},
   "outputs": [
    {
     "data": {
      "image/png": "[encoded data removed]",
      "text/plain": [
       "<Figure size 432x288 with 1 Axes>"
      ]
     },
     "metadata": {
      "needs_background": "light"
     },
     "output_type": "display_data"
    },
    {
     "data": {
      "text/plain": [
       "<AxesSubplot:title={'center':'Silhouette Plot of KMeans Clustering for 85 Samples in 5 Centers'}, xlabel='silhouette coefficient values', ylabel='cluster label'>"
      ]
     },
     "execution_count": 18,
     "metadata": {},
     "output_type": "execute_result"
    }
   ],
   "source": [
    "#Using Silhouette Plot\n",
    "visualizer = SilhouetteVisualizer(kmeans,colors =  'yellowbrick')\n",
    "\n",
    "#Fit the data to the visualizer\n",
    "visualizer.fit(paper_arr)       \n",
    "\n",
    "#Render the figure\n",
    "visualizer.show()"
   ]
  },
  {
   "cell_type": "code",
   "execution_count": 19,
   "id": "cf58955e",
   "metadata": {},
   "outputs": [
    {
     "data": {
      "text/html": [
       "<div>\n",
       "<style scoped>\n",
       "    .dataframe tbody tr th:only-of-type {\n",
       "        vertical-align: middle;\n",
       "    }\n",
       "\n",
       "    .dataframe tbody tr th {\n",
       "        vertical-align: top;\n",
       "    }\n",
       "\n",
       "    .dataframe thead th {\n",
       "        text-align: right;\n",
       "    }\n",
       "</style>\n",
       "<table border=\"1\" class=\"dataframe\">\n",
       "  <thead>\n",
       "    <tr style=\"text-align: right;\">\n",
       "      <th>Predicted</th>\n",
       "      <th>0</th>\n",
       "      <th>1</th>\n",
       "      <th>2</th>\n",
       "      <th>3</th>\n",
       "      <th>4</th>\n",
       "    </tr>\n",
       "    <tr>\n",
       "      <th>Actual</th>\n",
       "      <th></th>\n",
       "      <th></th>\n",
       "      <th></th>\n",
       "      <th></th>\n",
       "      <th></th>\n",
       "    </tr>\n",
       "  </thead>\n",
       "  <tbody>\n",
       "    <tr>\n",
       "      <th>HM</th>\n",
       "      <td>0</td>\n",
       "      <td>0</td>\n",
       "      <td>0</td>\n",
       "      <td>0</td>\n",
       "      <td>3</td>\n",
       "    </tr>\n",
       "    <tr>\n",
       "      <th>Hamilton</th>\n",
       "      <td>0</td>\n",
       "      <td>1</td>\n",
       "      <td>22</td>\n",
       "      <td>26</td>\n",
       "      <td>2</td>\n",
       "    </tr>\n",
       "    <tr>\n",
       "      <th>Jay</th>\n",
       "      <td>5</td>\n",
       "      <td>0</td>\n",
       "      <td>0</td>\n",
       "      <td>0</td>\n",
       "      <td>0</td>\n",
       "    </tr>\n",
       "    <tr>\n",
       "      <th>Madison</th>\n",
       "      <td>0</td>\n",
       "      <td>9</td>\n",
       "      <td>0</td>\n",
       "      <td>1</td>\n",
       "      <td>5</td>\n",
       "    </tr>\n",
       "    <tr>\n",
       "      <th>dispt</th>\n",
       "      <td>0</td>\n",
       "      <td>7</td>\n",
       "      <td>0</td>\n",
       "      <td>3</td>\n",
       "      <td>1</td>\n",
       "    </tr>\n",
       "  </tbody>\n",
       "</table>\n",
       "</div>"
      ],
      "text/plain": [
       "Predicted  0  1   2   3  4\n",
       "Actual                    \n",
       "HM         0  0   0   0  3\n",
       "Hamilton   0  1  22  26  2\n",
       "Jay        5  0   0   0  0\n",
       "Madison    0  9   0   1  5\n",
       "dispt      0  7   0   3  1"
      ]
     },
     "execution_count": 19,
     "metadata": {},
     "output_type": "execute_result"
    }
   ],
   "source": [
    "# confusion matrix\n",
    "tab = pd.crosstab(federalist_papers['author'],y_kmeans,rownames=['Actual'],colnames=['Predicted'])\n",
    "tab"
   ]
  },
  {
   "cell_type": "code",
   "execution_count": 20,
   "id": "1151429a",
   "metadata": {},
   "outputs": [],
   "source": [
    "# replacing predicted cluster numbers with class attribute\n",
    "federalist_papers['predicted'].replace([0,1,2,3,4],['Jay','Madison','Hamilton','Hamilton','HM'],inplace=True)"
   ]
  },
  {
   "cell_type": "code",
   "execution_count": 21,
   "id": "e6f3f221",
   "metadata": {},
   "outputs": [
    {
     "data": {
      "text/plain": [
       "0.5846220527045769"
      ]
     },
     "execution_count": 21,
     "metadata": {},
     "output_type": "execute_result"
    }
   ],
   "source": [
    "skm.f1_score(federalist_papers['author'],federalist_papers['predicted'],average=\"macro\")"
   ]
  },
  {
   "cell_type": "code",
   "execution_count": 22,
   "id": "d37ea804",
   "metadata": {},
   "outputs": [
    {
     "data": {
      "text/plain": [
       "<AxesSubplot:xlabel='Predicted', ylabel='Actual'>"
      ]
     },
     "execution_count": 22,
     "metadata": {},
     "output_type": "execute_result"
    },
    {
     "data": {
      "image/png": "[encoded data removed]",
      "text/plain": [
       "<Figure size 432x288 with 2 Axes>"
      ]
     },
     "metadata": {
      "needs_background": "light"
     },
     "output_type": "display_data"
    }
   ],
   "source": [
    "sns.heatmap(tab)"
   ]
  },
  {
   "cell_type": "markdown",
   "id": "308f6180",
   "metadata": {},
   "source": [
    "# HIERARCHIAL CLUSTERING"
   ]
  },
  {
   "cell_type": "code",
   "execution_count": 33,
   "id": "4a5f9628",
   "metadata": {},
   "outputs": [
    {
     "data": {
      "image/png": "[encoded data removed]",
      "text/plain": [
       "<Figure size 1440x1440 with 1 Axes>"
      ]
     },
     "metadata": {
      "needs_background": "light"
     },
     "output_type": "display_data"
    }
   ],
   "source": [
    "# dendogram to find number of clusters\n",
    "plt.figure(figsize=(20, 20))  \n",
    "\n",
    "dendrogram_comp = sch.dendrogram(sch.linkage(paper_arr, method  = \"ward\"), \n",
    "                            orientation='top')\n",
    "plt.title('Dendrogram')\n",
    "plt.xlabel('Federal Papers')\n",
    "plt.ylabel('Euclidean distances')\n",
    "plt.axhline(y=1.25, color='r', linestyle='--')\n",
    "plt.grid(b=None)"
   ]
  },
  {
   "cell_type": "markdown",
   "id": "8655b4e3",
   "metadata": {},
   "source": [
    "#### From the above dendogram, we can conclude that optimal number of clusters are 3 but according to the given dataset, 5 clusters are possible"
   ]
  },
  {
   "cell_type": "code",
   "execution_count": 24,
   "id": "0295d998",
   "metadata": {},
   "outputs": [
    {
     "data": {
      "text/plain": [
       "array([0, 2, 1, 1, 2, 1, 2, 2, 1, 2], dtype=int64)"
      ]
     },
     "execution_count": 24,
     "metadata": {},
     "output_type": "execute_result"
    }
   ],
   "source": [
    "# Fitting hierarchical clustering to the federal papers dataset\n",
    "hc = AgglomerativeClustering(n_clusters = 5, affinity = 'euclidean', linkage ='ward')\n",
    "predicted = hc.fit_predict(paper_arr)\n",
    "predicted[:10]"
   ]
  },
  {
   "cell_type": "code",
   "execution_count": 25,
   "id": "5766e1ae",
   "metadata": {},
   "outputs": [],
   "source": [
    "federalist_papers['predicted'] = predicted"
   ]
  },
  {
   "cell_type": "code",
   "execution_count": 26,
   "id": "ad352bdc",
   "metadata": {},
   "outputs": [
    {
     "data": {
      "text/html": [
       "<div>\n",
       "<style scoped>\n",
       "    .dataframe tbody tr th:only-of-type {\n",
       "        vertical-align: middle;\n",
       "    }\n",
       "\n",
       "    .dataframe tbody tr th {\n",
       "        vertical-align: top;\n",
       "    }\n",
       "\n",
       "    .dataframe thead th {\n",
       "        text-align: right;\n",
       "    }\n",
       "</style>\n",
       "<table border=\"1\" class=\"dataframe\">\n",
       "  <thead>\n",
       "    <tr style=\"text-align: right;\">\n",
       "      <th>Predicted</th>\n",
       "      <th>0</th>\n",
       "      <th>1</th>\n",
       "      <th>2</th>\n",
       "      <th>3</th>\n",
       "      <th>4</th>\n",
       "    </tr>\n",
       "    <tr>\n",
       "      <th>Actual</th>\n",
       "      <th></th>\n",
       "      <th></th>\n",
       "      <th></th>\n",
       "      <th></th>\n",
       "      <th></th>\n",
       "    </tr>\n",
       "  </thead>\n",
       "  <tbody>\n",
       "    <tr>\n",
       "      <th>HM</th>\n",
       "      <td>0</td>\n",
       "      <td>0</td>\n",
       "      <td>0</td>\n",
       "      <td>0</td>\n",
       "      <td>3</td>\n",
       "    </tr>\n",
       "    <tr>\n",
       "      <th>Hamilton</th>\n",
       "      <td>28</td>\n",
       "      <td>1</td>\n",
       "      <td>22</td>\n",
       "      <td>0</td>\n",
       "      <td>0</td>\n",
       "    </tr>\n",
       "    <tr>\n",
       "      <th>Jay</th>\n",
       "      <td>0</td>\n",
       "      <td>0</td>\n",
       "      <td>0</td>\n",
       "      <td>5</td>\n",
       "      <td>0</td>\n",
       "    </tr>\n",
       "    <tr>\n",
       "      <th>Madison</th>\n",
       "      <td>0</td>\n",
       "      <td>9</td>\n",
       "      <td>6</td>\n",
       "      <td>0</td>\n",
       "      <td>0</td>\n",
       "    </tr>\n",
       "    <tr>\n",
       "      <th>dispt</th>\n",
       "      <td>1</td>\n",
       "      <td>5</td>\n",
       "      <td>5</td>\n",
       "      <td>0</td>\n",
       "      <td>0</td>\n",
       "    </tr>\n",
       "  </tbody>\n",
       "</table>\n",
       "</div>"
      ],
      "text/plain": [
       "Predicted   0  1   2  3  4\n",
       "Actual                    \n",
       "HM          0  0   0  0  3\n",
       "Hamilton   28  1  22  0  0\n",
       "Jay         0  0   0  5  0\n",
       "Madison     0  9   6  0  0\n",
       "dispt       1  5   5  0  0"
      ]
     },
     "execution_count": 26,
     "metadata": {},
     "output_type": "execute_result"
    }
   ],
   "source": [
    "# confusion matrix\n",
    "tab = pd.crosstab(federalist_papers['author'],predicted,rownames=['Actual'],colnames=['Predicted'])\n",
    "tab"
   ]
  },
  {
   "cell_type": "code",
   "execution_count": 27,
   "id": "c040d8b6",
   "metadata": {},
   "outputs": [],
   "source": [
    "# replacing predicted cluster numbers with class attribute\n",
    "federalist_papers['predicted'].replace([0,1,2,3,4],['Hamilton','Madison','Hamilton','Jay','HM'],inplace=True)"
   ]
  },
  {
   "cell_type": "code",
   "execution_count": 28,
   "id": "dcc4b827",
   "metadata": {},
   "outputs": [
    {
     "data": {
      "text/plain": [
       "0     Hamilton\n",
       "1     Hamilton\n",
       "2      Madison\n",
       "3      Madison\n",
       "4     Hamilton\n",
       "        ...   \n",
       "80     Madison\n",
       "81     Madison\n",
       "82     Madison\n",
       "83    Hamilton\n",
       "84     Madison\n",
       "Name: predicted, Length: 85, dtype: object"
      ]
     },
     "execution_count": 28,
     "metadata": {},
     "output_type": "execute_result"
    }
   ],
   "source": [
    "federalist_papers['predicted']"
   ]
  },
  {
   "cell_type": "code",
   "execution_count": 29,
   "id": "dbeaf767",
   "metadata": {},
   "outputs": [
    {
     "data": {
      "text/plain": [
       "0.696991150442478"
      ]
     },
     "execution_count": 29,
     "metadata": {},
     "output_type": "execute_result"
    }
   ],
   "source": [
    "skm.f1_score(federalist_papers['author'],federalist_papers['predicted'],average=\"macro\")"
   ]
  },
  {
   "cell_type": "code",
   "execution_count": 30,
   "id": "51356c11",
   "metadata": {},
   "outputs": [
    {
     "data": {
      "text/plain": [
       "<AxesSubplot:xlabel='Predicted', ylabel='Actual'>"
      ]
     },
     "execution_count": 30,
     "metadata": {},
     "output_type": "execute_result"
    },
    {
     "data": {
      "image/png": "[encoded data removed]",
      "text/plain": [
       "<Figure size 432x288 with 2 Axes>"
      ]
     },
     "metadata": {
      "needs_background": "light"
     },
     "output_type": "display_data"
    }
   ],
   "source": [
    "sns.heatmap(tab)"
   ]
  },
  {
   "cell_type": "markdown",
   "id": "e64450ec",
   "metadata": {},
   "source": []
  }
 ],
 "metadata": {
  "kernelspec": {
   "display_name": "Python 3 (ipykernel)",
   "language": "python",
   "name": "python3"
  },
  "language_info": {
   "codemirror_mode": {
    "name": "ipython",
    "version": 3
   },
   "file_extension": ".py",
   "mimetype": "text/x-python",
   "name": "python",
   "nbconvert_exporter": "python",
   "pygments_lexer": "ipython3",
   "version": "3.9.7"
  }
 },
 "nbformat": 4,
 "nbformat_minor": 5
}
