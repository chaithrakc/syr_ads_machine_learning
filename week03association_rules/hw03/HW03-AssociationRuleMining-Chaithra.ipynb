{
 "cells": [
  {
   "cell_type": "markdown",
   "metadata": {},
   "source": [
    "## AML Homework 03 – Association Rule Mining"
   ]
  },
  {
   "cell_type": "markdown",
   "metadata": {},
   "source": [
    "Name: Chaithra Kopparam Cheluvaiah\n",
    "\n",
    "SUID: 326926205\n",
    "\n",
    "Email: ckoppara@syr.edu"
   ]
  },
  {
   "cell_type": "code",
   "execution_count": 90,
   "metadata": {
    "_cell_guid": "b1076dfc-b9ad-4769-8c92-a6c4dae69d19",
    "_uuid": "8f2839f25d086af736a60e9eeb907d3b93b6e0e5",
    "execution": {
     "iopub.execute_input": "2022-02-16T00:46:15.580514Z",
     "iopub.status.busy": "2022-02-16T00:46:15.580160Z",
     "iopub.status.idle": "2022-02-16T00:46:29.881450Z",
     "shell.execute_reply": "2022-02-16T00:46:29.880533Z",
     "shell.execute_reply.started": "2022-02-16T00:46:15.580455Z"
    }
   },
   "outputs": [],
   "source": [
    "# importing required libraries\n",
    "import numpy as np\n",
    "import pandas as pd\n",
    "import seaborn as sns\n",
    "import plotly.graph_objects as go\n",
    "import plotly.express as px\n",
    "import matplotlib.pyplot as plt\n",
    "\n",
    "from apyori import apriori"
   ]
  },
  {
   "cell_type": "markdown",
   "metadata": {},
   "source": [
    "#### 1. DATA LOADING"
   ]
  },
  {
   "cell_type": "code",
   "execution_count": 2,
   "metadata": {
    "execution": {
     "iopub.execute_input": "2022-02-16T00:46:35.186908Z",
     "iopub.status.busy": "2022-02-16T00:46:35.186220Z",
     "iopub.status.idle": "2022-02-16T00:46:35.196820Z",
     "shell.execute_reply": "2022-02-16T00:46:35.196115Z",
     "shell.execute_reply.started": "2022-02-16T00:46:35.186865Z"
    }
   },
   "outputs": [],
   "source": [
    "# loading the data\n",
    "bank = pd.read_csv(r'bankdata_csv_all.csv')  # file path needs to be changed "
   ]
  },
  {
   "cell_type": "code",
   "execution_count": 3,
   "metadata": {
    "execution": {
     "iopub.execute_input": "2022-02-16T00:46:36.858773Z",
     "iopub.status.busy": "2022-02-16T00:46:36.857957Z",
     "iopub.status.idle": "2022-02-16T00:46:36.875814Z",
     "shell.execute_reply": "2022-02-16T00:46:36.875104Z",
     "shell.execute_reply.started": "2022-02-16T00:46:36.858728Z"
    }
   },
   "outputs": [
    {
     "data": {
      "text/html": [
       "<div>\n",
       "<style scoped>\n",
       "    .dataframe tbody tr th:only-of-type {\n",
       "        vertical-align: middle;\n",
       "    }\n",
       "\n",
       "    .dataframe tbody tr th {\n",
       "        vertical-align: top;\n",
       "    }\n",
       "\n",
       "    .dataframe thead th {\n",
       "        text-align: right;\n",
       "    }\n",
       "</style>\n",
       "<table border=\"1\" class=\"dataframe\">\n",
       "  <thead>\n",
       "    <tr style=\"text-align: right;\">\n",
       "      <th></th>\n",
       "      <th>id</th>\n",
       "      <th>age</th>\n",
       "      <th>sex</th>\n",
       "      <th>region</th>\n",
       "      <th>income</th>\n",
       "      <th>married</th>\n",
       "      <th>children</th>\n",
       "      <th>car</th>\n",
       "      <th>save_act</th>\n",
       "      <th>current_act</th>\n",
       "      <th>mortgage</th>\n",
       "      <th>pep</th>\n",
       "    </tr>\n",
       "  </thead>\n",
       "  <tbody>\n",
       "    <tr>\n",
       "      <th>0</th>\n",
       "      <td>ID12101</td>\n",
       "      <td>48</td>\n",
       "      <td>FEMALE</td>\n",
       "      <td>INNER_CITY</td>\n",
       "      <td>17546.0</td>\n",
       "      <td>NO</td>\n",
       "      <td>1</td>\n",
       "      <td>NO</td>\n",
       "      <td>NO</td>\n",
       "      <td>NO</td>\n",
       "      <td>NO</td>\n",
       "      <td>YES</td>\n",
       "    </tr>\n",
       "    <tr>\n",
       "      <th>1</th>\n",
       "      <td>ID12102</td>\n",
       "      <td>40</td>\n",
       "      <td>MALE</td>\n",
       "      <td>TOWN</td>\n",
       "      <td>30085.1</td>\n",
       "      <td>YES</td>\n",
       "      <td>3</td>\n",
       "      <td>YES</td>\n",
       "      <td>NO</td>\n",
       "      <td>YES</td>\n",
       "      <td>YES</td>\n",
       "      <td>NO</td>\n",
       "    </tr>\n",
       "    <tr>\n",
       "      <th>2</th>\n",
       "      <td>ID12103</td>\n",
       "      <td>51</td>\n",
       "      <td>FEMALE</td>\n",
       "      <td>INNER_CITY</td>\n",
       "      <td>16575.4</td>\n",
       "      <td>YES</td>\n",
       "      <td>0</td>\n",
       "      <td>YES</td>\n",
       "      <td>YES</td>\n",
       "      <td>YES</td>\n",
       "      <td>NO</td>\n",
       "      <td>NO</td>\n",
       "    </tr>\n",
       "    <tr>\n",
       "      <th>3</th>\n",
       "      <td>ID12104</td>\n",
       "      <td>23</td>\n",
       "      <td>FEMALE</td>\n",
       "      <td>TOWN</td>\n",
       "      <td>20375.4</td>\n",
       "      <td>YES</td>\n",
       "      <td>3</td>\n",
       "      <td>NO</td>\n",
       "      <td>NO</td>\n",
       "      <td>YES</td>\n",
       "      <td>NO</td>\n",
       "      <td>NO</td>\n",
       "    </tr>\n",
       "    <tr>\n",
       "      <th>4</th>\n",
       "      <td>ID12105</td>\n",
       "      <td>57</td>\n",
       "      <td>FEMALE</td>\n",
       "      <td>RURAL</td>\n",
       "      <td>50576.3</td>\n",
       "      <td>YES</td>\n",
       "      <td>0</td>\n",
       "      <td>NO</td>\n",
       "      <td>YES</td>\n",
       "      <td>NO</td>\n",
       "      <td>NO</td>\n",
       "      <td>NO</td>\n",
       "    </tr>\n",
       "  </tbody>\n",
       "</table>\n",
       "</div>"
      ],
      "text/plain": [
       "        id  age     sex      region   income married  children  car save_act  \\\n",
       "0  ID12101   48  FEMALE  INNER_CITY  17546.0      NO         1   NO       NO   \n",
       "1  ID12102   40    MALE        TOWN  30085.1     YES         3  YES       NO   \n",
       "2  ID12103   51  FEMALE  INNER_CITY  16575.4     YES         0  YES      YES   \n",
       "3  ID12104   23  FEMALE        TOWN  20375.4     YES         3   NO       NO   \n",
       "4  ID12105   57  FEMALE       RURAL  50576.3     YES         0   NO      YES   \n",
       "\n",
       "  current_act mortgage  pep  \n",
       "0          NO       NO  YES  \n",
       "1         YES      YES   NO  \n",
       "2         YES       NO   NO  \n",
       "3         YES       NO   NO  \n",
       "4          NO       NO   NO  "
      ]
     },
     "execution_count": 3,
     "metadata": {},
     "output_type": "execute_result"
    }
   ],
   "source": [
    "bank.head() # viewing first 5 rows to understand the data"
   ]
  },
  {
   "cell_type": "code",
   "execution_count": 4,
   "metadata": {},
   "outputs": [
    {
     "data": {
      "text/plain": [
       "(600, 12)"
      ]
     },
     "execution_count": 4,
     "metadata": {},
     "output_type": "execute_result"
    }
   ],
   "source": [
    "bank.shape # total number of rows and cols in the data"
   ]
  },
  {
   "cell_type": "code",
   "execution_count": 5,
   "metadata": {},
   "outputs": [
    {
     "data": {
      "text/plain": [
       "id             0\n",
       "age            0\n",
       "sex            0\n",
       "region         0\n",
       "income         0\n",
       "married        0\n",
       "children       0\n",
       "car            0\n",
       "save_act       0\n",
       "current_act    0\n",
       "mortgage       0\n",
       "pep            0\n",
       "dtype: int64"
      ]
     },
     "execution_count": 5,
     "metadata": {},
     "output_type": "execute_result"
    }
   ],
   "source": [
    "bank.isnull().sum() # no null values"
   ]
  },
  {
   "cell_type": "code",
   "execution_count": 6,
   "metadata": {},
   "outputs": [
    {
     "data": {
      "text/plain": [
       "<AxesSubplot:>"
      ]
     },
     "execution_count": 6,
     "metadata": {},
     "output_type": "execute_result"
    },
    {
     "data": {
      "image/png": "[encoded data removed]",
      "text/plain": [
       "<Figure size 432x288 with 2 Axes>"
      ]
     },
     "metadata": {
      "needs_background": "light"
     },
     "output_type": "display_data"
    }
   ],
   "source": [
    "sns.heatmap(bank.isnull())"
   ]
  },
  {
   "cell_type": "code",
   "execution_count": 7,
   "metadata": {},
   "outputs": [
    {
     "data": {
      "text/plain": [
       "id             0\n",
       "age            0\n",
       "sex            0\n",
       "region         0\n",
       "income         0\n",
       "married        0\n",
       "children       0\n",
       "car            0\n",
       "save_act       0\n",
       "current_act    0\n",
       "mortgage       0\n",
       "pep            0\n",
       "dtype: int64"
      ]
     },
     "execution_count": 7,
     "metadata": {},
     "output_type": "execute_result"
    }
   ],
   "source": [
    "bank.isna().sum() # no NA values"
   ]
  },
  {
   "cell_type": "code",
   "execution_count": 8,
   "metadata": {},
   "outputs": [
    {
     "data": {
      "text/plain": [
       "<AxesSubplot:>"
      ]
     },
     "execution_count": 8,
     "metadata": {},
     "output_type": "execute_result"
    },
    {
     "data": {
      "image/png": "[encoded data removed]",
      "text/plain": [
       "<Figure size 432x288 with 2 Axes>"
      ]
     },
     "metadata": {
      "needs_background": "light"
     },
     "output_type": "display_data"
    }
   ],
   "source": [
    "sns.heatmap(bank.isna())"
   ]
  },
  {
   "cell_type": "code",
   "execution_count": 9,
   "metadata": {},
   "outputs": [
    {
     "data": {
      "text/html": [
       "<div>\n",
       "<style scoped>\n",
       "    .dataframe tbody tr th:only-of-type {\n",
       "        vertical-align: middle;\n",
       "    }\n",
       "\n",
       "    .dataframe tbody tr th {\n",
       "        vertical-align: top;\n",
       "    }\n",
       "\n",
       "    .dataframe thead th {\n",
       "        text-align: right;\n",
       "    }\n",
       "</style>\n",
       "<table border=\"1\" class=\"dataframe\">\n",
       "  <thead>\n",
       "    <tr style=\"text-align: right;\">\n",
       "      <th></th>\n",
       "      <th>count</th>\n",
       "      <th>mean</th>\n",
       "      <th>std</th>\n",
       "      <th>min</th>\n",
       "      <th>25%</th>\n",
       "      <th>50%</th>\n",
       "      <th>75%</th>\n",
       "      <th>max</th>\n",
       "    </tr>\n",
       "  </thead>\n",
       "  <tbody>\n",
       "    <tr>\n",
       "      <th>age</th>\n",
       "      <td>600.0</td>\n",
       "      <td>42.395000</td>\n",
       "      <td>14.424947</td>\n",
       "      <td>18.00</td>\n",
       "      <td>30.0</td>\n",
       "      <td>42.0</td>\n",
       "      <td>55.250</td>\n",
       "      <td>67.0</td>\n",
       "    </tr>\n",
       "    <tr>\n",
       "      <th>income</th>\n",
       "      <td>600.0</td>\n",
       "      <td>27524.031217</td>\n",
       "      <td>12899.468246</td>\n",
       "      <td>5014.21</td>\n",
       "      <td>17264.5</td>\n",
       "      <td>24925.3</td>\n",
       "      <td>36172.675</td>\n",
       "      <td>63130.1</td>\n",
       "    </tr>\n",
       "    <tr>\n",
       "      <th>children</th>\n",
       "      <td>600.0</td>\n",
       "      <td>1.011667</td>\n",
       "      <td>1.056752</td>\n",
       "      <td>0.00</td>\n",
       "      <td>0.0</td>\n",
       "      <td>1.0</td>\n",
       "      <td>2.000</td>\n",
       "      <td>3.0</td>\n",
       "    </tr>\n",
       "  </tbody>\n",
       "</table>\n",
       "</div>"
      ],
      "text/plain": [
       "          count          mean           std      min      25%      50%  \\\n",
       "age       600.0     42.395000     14.424947    18.00     30.0     42.0   \n",
       "income    600.0  27524.031217  12899.468246  5014.21  17264.5  24925.3   \n",
       "children  600.0      1.011667      1.056752     0.00      0.0      1.0   \n",
       "\n",
       "                75%      max  \n",
       "age          55.250     67.0  \n",
       "income    36172.675  63130.1  \n",
       "children      2.000      3.0  "
      ]
     },
     "execution_count": 9,
     "metadata": {},
     "output_type": "execute_result"
    }
   ],
   "source": [
    "# summary of the statistical data\n",
    "bank.describe().transpose()"
   ]
  },
  {
   "cell_type": "markdown",
   "metadata": {},
   "source": [
    "#### 2. DATA EXPLORATION"
   ]
  },
  {
   "cell_type": "code",
   "execution_count": 10,
   "metadata": {
    "execution": {
     "iopub.execute_input": "2022-02-16T01:11:18.494500Z",
     "iopub.status.busy": "2022-02-16T01:11:18.494139Z",
     "iopub.status.idle": "2022-02-16T01:11:18.828163Z",
     "shell.execute_reply": "2022-02-16T01:11:18.826860Z",
     "shell.execute_reply.started": "2022-02-16T01:11:18.494468Z"
    }
   },
   "outputs": [
    {
     "data": {
      "text/plain": [
       "<AxesSubplot:ylabel='car'>"
      ]
     },
     "execution_count": 10,
     "metadata": {},
     "output_type": "execute_result"
    },
    {
     "data": {
      "image/png": "[encoded data removed]",
      "text/plain": [
       "<Figure size 432x288 with 4 Axes>"
      ]
     },
     "metadata": {},
     "output_type": "display_data"
    }
   ],
   "source": [
    "#plot to display type of account counts of customers\n",
    "plt.subplot(2, 2, 1)\n",
    "bank.save_act.value_counts().plot(kind='pie')\n",
    "plt.subplot(2, 2, 2)\n",
    "bank.current_act.value_counts().plot(kind='pie')\n",
    "plt.subplot(2, 2, 3)\n",
    "bank.mortgage.value_counts().plot(kind='pie')\n",
    "plt.subplot(2, 2, 4)\n",
    "bank.car.value_counts().plot(kind='pie')\n",
    "#plt.title('plot to display type of account counts of customers')"
   ]
  },
  {
   "cell_type": "code",
   "execution_count": 11,
   "metadata": {
    "execution": {
     "iopub.execute_input": "2022-02-16T01:11:39.637005Z",
     "iopub.status.busy": "2022-02-16T01:11:39.636715Z",
     "iopub.status.idle": "2022-02-16T01:11:39.850413Z",
     "shell.execute_reply": "2022-02-16T01:11:39.849453Z",
     "shell.execute_reply.started": "2022-02-16T01:11:39.636975Z"
    }
   },
   "outputs": [
    {
     "data": {
      "text/plain": [
       "<AxesSubplot:title={'center':'plot to show number of applicants and number of children'}, xlabel='Number of Children', ylabel='Number of Applicants'>"
      ]
     },
     "execution_count": 11,
     "metadata": {},
     "output_type": "execute_result"
    },
    {
     "data": {
      "image/png": "[encoded data removed]",
      "text/plain": [
       "<Figure size 432x288 with 1 Axes>"
      ]
     },
     "metadata": {
      "needs_background": "light"
     },
     "output_type": "display_data"
    }
   ],
   "source": [
    "## plot to show number of applicants and number of children\n",
    "plot = bank.children.value_counts().plot(kind='bar')\n",
    "plot.set_xlabel(\"Number of Children\", labelpad=20, weight='bold', size=12)\n",
    "plot.set_ylabel(\"Number of Applicants\", labelpad=20, weight='bold', size=12)\n",
    "plt.title('plot to show number of applicants and number of children')\n",
    "plot\n"
   ]
  },
  {
   "cell_type": "code",
   "execution_count": 12,
   "metadata": {
    "execution": {
     "iopub.execute_input": "2022-02-16T01:12:09.605280Z",
     "iopub.status.busy": "2022-02-16T01:12:09.604934Z",
     "iopub.status.idle": "2022-02-16T01:12:09.709205Z",
     "shell.execute_reply": "2022-02-16T01:12:09.708248Z",
     "shell.execute_reply.started": "2022-02-16T01:12:09.605230Z"
    }
   },
   "outputs": [
    {
     "data": {
      "text/plain": [
       "Text(0.5, 1.0, 'plot to show married or not count')"
      ]
     },
     "execution_count": 12,
     "metadata": {},
     "output_type": "execute_result"
    },
    {
     "data": {
      "image/png": "[encoded data removed]",
      "text/plain": [
       "<Figure size 432x288 with 1 Axes>"
      ]
     },
     "metadata": {},
     "output_type": "display_data"
    }
   ],
   "source": [
    "# plot to show married or not count\n",
    "bank.married.value_counts().plot(kind='pie')\n",
    "plt.title('plot to show married or not count')\n"
   ]
  },
  {
   "cell_type": "code",
   "execution_count": 13,
   "metadata": {
    "execution": {
     "iopub.execute_input": "2022-02-16T01:12:31.392680Z",
     "iopub.status.busy": "2022-02-16T01:12:31.391769Z",
     "iopub.status.idle": "2022-02-16T01:12:31.621603Z",
     "shell.execute_reply": "2022-02-16T01:12:31.620743Z",
     "shell.execute_reply.started": "2022-02-16T01:12:31.392637Z"
    }
   },
   "outputs": [
    {
     "data": {
      "text/plain": [
       "<AxesSubplot:title={'center':'plot to show number of applicants based on their income'}, xlabel='Yearly Income', ylabel='Number of Applicants'>"
      ]
     },
     "execution_count": 13,
     "metadata": {},
     "output_type": "execute_result"
    },
    {
     "data": {
      "image/png": "[encoded data removed]",
      "text/plain": [
       "<Figure size 432x288 with 1 Axes>"
      ]
     },
     "metadata": {
      "needs_background": "light"
     },
     "output_type": "display_data"
    }
   ],
   "source": [
    "# plot to show number of applicants based on their income\n",
    "plot = bank.income.hist(bins=6)\n",
    "plot.set_xlabel(\"Yearly Income\", labelpad=20, weight='bold', size=12)\n",
    "plot.set_ylabel(\"Number of Applicants\", labelpad=20, weight='bold', size=12)\n",
    "plt.title('plot to show number of applicants based on their income')\n",
    "\n",
    "plot"
   ]
  },
  {
   "cell_type": "code",
   "execution_count": 14,
   "metadata": {
    "execution": {
     "iopub.execute_input": "2022-02-16T01:14:15.524064Z",
     "iopub.status.busy": "2022-02-16T01:14:15.523776Z",
     "iopub.status.idle": "2022-02-16T01:14:15.621362Z",
     "shell.execute_reply": "2022-02-16T01:14:15.620370Z",
     "shell.execute_reply.started": "2022-02-16T01:14:15.524034Z"
    }
   },
   "outputs": [
    {
     "data": {
      "text/plain": [
       "Text(0.5, 1.0, 'plot to show count of gender')"
      ]
     },
     "execution_count": 14,
     "metadata": {},
     "output_type": "execute_result"
    },
    {
     "data": {
      "image/png": "[encoded data removed]",
      "text/plain": [
       "<Figure size 432x288 with 1 Axes>"
      ]
     },
     "metadata": {},
     "output_type": "display_data"
    }
   ],
   "source": [
    "# plot to show count of gender\n",
    "\n",
    "bank.sex.value_counts().plot(kind='pie')\n",
    "plt.title('plot to show count of gender')\n"
   ]
  },
  {
   "cell_type": "code",
   "execution_count": 15,
   "metadata": {
    "execution": {
     "iopub.execute_input": "2022-02-16T01:13:18.776182Z",
     "iopub.status.busy": "2022-02-16T01:13:18.775895Z",
     "iopub.status.idle": "2022-02-16T01:13:18.901919Z",
     "shell.execute_reply": "2022-02-16T01:13:18.900632Z",
     "shell.execute_reply.started": "2022-02-16T01:13:18.776152Z"
    }
   },
   "outputs": [
    {
     "data": {
      "text/plain": [
       "Text(0.5, 1.0, '# plot to show count of region of cusomters')"
      ]
     },
     "execution_count": 15,
     "metadata": {},
     "output_type": "execute_result"
    },
    {
     "data": {
      "image/png": "[encoded data removed]",
      "text/plain": [
       "<Figure size 432x288 with 1 Axes>"
      ]
     },
     "metadata": {},
     "output_type": "display_data"
    }
   ],
   "source": [
    "# plot to show count of region of cusomters\n",
    "bank.region.value_counts().plot(kind='pie')\n",
    "plt.title('# plot to show count of region of cusomters')\n"
   ]
  },
  {
   "cell_type": "code",
   "execution_count": 16,
   "metadata": {
    "execution": {
     "iopub.execute_input": "2022-02-16T01:13:15.922774Z",
     "iopub.status.busy": "2022-02-16T01:13:15.922458Z",
     "iopub.status.idle": "2022-02-16T01:13:16.155205Z",
     "shell.execute_reply": "2022-02-16T01:13:16.154409Z",
     "shell.execute_reply.started": "2022-02-16T01:13:15.922739Z"
    }
   },
   "outputs": [
    {
     "data": {
      "text/plain": [
       "<AxesSubplot:title={'center':' plot to show number of applicants based on their age'}, xlabel='Age (years)', ylabel='Number of Applicants'>"
      ]
     },
     "execution_count": 16,
     "metadata": {},
     "output_type": "execute_result"
    },
    {
     "data": {
      "image/png": "[encoded data removed]",
      "text/plain": [
       "<Figure size 432x288 with 1 Axes>"
      ]
     },
     "metadata": {
      "needs_background": "light"
     },
     "output_type": "display_data"
    }
   ],
   "source": [
    "# plot to show number of applicants based on their age\n",
    "\n",
    "plot = bank.age.hist(bins=6)\n",
    "plot.set_xlabel(\"Age (years)\", labelpad=20, weight='bold', size=12)\n",
    "plot.set_ylabel(\"Number of Applicants\", labelpad=20, weight='bold', size=12)\n",
    "plt.title(' plot to show number of applicants based on their age')\n",
    "\n",
    "plot"
   ]
  },
  {
   "cell_type": "markdown",
   "metadata": {},
   "source": [
    "#### 3. DATA PRE-PROCESSING"
   ]
  },
  {
   "cell_type": "code",
   "execution_count": 17,
   "metadata": {
    "execution": {
     "iopub.execute_input": "2022-02-16T00:51:53.240354Z",
     "iopub.status.busy": "2022-02-16T00:51:53.239902Z",
     "iopub.status.idle": "2022-02-16T00:51:53.269567Z",
     "shell.execute_reply": "2022-02-16T00:51:53.268679Z",
     "shell.execute_reply.started": "2022-02-16T00:51:53.240190Z"
    }
   },
   "outputs": [],
   "source": [
    "# drop id column\n",
    "bank.drop(['id'], axis=1, inplace=True)\n",
    "\n",
    "# discretization: converting numerical data to categorical \n",
    "bank['income'] = pd.qcut(bank['income'], 4, labels=['very_low_income','low_income','medium_income','high_income'])\n",
    "bank['age'] = pd.qcut(bank['age'], 3, labels=['young','middle_age','old'])\n",
    "\n",
    "# replacing the values\n",
    "bank['married'].replace({'NO': 'unmarried', 'YES': 'married'}, inplace=True)\n",
    "bank['children'].replace({0:'no_children',1:'1_child',2:'2_children',3:'3_children'}, inplace=True)\n",
    "bank['car'].replace({'NO': 'no_car', 'YES': 'yes_car'}, inplace=True)\n",
    "bank['save_act'].replace({'NO': 'no_savings_act', 'YES': 'yes_savings_act'}, inplace=True)\n",
    "bank['current_act'].replace({'NO': 'no_accnt', 'YES': 'yes_accnt'}, inplace=True)\n",
    "bank['mortgage'].replace({'NO': 'no_mortgage', 'YES': 'yes_mortgage'}, inplace=True)\n",
    "bank['pep'].replace({'NO': 'no_pep', 'YES': 'yes_pep'}, inplace=True)"
   ]
  },
  {
   "cell_type": "code",
   "execution_count": 18,
   "metadata": {
    "execution": {
     "iopub.execute_input": "2022-02-16T00:51:57.232601Z",
     "iopub.status.busy": "2022-02-16T00:51:57.232290Z",
     "iopub.status.idle": "2022-02-16T00:51:57.249166Z",
     "shell.execute_reply": "2022-02-16T00:51:57.248361Z",
     "shell.execute_reply.started": "2022-02-16T00:51:57.232566Z"
    }
   },
   "outputs": [
    {
     "data": {
      "text/html": [
       "<div>\n",
       "<style scoped>\n",
       "    .dataframe tbody tr th:only-of-type {\n",
       "        vertical-align: middle;\n",
       "    }\n",
       "\n",
       "    .dataframe tbody tr th {\n",
       "        vertical-align: top;\n",
       "    }\n",
       "\n",
       "    .dataframe thead th {\n",
       "        text-align: right;\n",
       "    }\n",
       "</style>\n",
       "<table border=\"1\" class=\"dataframe\">\n",
       "  <thead>\n",
       "    <tr style=\"text-align: right;\">\n",
       "      <th></th>\n",
       "      <th>age</th>\n",
       "      <th>sex</th>\n",
       "      <th>region</th>\n",
       "      <th>income</th>\n",
       "      <th>married</th>\n",
       "      <th>children</th>\n",
       "      <th>car</th>\n",
       "      <th>save_act</th>\n",
       "      <th>current_act</th>\n",
       "      <th>mortgage</th>\n",
       "      <th>pep</th>\n",
       "    </tr>\n",
       "  </thead>\n",
       "  <tbody>\n",
       "    <tr>\n",
       "      <th>0</th>\n",
       "      <td>middle_age</td>\n",
       "      <td>FEMALE</td>\n",
       "      <td>INNER_CITY</td>\n",
       "      <td>low_income</td>\n",
       "      <td>unmarried</td>\n",
       "      <td>1_child</td>\n",
       "      <td>no_car</td>\n",
       "      <td>no_savings_act</td>\n",
       "      <td>no_accnt</td>\n",
       "      <td>no_mortgage</td>\n",
       "      <td>yes_pep</td>\n",
       "    </tr>\n",
       "    <tr>\n",
       "      <th>1</th>\n",
       "      <td>middle_age</td>\n",
       "      <td>MALE</td>\n",
       "      <td>TOWN</td>\n",
       "      <td>medium_income</td>\n",
       "      <td>married</td>\n",
       "      <td>3_children</td>\n",
       "      <td>yes_car</td>\n",
       "      <td>no_savings_act</td>\n",
       "      <td>yes_accnt</td>\n",
       "      <td>yes_mortgage</td>\n",
       "      <td>no_pep</td>\n",
       "    </tr>\n",
       "  </tbody>\n",
       "</table>\n",
       "</div>"
      ],
      "text/plain": [
       "          age     sex      region         income    married    children  \\\n",
       "0  middle_age  FEMALE  INNER_CITY     low_income  unmarried     1_child   \n",
       "1  middle_age    MALE        TOWN  medium_income    married  3_children   \n",
       "\n",
       "       car        save_act current_act      mortgage      pep  \n",
       "0   no_car  no_savings_act    no_accnt   no_mortgage  yes_pep  \n",
       "1  yes_car  no_savings_act   yes_accnt  yes_mortgage   no_pep  "
      ]
     },
     "execution_count": 18,
     "metadata": {},
     "output_type": "execute_result"
    }
   ],
   "source": [
    "bank.head(2)"
   ]
  },
  {
   "cell_type": "code",
   "execution_count": 19,
   "metadata": {},
   "outputs": [
    {
     "name": "stdout",
     "output_type": "stream",
     "text": [
      "<class 'pandas.core.frame.DataFrame'>\n",
      "RangeIndex: 600 entries, 0 to 599\n",
      "Data columns (total 11 columns):\n",
      " #   Column       Non-Null Count  Dtype   \n",
      "---  ------       --------------  -----   \n",
      " 0   age          600 non-null    category\n",
      " 1   sex          600 non-null    object  \n",
      " 2   region       600 non-null    object  \n",
      " 3   income       600 non-null    category\n",
      " 4   married      600 non-null    object  \n",
      " 5   children     600 non-null    object  \n",
      " 6   car          600 non-null    object  \n",
      " 7   save_act     600 non-null    object  \n",
      " 8   current_act  600 non-null    object  \n",
      " 9   mortgage     600 non-null    object  \n",
      " 10  pep          600 non-null    object  \n",
      "dtypes: category(2), object(9)\n",
      "memory usage: 43.8+ KB\n"
     ]
    }
   ],
   "source": [
    "bank.info()"
   ]
  },
  {
   "cell_type": "markdown",
   "metadata": {},
   "source": [
    "#### 4. ASSOCIATION RULES"
   ]
  },
  {
   "cell_type": "code",
   "execution_count": 41,
   "metadata": {
    "execution": {
     "iopub.execute_input": "2022-02-16T00:52:10.561601Z",
     "iopub.status.busy": "2022-02-16T00:52:10.561121Z",
     "iopub.status.idle": "2022-02-16T00:52:10.736488Z",
     "shell.execute_reply": "2022-02-16T00:52:10.735539Z",
     "shell.execute_reply.started": "2022-02-16T00:52:10.561562Z"
    }
   },
   "outputs": [
    {
     "data": {
      "text/plain": [
       "7"
      ]
     },
     "execution_count": 41,
     "metadata": {},
     "output_type": "execute_result"
    }
   ],
   "source": [
    "rules = list(apriori(bank.values,\n",
    "        min_support=0.05,\n",
    "        min_confidence=0.8,\n",
    "        min_lift=3,\n",
    "        max_length=None))\n",
    "len(rules)"
   ]
  },
  {
   "cell_type": "code",
   "execution_count": 38,
   "metadata": {
    "execution": {
     "iopub.execute_input": "2022-02-16T00:52:12.724744Z",
     "iopub.status.busy": "2022-02-16T00:52:12.724160Z",
     "iopub.status.idle": "2022-02-16T00:52:12.738574Z",
     "shell.execute_reply": "2022-02-16T00:52:12.737706Z",
     "shell.execute_reply.started": "2022-02-16T00:52:12.724702Z"
    }
   },
   "outputs": [
    {
     "name": "stdout",
     "output_type": "stream",
     "text": [
      "Rule:  ['low_income', '1_child']  ->  ['married', 'yes_pep']\n",
      "Support: 0.05\n",
      "Confidence: 0.8108108108108109\n",
      "Lift: 3.1590031590031593\n",
      "------------------------------------------------\n",
      "Rule:  ['no_mortgage', 'FEMALE', 'high_income']  ->  ['yes_savings_act', 'old']\n",
      "Support: 0.06666666666666667\n",
      "Confidence: 0.8\n",
      "Lift: 3.0379746835443044\n",
      "------------------------------------------------\n",
      "Rule:  ['FEMALE', 'high_income', 'yes_pep']  ->  ['yes_accnt', 'old']\n",
      "Support: 0.05\n",
      "Confidence: 0.8108108108108109\n",
      "Lift: 3.2650099764193725\n",
      "------------------------------------------------\n",
      "Rule:  ['FEMALE', 'high_income', 'yes_pep']  ->  ['yes_savings_act', 'old']\n",
      "Support: 0.05333333333333334\n",
      "Confidence: 0.8648648648648649\n",
      "Lift: 3.2842969551830317\n",
      "------------------------------------------------\n",
      "Rule:  ['married', 'high_income', 'yes_pep']  ->  ['yes_savings_act', 'old']\n",
      "Support: 0.06166666666666667\n",
      "Confidence: 0.8222222222222223\n",
      "Lift: 3.1223628691983127\n",
      "------------------------------------------------\n",
      "Rule:  ['yes_accnt', 'yes_savings_act', 'yes_pep', 'old']  ->  ['high_income']\n",
      "Support: 0.085\n",
      "Confidence: 0.8095238095238096\n",
      "Lift: 3.2380952380952386\n",
      "------------------------------------------------\n",
      "Rule:  ['yes_savings_act', 'no_car', 'yes_accnt', 'no_mortgage', 'old']  ->  ['high_income']\n",
      "Support: 0.055\n",
      "Confidence: 0.8250000000000001\n",
      "Lift: 3.3000000000000003\n",
      "------------------------------------------------\n"
     ]
    }
   ],
   "source": [
    "for rule in rules[:10]:\n",
    "    stat = rule.ordered_statistics[0]\n",
    "    print('Rule: ', list(stat.items_base), ' -> ', list(stat.items_add))\n",
    "    print(\"Support: \" + str(rule[1]))\n",
    "\n",
    "    print(\"Confidence: \" + str(stat.confidence))\n",
    "    print(\"Lift: \" + str(stat.lift))\n",
    "    print(\"------------------------------------------------\")"
   ]
  },
  {
   "cell_type": "markdown",
   "metadata": {},
   "source": [
    "#### 5. ASSOCIATION RULES & PEP"
   ]
  },
  {
   "cell_type": "code",
   "execution_count": 88,
   "metadata": {
    "execution": {
     "iopub.execute_input": "2022-02-16T00:52:15.921783Z",
     "iopub.status.busy": "2022-02-16T00:52:15.921306Z",
     "iopub.status.idle": "2022-02-16T00:52:16.123527Z",
     "shell.execute_reply": "2022-02-16T00:52:16.122547Z",
     "shell.execute_reply.started": "2022-02-16T00:52:15.921737Z"
    }
   },
   "outputs": [
    {
     "data": {
      "text/plain": [
       "107"
      ]
     },
     "execution_count": 88,
     "metadata": {},
     "output_type": "execute_result"
    }
   ],
   "source": [
    "rules = list(apriori(bank.values,\n",
    "        min_support=0.05,\n",
    "        min_confidence=0.8,\n",
    "        min_lift=2,\n",
    "        max_length=None))\n",
    "len(rules)"
   ]
  },
  {
   "cell_type": "code",
   "execution_count": 89,
   "metadata": {
    "execution": {
     "iopub.execute_input": "2022-02-16T00:52:17.801744Z",
     "iopub.status.busy": "2022-02-16T00:52:17.801085Z",
     "iopub.status.idle": "2022-02-16T00:52:17.815993Z",
     "shell.execute_reply": "2022-02-16T00:52:17.815089Z",
     "shell.execute_reply.started": "2022-02-16T00:52:17.801685Z"
    }
   },
   "outputs": [
    {
     "name": "stdout",
     "output_type": "stream",
     "text": [
      "Rule:  ['low_income', '1_child']  ->  ['yes_pep']\n",
      "Support: 0.06\n",
      "Confidence: 0.9729729729729729\n",
      "Lift: 2.1305977510357073\n",
      "-------------------------------------\n",
      "Rule:  ['1_child', 'medium_income']  ->  ['yes_pep']\n",
      "Support: 0.055\n",
      "Confidence: 0.9705882352941178\n",
      "Lift: 2.1253756977243454\n",
      "-------------------------------------\n",
      "Rule:  ['1_child', 'middle_age']  ->  ['yes_pep']\n",
      "Support: 0.07166666666666667\n",
      "Confidence: 0.9555555555555556\n",
      "Lift: 2.0924574209245743\n",
      "-------------------------------------\n",
      "Rule:  ['1_child', 'old']  ->  ['yes_pep']\n",
      "Support: 0.06833333333333333\n",
      "Confidence: 0.9318181818181818\n",
      "Lift: 2.0404777704047774\n",
      "-------------------------------------\n",
      "Rule:  ['2_children', 'high_income']  ->  ['yes_pep']\n",
      "Support: 0.058333333333333334\n",
      "Confidence: 0.9210526315789473\n",
      "Lift: 2.0169035728006146\n",
      "-------------------------------------\n",
      "Rule:  ['yes_accnt', '1_child', 'middle_age']  ->  ['yes_pep']\n",
      "Support: 0.05333333333333334\n",
      "Confidence: 1.0\n",
      "Lift: 2.18978102189781\n",
      "-------------------------------------\n",
      "Rule:  ['1_child', 'yes_savings_act', 'middle_age']  ->  ['yes_pep']\n",
      "Support: 0.055\n",
      "Confidence: 0.9428571428571428\n",
      "Lift: 2.064650677789364\n",
      "-------------------------------------\n",
      "Rule:  ['1_child', 'no_mortgage', 'old']  ->  ['yes_pep']\n",
      "Support: 0.05\n",
      "Confidence: 0.967741935483871\n",
      "Lift: 2.1191429244172357\n",
      "-------------------------------------\n",
      "Rule:  ['1_child', 'yes_savings_act', 'old']  ->  ['yes_pep']\n",
      "Support: 0.056666666666666664\n",
      "Confidence: 0.9189189189189189\n",
      "Lift: 2.0122312093115013\n",
      "-------------------------------------\n",
      "Rule:  ['no_mortgage', 'high_income', 'unmarried']  ->  ['yes_pep']\n",
      "Support: 0.058333333333333334\n",
      "Confidence: 0.9459459459459459\n",
      "Lift: 2.0714144801736043\n",
      "-------------------------------------\n",
      "Rule:  ['no_mortgage', 'unmarried', 'no_children']  ->  ['yes_pep']\n",
      "Support: 0.075\n",
      "Confidence: 0.9375\n",
      "Lift: 2.052919708029197\n",
      "-------------------------------------\n",
      "Rule:  ['yes_mortgage', 'no_savings_act', 'no_children']  ->  ['yes_pep']\n",
      "Support: 0.056666666666666664\n",
      "Confidence: 0.9189189189189189\n",
      "Lift: 2.0122312093115013\n",
      "-------------------------------------\n",
      "Rule:  ['yes_accnt', '1_child', 'married', 'yes_savings_act']  ->  ['yes_pep']\n",
      "Support: 0.07333333333333333\n",
      "Confidence: 0.9166666666666666\n",
      "Lift: 2.0072992700729926\n",
      "-------------------------------------\n",
      "Rule:  ['yes_accnt', 'no_mortgage', 'unmarried', 'no_children']  ->  ['yes_pep']\n",
      "Support: 0.058333333333333334\n",
      "Confidence: 0.9459459459459459\n",
      "Lift: 2.0714144801736043\n",
      "-------------------------------------\n",
      "Rule:  ['yes_savings_act', 'no_mortgage', 'unmarried', 'no_children']  ->  ['yes_pep']\n",
      "Support: 0.051666666666666666\n",
      "Confidence: 0.9687499999999999\n",
      "Lift: 2.1213503649635035\n",
      "-------------------------------------\n"
     ]
    }
   ],
   "source": [
    "for rule in rules:\n",
    "    stat = rule.ordered_statistics[0]\n",
    "    if (list(stat.items_add)[0] not in ['yes_pep','no_pep']) or len(stat.items_add) > 1:\n",
    "        continue\n",
    "    \n",
    "    print('Rule: ', list(stat.items_base), ' -> ', list(stat.items_add))\n",
    "    print(\"Support: \" + str(rule[1]))\n",
    "\n",
    "    print(\"Confidence: \" + str(stat.confidence))\n",
    "    print(\"Lift: \" + str(stat.lift))\n",
    "    print(\"-------------------------------------\")"
   ]
  },
  {
   "cell_type": "code",
   "execution_count": null,
   "metadata": {},
   "outputs": [],
   "source": []
  }
 ],
 "metadata": {
  "kernelspec": {
   "display_name": "Python 3 (ipykernel)",
   "language": "python",
   "name": "python3"
  },
  "language_info": {
   "codemirror_mode": {
    "name": "ipython",
    "version": 3
   },
   "file_extension": ".py",
   "mimetype": "text/x-python",
   "name": "python",
   "nbconvert_exporter": "python",
   "pygments_lexer": "ipython3",
   "version": "3.9.7"
  }
 },
 "nbformat": 4,
 "nbformat_minor": 4
}
