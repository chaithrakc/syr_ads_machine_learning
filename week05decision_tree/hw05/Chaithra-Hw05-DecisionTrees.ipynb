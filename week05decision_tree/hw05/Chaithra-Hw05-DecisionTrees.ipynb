{
 "cells": [
  {
   "cell_type": "markdown",
   "id": "05eebf4f",
   "metadata": {},
   "source": [
    "# HW 05: Use Decision Tree to Solve a Mystery in History\n",
    "\n",
    "##### Chaithra Kopparam Cheluvaiah\n",
    "##### SUID 326926205\n",
    "##### ckoppara@syr.edu"
   ]
  },
  {
   "cell_type": "code",
   "execution_count": 78,
   "id": "2ea8e304",
   "metadata": {},
   "outputs": [],
   "source": [
    "# importing required libraries\n",
    "import pandas as pd\n",
    "import matplotlib.pyplot as plt\n",
    "import numpy as np\n",
    "from sklearn.model_selection import train_test_split\n",
    "from sklearn.tree import DecisionTreeClassifier\n",
    "from sklearn.metrics import accuracy_score\n",
    "from sklearn import tree"
   ]
  },
  {
   "cell_type": "markdown",
   "id": "1325f107",
   "metadata": {},
   "source": [
    "# DATA LOADING"
   ]
  },
  {
   "cell_type": "code",
   "execution_count": 96,
   "id": "2e721af6",
   "metadata": {},
   "outputs": [
    {
     "data": {
      "text/plain": [
       "(85, 72)"
      ]
     },
     "execution_count": 96,
     "metadata": {},
     "output_type": "execute_result"
    }
   ],
   "source": [
    "papers = pd.read_csv('data-fedPapers85.csv')\n",
    "papers.shape"
   ]
  },
  {
   "cell_type": "code",
   "execution_count": 97,
   "id": "7c4a9ac5",
   "metadata": {},
   "outputs": [
    {
     "data": {
      "text/html": [
       "<div>\n",
       "<style scoped>\n",
       "    .dataframe tbody tr th:only-of-type {\n",
       "        vertical-align: middle;\n",
       "    }\n",
       "\n",
       "    .dataframe tbody tr th {\n",
       "        vertical-align: top;\n",
       "    }\n",
       "\n",
       "    .dataframe thead th {\n",
       "        text-align: right;\n",
       "    }\n",
       "</style>\n",
       "<table border=\"1\" class=\"dataframe\">\n",
       "  <thead>\n",
       "    <tr style=\"text-align: right;\">\n",
       "      <th></th>\n",
       "      <th>author</th>\n",
       "      <th>filename</th>\n",
       "      <th>a</th>\n",
       "      <th>all</th>\n",
       "      <th>also</th>\n",
       "      <th>an</th>\n",
       "      <th>and</th>\n",
       "      <th>any</th>\n",
       "      <th>are</th>\n",
       "      <th>as</th>\n",
       "      <th>...</th>\n",
       "      <th>was</th>\n",
       "      <th>were</th>\n",
       "      <th>what</th>\n",
       "      <th>when</th>\n",
       "      <th>which</th>\n",
       "      <th>who</th>\n",
       "      <th>will</th>\n",
       "      <th>with</th>\n",
       "      <th>would</th>\n",
       "      <th>your</th>\n",
       "    </tr>\n",
       "  </thead>\n",
       "  <tbody>\n",
       "    <tr>\n",
       "      <th>0</th>\n",
       "      <td>dispt</td>\n",
       "      <td>dispt_fed_49.txt</td>\n",
       "      <td>0.280</td>\n",
       "      <td>0.052</td>\n",
       "      <td>0.009</td>\n",
       "      <td>0.096</td>\n",
       "      <td>0.358</td>\n",
       "      <td>0.026</td>\n",
       "      <td>0.131</td>\n",
       "      <td>0.122</td>\n",
       "      <td>...</td>\n",
       "      <td>0.009</td>\n",
       "      <td>0.017</td>\n",
       "      <td>0.000</td>\n",
       "      <td>0.009</td>\n",
       "      <td>0.175</td>\n",
       "      <td>0.044</td>\n",
       "      <td>0.009</td>\n",
       "      <td>0.087</td>\n",
       "      <td>0.192</td>\n",
       "      <td>0.0</td>\n",
       "    </tr>\n",
       "    <tr>\n",
       "      <th>1</th>\n",
       "      <td>dispt</td>\n",
       "      <td>dispt_fed_50.txt</td>\n",
       "      <td>0.177</td>\n",
       "      <td>0.063</td>\n",
       "      <td>0.013</td>\n",
       "      <td>0.038</td>\n",
       "      <td>0.393</td>\n",
       "      <td>0.063</td>\n",
       "      <td>0.051</td>\n",
       "      <td>0.139</td>\n",
       "      <td>...</td>\n",
       "      <td>0.051</td>\n",
       "      <td>0.000</td>\n",
       "      <td>0.000</td>\n",
       "      <td>0.000</td>\n",
       "      <td>0.114</td>\n",
       "      <td>0.038</td>\n",
       "      <td>0.089</td>\n",
       "      <td>0.063</td>\n",
       "      <td>0.139</td>\n",
       "      <td>0.0</td>\n",
       "    </tr>\n",
       "    <tr>\n",
       "      <th>2</th>\n",
       "      <td>dispt</td>\n",
       "      <td>dispt_fed_51.txt</td>\n",
       "      <td>0.339</td>\n",
       "      <td>0.090</td>\n",
       "      <td>0.008</td>\n",
       "      <td>0.030</td>\n",
       "      <td>0.301</td>\n",
       "      <td>0.008</td>\n",
       "      <td>0.068</td>\n",
       "      <td>0.203</td>\n",
       "      <td>...</td>\n",
       "      <td>0.008</td>\n",
       "      <td>0.015</td>\n",
       "      <td>0.008</td>\n",
       "      <td>0.000</td>\n",
       "      <td>0.105</td>\n",
       "      <td>0.008</td>\n",
       "      <td>0.173</td>\n",
       "      <td>0.045</td>\n",
       "      <td>0.068</td>\n",
       "      <td>0.0</td>\n",
       "    </tr>\n",
       "    <tr>\n",
       "      <th>3</th>\n",
       "      <td>dispt</td>\n",
       "      <td>dispt_fed_52.txt</td>\n",
       "      <td>0.270</td>\n",
       "      <td>0.024</td>\n",
       "      <td>0.016</td>\n",
       "      <td>0.024</td>\n",
       "      <td>0.262</td>\n",
       "      <td>0.056</td>\n",
       "      <td>0.064</td>\n",
       "      <td>0.111</td>\n",
       "      <td>...</td>\n",
       "      <td>0.087</td>\n",
       "      <td>0.079</td>\n",
       "      <td>0.008</td>\n",
       "      <td>0.024</td>\n",
       "      <td>0.167</td>\n",
       "      <td>0.000</td>\n",
       "      <td>0.079</td>\n",
       "      <td>0.079</td>\n",
       "      <td>0.064</td>\n",
       "      <td>0.0</td>\n",
       "    </tr>\n",
       "    <tr>\n",
       "      <th>4</th>\n",
       "      <td>dispt</td>\n",
       "      <td>dispt_fed_53.txt</td>\n",
       "      <td>0.303</td>\n",
       "      <td>0.054</td>\n",
       "      <td>0.027</td>\n",
       "      <td>0.034</td>\n",
       "      <td>0.404</td>\n",
       "      <td>0.040</td>\n",
       "      <td>0.128</td>\n",
       "      <td>0.148</td>\n",
       "      <td>...</td>\n",
       "      <td>0.027</td>\n",
       "      <td>0.020</td>\n",
       "      <td>0.020</td>\n",
       "      <td>0.007</td>\n",
       "      <td>0.155</td>\n",
       "      <td>0.027</td>\n",
       "      <td>0.168</td>\n",
       "      <td>0.074</td>\n",
       "      <td>0.040</td>\n",
       "      <td>0.0</td>\n",
       "    </tr>\n",
       "  </tbody>\n",
       "</table>\n",
       "<p>5 rows × 72 columns</p>\n",
       "</div>"
      ],
      "text/plain": [
       "  author          filename      a    all   also     an    and    any    are  \\\n",
       "0  dispt  dispt_fed_49.txt  0.280  0.052  0.009  0.096  0.358  0.026  0.131   \n",
       "1  dispt  dispt_fed_50.txt  0.177  0.063  0.013  0.038  0.393  0.063  0.051   \n",
       "2  dispt  dispt_fed_51.txt  0.339  0.090  0.008  0.030  0.301  0.008  0.068   \n",
       "3  dispt  dispt_fed_52.txt  0.270  0.024  0.016  0.024  0.262  0.056  0.064   \n",
       "4  dispt  dispt_fed_53.txt  0.303  0.054  0.027  0.034  0.404  0.040  0.128   \n",
       "\n",
       "      as  ...    was   were   what   when  which    who   will   with  would  \\\n",
       "0  0.122  ...  0.009  0.017  0.000  0.009  0.175  0.044  0.009  0.087  0.192   \n",
       "1  0.139  ...  0.051  0.000  0.000  0.000  0.114  0.038  0.089  0.063  0.139   \n",
       "2  0.203  ...  0.008  0.015  0.008  0.000  0.105  0.008  0.173  0.045  0.068   \n",
       "3  0.111  ...  0.087  0.079  0.008  0.024  0.167  0.000  0.079  0.079  0.064   \n",
       "4  0.148  ...  0.027  0.020  0.020  0.007  0.155  0.027  0.168  0.074  0.040   \n",
       "\n",
       "   your  \n",
       "0   0.0  \n",
       "1   0.0  \n",
       "2   0.0  \n",
       "3   0.0  \n",
       "4   0.0  \n",
       "\n",
       "[5 rows x 72 columns]"
      ]
     },
     "execution_count": 97,
     "metadata": {},
     "output_type": "execute_result"
    }
   ],
   "source": [
    "papers.head()"
   ]
  },
  {
   "cell_type": "code",
   "execution_count": 98,
   "id": "142815c3",
   "metadata": {},
   "outputs": [
    {
     "name": "stdout",
     "output_type": "stream",
     "text": [
      "<class 'pandas.core.frame.DataFrame'>\n",
      "RangeIndex: 85 entries, 0 to 84\n",
      "Data columns (total 72 columns):\n",
      " #   Column    Non-Null Count  Dtype  \n",
      "---  ------    --------------  -----  \n",
      " 0   author    85 non-null     object \n",
      " 1   filename  85 non-null     object \n",
      " 2   a         85 non-null     float64\n",
      " 3   all       85 non-null     float64\n",
      " 4   also      85 non-null     float64\n",
      " 5   an        85 non-null     float64\n",
      " 6   and       85 non-null     float64\n",
      " 7   any       85 non-null     float64\n",
      " 8   are       85 non-null     float64\n",
      " 9   as        85 non-null     float64\n",
      " 10  at        85 non-null     float64\n",
      " 11  be        85 non-null     float64\n",
      " 12  been      85 non-null     float64\n",
      " 13  but       85 non-null     float64\n",
      " 14  by        85 non-null     float64\n",
      " 15  can       85 non-null     float64\n",
      " 16  do        85 non-null     float64\n",
      " 17  down      85 non-null     float64\n",
      " 18  even      85 non-null     float64\n",
      " 19  every     85 non-null     float64\n",
      " 20  for       85 non-null     float64\n",
      " 21  from      85 non-null     float64\n",
      " 22  had       85 non-null     float64\n",
      " 23  has       85 non-null     float64\n",
      " 24  have      85 non-null     float64\n",
      " 25  her       85 non-null     float64\n",
      " 26  his       85 non-null     float64\n",
      " 27  if        85 non-null     float64\n",
      " 28  in        85 non-null     float64\n",
      " 29  into      85 non-null     float64\n",
      " 30  is        85 non-null     float64\n",
      " 31  it        85 non-null     float64\n",
      " 32  its       85 non-null     float64\n",
      " 33  may       85 non-null     float64\n",
      " 34  more      85 non-null     float64\n",
      " 35  must      85 non-null     float64\n",
      " 36  my        85 non-null     float64\n",
      " 37  no        85 non-null     float64\n",
      " 38  not       85 non-null     float64\n",
      " 39  now       85 non-null     float64\n",
      " 40  of        85 non-null     float64\n",
      " 41  on        85 non-null     float64\n",
      " 42  one       85 non-null     float64\n",
      " 43  only      85 non-null     float64\n",
      " 44  or        85 non-null     float64\n",
      " 45  our       85 non-null     float64\n",
      " 46  shall     85 non-null     float64\n",
      " 47  should    85 non-null     float64\n",
      " 48  so        85 non-null     float64\n",
      " 49  some      85 non-null     float64\n",
      " 50  such      85 non-null     float64\n",
      " 51  than      85 non-null     float64\n",
      " 52  that      85 non-null     float64\n",
      " 53  the       85 non-null     float64\n",
      " 54  their     85 non-null     float64\n",
      " 55  then      85 non-null     float64\n",
      " 56  there     85 non-null     float64\n",
      " 57  things    85 non-null     float64\n",
      " 58  this      85 non-null     float64\n",
      " 59  to        85 non-null     float64\n",
      " 60  up        85 non-null     float64\n",
      " 61  upon      85 non-null     float64\n",
      " 62  was       85 non-null     float64\n",
      " 63  were      85 non-null     float64\n",
      " 64  what      85 non-null     float64\n",
      " 65  when      85 non-null     float64\n",
      " 66  which     85 non-null     float64\n",
      " 67  who       85 non-null     float64\n",
      " 68  will      85 non-null     float64\n",
      " 69  with      85 non-null     float64\n",
      " 70  would     85 non-null     float64\n",
      " 71  your      85 non-null     float64\n",
      "dtypes: float64(70), object(2)\n",
      "memory usage: 47.9+ KB\n"
     ]
    }
   ],
   "source": [
    "papers.info()"
   ]
  },
  {
   "cell_type": "code",
   "execution_count": 99,
   "id": "82208005",
   "metadata": {},
   "outputs": [
    {
     "data": {
      "text/html": [
       "<div>\n",
       "<style scoped>\n",
       "    .dataframe tbody tr th:only-of-type {\n",
       "        vertical-align: middle;\n",
       "    }\n",
       "\n",
       "    .dataframe tbody tr th {\n",
       "        vertical-align: top;\n",
       "    }\n",
       "\n",
       "    .dataframe thead th {\n",
       "        text-align: right;\n",
       "    }\n",
       "</style>\n",
       "<table border=\"1\" class=\"dataframe\">\n",
       "  <thead>\n",
       "    <tr style=\"text-align: right;\">\n",
       "      <th></th>\n",
       "      <th>a</th>\n",
       "      <th>all</th>\n",
       "      <th>also</th>\n",
       "      <th>an</th>\n",
       "      <th>and</th>\n",
       "      <th>any</th>\n",
       "      <th>are</th>\n",
       "      <th>as</th>\n",
       "      <th>at</th>\n",
       "      <th>be</th>\n",
       "      <th>...</th>\n",
       "      <th>was</th>\n",
       "      <th>were</th>\n",
       "      <th>what</th>\n",
       "      <th>when</th>\n",
       "      <th>which</th>\n",
       "      <th>who</th>\n",
       "      <th>will</th>\n",
       "      <th>with</th>\n",
       "      <th>would</th>\n",
       "      <th>your</th>\n",
       "    </tr>\n",
       "    <tr>\n",
       "      <th>author</th>\n",
       "      <th></th>\n",
       "      <th></th>\n",
       "      <th></th>\n",
       "      <th></th>\n",
       "      <th></th>\n",
       "      <th></th>\n",
       "      <th></th>\n",
       "      <th></th>\n",
       "      <th></th>\n",
       "      <th></th>\n",
       "      <th></th>\n",
       "      <th></th>\n",
       "      <th></th>\n",
       "      <th></th>\n",
       "      <th></th>\n",
       "      <th></th>\n",
       "      <th></th>\n",
       "      <th></th>\n",
       "      <th></th>\n",
       "      <th></th>\n",
       "      <th></th>\n",
       "    </tr>\n",
       "  </thead>\n",
       "  <tbody>\n",
       "    <tr>\n",
       "      <th>HM</th>\n",
       "      <td>0.640</td>\n",
       "      <td>0.128</td>\n",
       "      <td>0.018</td>\n",
       "      <td>0.141</td>\n",
       "      <td>1.592</td>\n",
       "      <td>0.054</td>\n",
       "      <td>0.247</td>\n",
       "      <td>0.240</td>\n",
       "      <td>0.133</td>\n",
       "      <td>0.200</td>\n",
       "      <td>...</td>\n",
       "      <td>0.342</td>\n",
       "      <td>0.142</td>\n",
       "      <td>0.007</td>\n",
       "      <td>0.047</td>\n",
       "      <td>0.412</td>\n",
       "      <td>0.142</td>\n",
       "      <td>0.050</td>\n",
       "      <td>0.291</td>\n",
       "      <td>0.077</td>\n",
       "      <td>0.000</td>\n",
       "    </tr>\n",
       "    <tr>\n",
       "      <th>Hamilton</th>\n",
       "      <td>16.096</td>\n",
       "      <td>2.742</td>\n",
       "      <td>0.244</td>\n",
       "      <td>4.121</td>\n",
       "      <td>17.314</td>\n",
       "      <td>2.384</td>\n",
       "      <td>3.700</td>\n",
       "      <td>6.004</td>\n",
       "      <td>2.490</td>\n",
       "      <td>15.727</td>\n",
       "      <td>...</td>\n",
       "      <td>1.051</td>\n",
       "      <td>0.890</td>\n",
       "      <td>0.695</td>\n",
       "      <td>0.625</td>\n",
       "      <td>8.185</td>\n",
       "      <td>1.679</td>\n",
       "      <td>4.712</td>\n",
       "      <td>4.027</td>\n",
       "      <td>6.259</td>\n",
       "      <td>0.106</td>\n",
       "    </tr>\n",
       "    <tr>\n",
       "      <th>Jay</th>\n",
       "      <td>0.799</td>\n",
       "      <td>0.180</td>\n",
       "      <td>0.099</td>\n",
       "      <td>0.126</td>\n",
       "      <td>3.576</td>\n",
       "      <td>0.188</td>\n",
       "      <td>0.426</td>\n",
       "      <td>0.784</td>\n",
       "      <td>0.180</td>\n",
       "      <td>1.377</td>\n",
       "      <td>...</td>\n",
       "      <td>0.124</td>\n",
       "      <td>0.144</td>\n",
       "      <td>0.092</td>\n",
       "      <td>0.105</td>\n",
       "      <td>0.493</td>\n",
       "      <td>0.258</td>\n",
       "      <td>0.630</td>\n",
       "      <td>0.475</td>\n",
       "      <td>0.626</td>\n",
       "      <td>0.032</td>\n",
       "    </tr>\n",
       "    <tr>\n",
       "      <th>Madison</th>\n",
       "      <td>4.047</td>\n",
       "      <td>0.830</td>\n",
       "      <td>0.166</td>\n",
       "      <td>0.892</td>\n",
       "      <td>6.295</td>\n",
       "      <td>0.447</td>\n",
       "      <td>1.123</td>\n",
       "      <td>2.011</td>\n",
       "      <td>0.443</td>\n",
       "      <td>4.343</td>\n",
       "      <td>...</td>\n",
       "      <td>0.386</td>\n",
       "      <td>0.313</td>\n",
       "      <td>0.174</td>\n",
       "      <td>0.090</td>\n",
       "      <td>2.457</td>\n",
       "      <td>0.398</td>\n",
       "      <td>1.600</td>\n",
       "      <td>1.156</td>\n",
       "      <td>0.910</td>\n",
       "      <td>0.034</td>\n",
       "    </tr>\n",
       "    <tr>\n",
       "      <th>dispt</th>\n",
       "      <td>3.343</td>\n",
       "      <td>0.611</td>\n",
       "      <td>0.124</td>\n",
       "      <td>0.533</td>\n",
       "      <td>3.916</td>\n",
       "      <td>0.464</td>\n",
       "      <td>1.055</td>\n",
       "      <td>1.518</td>\n",
       "      <td>0.517</td>\n",
       "      <td>3.951</td>\n",
       "      <td>...</td>\n",
       "      <td>0.293</td>\n",
       "      <td>0.230</td>\n",
       "      <td>0.125</td>\n",
       "      <td>0.131</td>\n",
       "      <td>1.862</td>\n",
       "      <td>0.288</td>\n",
       "      <td>1.393</td>\n",
       "      <td>0.824</td>\n",
       "      <td>0.774</td>\n",
       "      <td>0.000</td>\n",
       "    </tr>\n",
       "  </tbody>\n",
       "</table>\n",
       "<p>5 rows × 70 columns</p>\n",
       "</div>"
      ],
      "text/plain": [
       "               a    all   also     an     and    any    are     as     at  \\\n",
       "author                                                                      \n",
       "HM         0.640  0.128  0.018  0.141   1.592  0.054  0.247  0.240  0.133   \n",
       "Hamilton  16.096  2.742  0.244  4.121  17.314  2.384  3.700  6.004  2.490   \n",
       "Jay        0.799  0.180  0.099  0.126   3.576  0.188  0.426  0.784  0.180   \n",
       "Madison    4.047  0.830  0.166  0.892   6.295  0.447  1.123  2.011  0.443   \n",
       "dispt      3.343  0.611  0.124  0.533   3.916  0.464  1.055  1.518  0.517   \n",
       "\n",
       "              be  ...    was   were   what   when  which    who   will   with  \\\n",
       "author            ...                                                           \n",
       "HM         0.200  ...  0.342  0.142  0.007  0.047  0.412  0.142  0.050  0.291   \n",
       "Hamilton  15.727  ...  1.051  0.890  0.695  0.625  8.185  1.679  4.712  4.027   \n",
       "Jay        1.377  ...  0.124  0.144  0.092  0.105  0.493  0.258  0.630  0.475   \n",
       "Madison    4.343  ...  0.386  0.313  0.174  0.090  2.457  0.398  1.600  1.156   \n",
       "dispt      3.951  ...  0.293  0.230  0.125  0.131  1.862  0.288  1.393  0.824   \n",
       "\n",
       "          would   your  \n",
       "author                  \n",
       "HM        0.077  0.000  \n",
       "Hamilton  6.259  0.106  \n",
       "Jay       0.626  0.032  \n",
       "Madison   0.910  0.034  \n",
       "dispt     0.774  0.000  \n",
       "\n",
       "[5 rows x 70 columns]"
      ]
     },
     "execution_count": 99,
     "metadata": {},
     "output_type": "execute_result"
    }
   ],
   "source": [
    "freq_words = papers.groupby('author')\n",
    "freq_words.sum()"
   ]
  },
  {
   "cell_type": "code",
   "execution_count": 105,
   "id": "bd1320a2",
   "metadata": {},
   "outputs": [
    {
     "data": {
      "text/html": [
       "<div>\n",
       "<style scoped>\n",
       "    .dataframe tbody tr th:only-of-type {\n",
       "        vertical-align: middle;\n",
       "    }\n",
       "\n",
       "    .dataframe tbody tr th {\n",
       "        vertical-align: top;\n",
       "    }\n",
       "\n",
       "    .dataframe thead th {\n",
       "        text-align: right;\n",
       "    }\n",
       "</style>\n",
       "<table border=\"1\" class=\"dataframe\">\n",
       "  <thead>\n",
       "    <tr style=\"text-align: right;\">\n",
       "      <th></th>\n",
       "      <th>a</th>\n",
       "      <th>all</th>\n",
       "      <th>also</th>\n",
       "      <th>an</th>\n",
       "      <th>and</th>\n",
       "      <th>any</th>\n",
       "      <th>are</th>\n",
       "      <th>as</th>\n",
       "      <th>at</th>\n",
       "      <th>be</th>\n",
       "      <th>...</th>\n",
       "      <th>was</th>\n",
       "      <th>were</th>\n",
       "      <th>what</th>\n",
       "      <th>when</th>\n",
       "      <th>which</th>\n",
       "      <th>who</th>\n",
       "      <th>will</th>\n",
       "      <th>with</th>\n",
       "      <th>would</th>\n",
       "      <th>your</th>\n",
       "    </tr>\n",
       "  </thead>\n",
       "  <tbody>\n",
       "    <tr>\n",
       "      <th>11</th>\n",
       "      <td>0.213</td>\n",
       "      <td>0.083</td>\n",
       "      <td>0.000</td>\n",
       "      <td>0.083</td>\n",
       "      <td>0.343</td>\n",
       "      <td>0.056</td>\n",
       "      <td>0.111</td>\n",
       "      <td>0.093</td>\n",
       "      <td>0.065</td>\n",
       "      <td>0.315</td>\n",
       "      <td>...</td>\n",
       "      <td>0.000</td>\n",
       "      <td>0.000</td>\n",
       "      <td>0.000</td>\n",
       "      <td>0.009</td>\n",
       "      <td>0.158</td>\n",
       "      <td>0.074</td>\n",
       "      <td>0.222</td>\n",
       "      <td>0.046</td>\n",
       "      <td>0.019</td>\n",
       "      <td>0.074</td>\n",
       "    </tr>\n",
       "    <tr>\n",
       "      <th>12</th>\n",
       "      <td>0.369</td>\n",
       "      <td>0.070</td>\n",
       "      <td>0.006</td>\n",
       "      <td>0.076</td>\n",
       "      <td>0.411</td>\n",
       "      <td>0.023</td>\n",
       "      <td>0.053</td>\n",
       "      <td>0.117</td>\n",
       "      <td>0.065</td>\n",
       "      <td>0.258</td>\n",
       "      <td>...</td>\n",
       "      <td>0.000</td>\n",
       "      <td>0.012</td>\n",
       "      <td>0.012</td>\n",
       "      <td>0.012</td>\n",
       "      <td>0.147</td>\n",
       "      <td>0.029</td>\n",
       "      <td>0.094</td>\n",
       "      <td>0.129</td>\n",
       "      <td>0.270</td>\n",
       "      <td>0.000</td>\n",
       "    </tr>\n",
       "    <tr>\n",
       "      <th>13</th>\n",
       "      <td>0.305</td>\n",
       "      <td>0.047</td>\n",
       "      <td>0.007</td>\n",
       "      <td>0.068</td>\n",
       "      <td>0.386</td>\n",
       "      <td>0.047</td>\n",
       "      <td>0.102</td>\n",
       "      <td>0.108</td>\n",
       "      <td>0.088</td>\n",
       "      <td>0.271</td>\n",
       "      <td>...</td>\n",
       "      <td>0.000</td>\n",
       "      <td>0.000</td>\n",
       "      <td>0.007</td>\n",
       "      <td>0.000</td>\n",
       "      <td>0.156</td>\n",
       "      <td>0.007</td>\n",
       "      <td>0.074</td>\n",
       "      <td>0.122</td>\n",
       "      <td>0.149</td>\n",
       "      <td>0.000</td>\n",
       "    </tr>\n",
       "    <tr>\n",
       "      <th>14</th>\n",
       "      <td>0.391</td>\n",
       "      <td>0.045</td>\n",
       "      <td>0.015</td>\n",
       "      <td>0.030</td>\n",
       "      <td>0.270</td>\n",
       "      <td>0.045</td>\n",
       "      <td>0.060</td>\n",
       "      <td>0.090</td>\n",
       "      <td>0.015</td>\n",
       "      <td>0.376</td>\n",
       "      <td>...</td>\n",
       "      <td>0.000</td>\n",
       "      <td>0.000</td>\n",
       "      <td>0.000</td>\n",
       "      <td>0.045</td>\n",
       "      <td>0.165</td>\n",
       "      <td>0.045</td>\n",
       "      <td>0.135</td>\n",
       "      <td>0.150</td>\n",
       "      <td>0.210</td>\n",
       "      <td>0.000</td>\n",
       "    </tr>\n",
       "    <tr>\n",
       "      <th>15</th>\n",
       "      <td>0.327</td>\n",
       "      <td>0.096</td>\n",
       "      <td>0.000</td>\n",
       "      <td>0.086</td>\n",
       "      <td>0.356</td>\n",
       "      <td>0.014</td>\n",
       "      <td>0.086</td>\n",
       "      <td>0.072</td>\n",
       "      <td>0.115</td>\n",
       "      <td>0.211</td>\n",
       "      <td>...</td>\n",
       "      <td>0.014</td>\n",
       "      <td>0.038</td>\n",
       "      <td>0.014</td>\n",
       "      <td>0.019</td>\n",
       "      <td>0.264</td>\n",
       "      <td>0.029</td>\n",
       "      <td>0.091</td>\n",
       "      <td>0.086</td>\n",
       "      <td>0.062</td>\n",
       "      <td>0.010</td>\n",
       "    </tr>\n",
       "  </tbody>\n",
       "</table>\n",
       "<p>5 rows × 70 columns</p>\n",
       "</div>"
      ],
      "text/plain": [
       "        a    all   also     an    and    any    are     as     at     be  ...  \\\n",
       "11  0.213  0.083  0.000  0.083  0.343  0.056  0.111  0.093  0.065  0.315  ...   \n",
       "12  0.369  0.070  0.006  0.076  0.411  0.023  0.053  0.117  0.065  0.258  ...   \n",
       "13  0.305  0.047  0.007  0.068  0.386  0.047  0.102  0.108  0.088  0.271  ...   \n",
       "14  0.391  0.045  0.015  0.030  0.270  0.045  0.060  0.090  0.015  0.376  ...   \n",
       "15  0.327  0.096  0.000  0.086  0.356  0.014  0.086  0.072  0.115  0.211  ...   \n",
       "\n",
       "      was   were   what   when  which    who   will   with  would   your  \n",
       "11  0.000  0.000  0.000  0.009  0.158  0.074  0.222  0.046  0.019  0.074  \n",
       "12  0.000  0.012  0.012  0.012  0.147  0.029  0.094  0.129  0.270  0.000  \n",
       "13  0.000  0.000  0.007  0.000  0.156  0.007  0.074  0.122  0.149  0.000  \n",
       "14  0.000  0.000  0.000  0.045  0.165  0.045  0.135  0.150  0.210  0.000  \n",
       "15  0.014  0.038  0.014  0.019  0.264  0.029  0.091  0.086  0.062  0.010  \n",
       "\n",
       "[5 rows x 70 columns]"
      ]
     },
     "execution_count": 105,
     "metadata": {},
     "output_type": "execute_result"
    }
   ],
   "source": [
    "temp_df = papers[papers['author']!='dispt']\n",
    "X_train = temp_df.iloc[:,2:]\n",
    "X_train.head()"
   ]
  },
  {
   "cell_type": "code",
   "execution_count": 106,
   "id": "d1e1ae48",
   "metadata": {},
   "outputs": [
    {
     "data": {
      "text/plain": [
       "11    Hamilton\n",
       "12    Hamilton\n",
       "13    Hamilton\n",
       "14    Hamilton\n",
       "15    Hamilton\n",
       "        ...   \n",
       "80     Madison\n",
       "81     Madison\n",
       "82     Madison\n",
       "83     Madison\n",
       "84     Madison\n",
       "Name: author, Length: 74, dtype: object"
      ]
     },
     "execution_count": 106,
     "metadata": {},
     "output_type": "execute_result"
    }
   ],
   "source": [
    "Y_train = temp_df['author']\n",
    "Y_train"
   ]
  },
  {
   "cell_type": "code",
   "execution_count": 120,
   "id": "8d609b71",
   "metadata": {},
   "outputs": [],
   "source": [
    "# Testing data\n",
    "test = papers[papers['author']=='dispt']\n",
    "X_test = test.iloc[:,2:]"
   ]
  },
  {
   "cell_type": "code",
   "execution_count": 110,
   "id": "5852b2fe",
   "metadata": {},
   "outputs": [
    {
     "data": {
      "text/plain": [
       "(74, 70)"
      ]
     },
     "execution_count": 110,
     "metadata": {},
     "output_type": "execute_result"
    }
   ],
   "source": [
    "X_train.shape"
   ]
  },
  {
   "cell_type": "code",
   "execution_count": 111,
   "id": "85f3266c",
   "metadata": {},
   "outputs": [
    {
     "data": {
      "text/plain": [
       "(11, 70)"
      ]
     },
     "execution_count": 111,
     "metadata": {},
     "output_type": "execute_result"
    }
   ],
   "source": [
    "X_test.shape"
   ]
  },
  {
   "cell_type": "code",
   "execution_count": 119,
   "id": "97241c40",
   "metadata": {},
   "outputs": [
    {
     "data": {
      "text/plain": [
       "array(['Madison', 'Madison', 'Madison', 'Madison', 'Madison', 'Madison',\n",
       "       'Madison', 'Madison', 'Madison', 'Madison', 'Madison'],\n",
       "      dtype=object)"
      ]
     },
     "execution_count": 119,
     "metadata": {},
     "output_type": "execute_result"
    }
   ],
   "source": [
    "clf = DecisionTreeClassifier(random_state=0)\n",
    "clf.fit(X_train,Y_train)\n",
    "\n",
    "# predicting on test data\n",
    "pred=clf.predict(X_test)\n",
    "pred"
   ]
  },
  {
   "cell_type": "code",
   "execution_count": 115,
   "id": "2d9695b0",
   "metadata": {},
   "outputs": [
    {
     "data": {
      "text/plain": [
       "[Text(0.7142857142857143, 0.9, 'X[59] <= 0.019\\ngini = 0.478\\nsamples = 74\\nvalue = [3, 51, 5, 15]'),\n",
       " Text(0.5714285714285714, 0.7, 'X[4] <= 0.595\\ngini = 0.549\\nsamples = 24\\nvalue = [3, 1, 5, 15]'),\n",
       " Text(0.42857142857142855, 0.5, 'X[36] <= 0.061\\ngini = 0.349\\nsamples = 19\\nvalue = [3, 1, 0, 15]'),\n",
       " Text(0.2857142857142857, 0.3, 'X[58] <= 0.022\\ngini = 0.375\\nsamples = 4\\nvalue = [3, 1, 0, 0]'),\n",
       " Text(0.14285714285714285, 0.1, 'gini = 0.0\\nsamples = 3\\nvalue = [3, 0, 0, 0]'),\n",
       " Text(0.42857142857142855, 0.1, 'gini = 0.0\\nsamples = 1\\nvalue = [0, 1, 0, 0]'),\n",
       " Text(0.5714285714285714, 0.3, 'gini = 0.0\\nsamples = 15\\nvalue = [0, 0, 0, 15]'),\n",
       " Text(0.7142857142857143, 0.5, 'gini = 0.0\\nsamples = 5\\nvalue = [0, 0, 5, 0]'),\n",
       " Text(0.8571428571428571, 0.7, 'gini = 0.0\\nsamples = 50\\nvalue = [0, 50, 0, 0]')]"
      ]
     },
     "execution_count": 115,
     "metadata": {},
     "output_type": "execute_result"
    },
    {
     "data": {
      "image/png": "[encoded data removed]",
      "text/plain": [
       "<Figure size 720x720 with 1 Axes>"
      ]
     },
     "metadata": {
      "needs_background": "light"
     },
     "output_type": "display_data"
    }
   ],
   "source": [
    "plt.figure(figsize=(10,10))\n",
    "tree.plot_tree(clf,filled=True)"
   ]
  },
  {
   "cell_type": "code",
   "execution_count": 118,
   "id": "9fc802e7",
   "metadata": {},
   "outputs": [
    {
     "name": "stdout",
     "output_type": "stream",
     "text": [
      "Number of nodes in the last tree is: 1 with ccp_alpha: 0.2997930362795228\n"
     ]
    }
   ],
   "source": [
    "clfs = []\n",
    "for ccp_alpha in ccp_alphas:\n",
    "    clf = DecisionTreeClassifier(random_state=0, ccp_alpha=ccp_alpha)\n",
    "    clf.fit(X_train, Y_train)\n",
    "    clfs.append(clf)\n",
    "print(\"Number of nodes in the last tree is: {} with ccp_alpha: {}\".format(\n",
    "      clfs[-1].tree_.node_count, ccp_alphas[-1]))"
   ]
  },
  {
   "cell_type": "code",
   "execution_count": 62,
   "id": "083de39e",
   "metadata": {},
   "outputs": [
    {
     "data": {
      "image/png": "[encoded data removed]",
      "text/plain": [
       "<Figure size 432x288 with 1 Axes>"
      ]
     },
     "metadata": {
      "needs_background": "light"
     },
     "output_type": "display_data"
    }
   ],
   "source": [
    "train_scores = [clf.score(X_train, Y_train) for clf in clfs]\n",
    "test_scores = [clf.score(X_test, Y_test) for clf in clfs]\n",
    "\n",
    "fig, ax = plt.subplots()\n",
    "ax.set_xlabel(\"alpha\")\n",
    "ax.set_ylabel(\"accuracy\")\n",
    "ax.set_title(\"Accuracy vs alpha for training and testing sets\")\n",
    "ax.plot(ccp_alphas, train_scores, marker='o', label=\"train\",\n",
    "        drawstyle=\"steps-post\")\n",
    "ax.plot(ccp_alphas, test_scores, marker='o', label=\"test\",\n",
    "        drawstyle=\"steps-post\")\n",
    "ax.legend()\n",
    "plt.show()"
   ]
  },
  {
   "cell_type": "code",
   "execution_count": 66,
   "id": "5b4e9146",
   "metadata": {},
   "outputs": [
    {
     "data": {
      "text/plain": [
       "DecisionTreeClassifier(ccp_alpha=0.12, random_state=0)"
      ]
     },
     "execution_count": 66,
     "metadata": {},
     "output_type": "execute_result"
    }
   ],
   "source": [
    "clf = DecisionTreeClassifier(random_state=0, ccp_alpha=0.12)\n",
    "clf.fit(X_train,Y_train)"
   ]
  },
  {
   "cell_type": "code",
   "execution_count": 67,
   "id": "382d4d14",
   "metadata": {},
   "outputs": [
    {
     "data": {
      "text/plain": [
       "0.6818181818181818"
      ]
     },
     "execution_count": 67,
     "metadata": {},
     "output_type": "execute_result"
    }
   ],
   "source": [
    "pred=clf.predict(X_test)\n",
    "accuracy_score(Y_test, pred)"
   ]
  },
  {
   "cell_type": "code",
   "execution_count": 73,
   "id": "5fedd53d",
   "metadata": {},
   "outputs": [
    {
     "data": {
      "text/plain": [
       "[Text(0.5, 0.75, 'X[59] <= 0.019\\ngini = 0.594\\nsamples = 63\\nvalue = [1, 37, 5, 13, 7]'),\n",
       " Text(0.25, 0.25, 'gini = 0.639\\nsamples = 26\\nvalue = [1, 0, 5, 13, 7]'),\n",
       " Text(0.75, 0.25, 'gini = 0.0\\nsamples = 37\\nvalue = [0, 37, 0, 0, 0]')]"
      ]
     },
     "execution_count": 73,
     "metadata": {},
     "output_type": "execute_result"
    },
    {
     "data": {
      "image/png": "[encoded data removed]",
      "text/plain": [
       "<Figure size 1080x720 with 1 Axes>"
      ]
     },
     "metadata": {
      "needs_background": "light"
     },
     "output_type": "display_data"
    }
   ],
   "source": [
    "plt.figure(figsize=(15,10))\n",
    "tree.plot_tree(clf,filled=True)"
   ]
  },
  {
   "cell_type": "code",
   "execution_count": 121,
   "id": "1d6b4074",
   "metadata": {},
   "outputs": [
    {
     "name": "stdout",
     "output_type": "stream",
     "text": [
      "|--- feature_59 <= 0.02\n",
      "|   |--- feature_4 <= 0.60\n",
      "|   |   |--- feature_36 <= 0.06\n",
      "|   |   |   |--- feature_58 <= 0.02\n",
      "|   |   |   |   |--- class: HM\n",
      "|   |   |   |--- feature_58 >  0.02\n",
      "|   |   |   |   |--- class: Hamilton\n",
      "|   |   |--- feature_36 >  0.06\n",
      "|   |   |   |--- class: Madison\n",
      "|   |--- feature_4 >  0.60\n",
      "|   |   |--- class: Jay\n",
      "|--- feature_59 >  0.02\n",
      "|   |--- class: Hamilton\n",
      "\n"
     ]
    }
   ],
   "source": [
    "print(tree.export_text(clf))"
   ]
  },
  {
   "cell_type": "code",
   "execution_count": null,
   "id": "8ccebe5e",
   "metadata": {},
   "outputs": [],
   "source": []
  }
 ],
 "metadata": {
  "kernelspec": {
   "display_name": "Python 3 (ipykernel)",
   "language": "python",
   "name": "python3"
  },
  "language_info": {
   "codemirror_mode": {
    "name": "ipython",
    "version": 3
   },
   "file_extension": ".py",
   "mimetype": "text/x-python",
   "name": "python",
   "nbconvert_exporter": "python",
   "pygments_lexer": "ipython3",
   "version": "3.9.7"
  }
 },
 "nbformat": 4,
 "nbformat_minor": 5
}
