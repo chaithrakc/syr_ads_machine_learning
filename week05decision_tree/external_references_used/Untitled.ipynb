{
 "cells": [
  {
   "cell_type": "markdown",
   "id": "de60ca2b",
   "metadata": {},
   "source": [
    "## Decision Tree Entropy"
   ]
  },
  {
   "cell_type": "markdown",
   "id": "8dc43355",
   "metadata": {},
   "source": [
    "#### Decision Tree Induction\n",
    "while constucting the decision tree, there are algorithms for choosing the first attribute for splitting the data.\n",
    "- Hunt’s Algorithm (one of the earliest)\n",
    "- CART\n",
    "- ID3, C4.5\n",
    "- SLIQ,SPRINT"
   ]
  },
  {
   "cell_type": "markdown",
   "id": "b4b2c845",
   "metadata": {},
   "source": [
    "#### ID3 / C4.5 Algorithm"
   ]
  },
  {
   "cell_type": "markdown",
   "id": "77a127d9",
   "metadata": {},
   "source": [
    "##### Determine the Best Attribute for Splitting"
   ]
  },
  {
   "cell_type": "markdown",
   "id": "05289c67",
   "metadata": {},
   "source": [
    "Entropy: helps us to measure the purity of the split. Entropy will be between 0 and 1\n",
    "\n",
    "- we always need to aim to get the leaf node quickly hence choosing the right features/parameters is necessary\n",
    "- we need to keep calculating purity of the split every time in each and every node\n",
    "- for this we use entropy\n",
    "\n",
    "$$ H(S) = -P_{(+)}log_2(P_{(+)}) -P_{(-)}log_2(P_{(-)})  $$\n",
    "\n",
    "Percentage of +ve class:\n",
    "$$ P_{(+)} $$  \n",
    "\n",
    "Percentage of -ve class:\n",
    "$$ P_{(-)} $$ \n",
    "\n",
    "S: subset of training example"
   ]
  },
  {
   "cell_type": "markdown",
   "id": "5cc45fec",
   "metadata": {},
   "source": [
    "Pure Split: https://youtube.com/clip/UgkxZ4r16J1ZYJ-g7a-yYpEIEhQc6MP-oU8V"
   ]
  },
  {
   "cell_type": "markdown",
   "id": "b32c4a29",
   "metadata": {},
   "source": [
    "Complete Impure split look something like this - 3yes | 3 no\n",
    "\n",
    "Entropy will be 1 bit. This will the worst split.\n",
    "\n",
    "for 4 yes| 0 no, entropy will be 0 bit\n",
    "\n",
    "Entropy is measure of uncertainty. Higher the entropy more uncertain the event will be."
   ]
  },
  {
   "cell_type": "markdown",
   "id": "a9615675",
   "metadata": {},
   "source": [
    "Always select the feature with less entropy"
   ]
  },
  {
   "cell_type": "code",
   "execution_count": null,
   "id": "071aef4b",
   "metadata": {},
   "outputs": [],
   "source": []
  }
 ],
 "metadata": {
  "kernelspec": {
   "display_name": "Python 3 (ipykernel)",
   "language": "python",
   "name": "python3"
  },
  "language_info": {
   "codemirror_mode": {
    "name": "ipython",
    "version": 3
   },
   "file_extension": ".py",
   "mimetype": "text/x-python",
   "name": "python",
   "nbconvert_exporter": "python",
   "pygments_lexer": "ipython3",
   "version": "3.9.7"
  }
 },
 "nbformat": 4,
 "nbformat_minor": 5
}
