{
 "cells": [
  {
   "cell_type": "markdown",
   "id": "1bf1ef5e",
   "metadata": {},
   "source": [
    "### Assignment: HW 02 Data Preparation\n",
    "### Date: Feb 06, 2022\n",
    "\n",
    "#### Name: Chaithra Kopparam Cheluvaiah\n"
   ]
  },
  {
   "cell_type": "markdown",
   "id": "93f544f8",
   "metadata": {},
   "source": [
    "Each of 5 schools (A, B, C, D and E) is implementing the same math course this semester, with 35 lessons. There are 30 sections total. The semester is about 3/4 of the way through.\n",
    "\n",
    "For each section, we record the number of students who are:\n",
    "\n",
    "- completed (finished with the course)\n",
    "- very ahead (more than 5 lessons ahead)\n",
    "- middling  (5 lessons ahead to 0 lessons ahead)\n",
    "- behind (1 to 5 lessons behind)\n",
    "- more behind (6 to 10 lessons behind)\n",
    "- very behind  (more than 10 lessons behind)\n",
    "\n",
    "**What’s the story (or stories) in this data? Find it, and tell it visually and, above all, truthfully.**\n"
   ]
  },
  {
   "cell_type": "code",
   "execution_count": 1,
   "id": "6ab7de8e",
   "metadata": {},
   "outputs": [],
   "source": [
    "# loading required libraries\n",
    "import pandas as pd\n",
    "import seaborn as sns\n",
    "import matplotlib.pyplot as plt\n",
    "%matplotlib inline"
   ]
  },
  {
   "cell_type": "code",
   "execution_count": 2,
   "id": "97808cd7",
   "metadata": {},
   "outputs": [],
   "source": [
    "# loading data into a dataframe\n",
    "path = 'data-storyteller.csv'\n",
    "df = pd.read_csv(path, header=0, na_values='NA')"
   ]
  },
  {
   "cell_type": "markdown",
   "id": "99497851",
   "metadata": {},
   "source": [
    "#### Analyzing Structure and Summary of Data"
   ]
  },
  {
   "cell_type": "code",
   "execution_count": 3,
   "id": "e904ab21",
   "metadata": {},
   "outputs": [
    {
     "data": {
      "text/html": [
       "<div>\n",
       "<style scoped>\n",
       "    .dataframe tbody tr th:only-of-type {\n",
       "        vertical-align: middle;\n",
       "    }\n",
       "\n",
       "    .dataframe tbody tr th {\n",
       "        vertical-align: top;\n",
       "    }\n",
       "\n",
       "    .dataframe thead th {\n",
       "        text-align: right;\n",
       "    }\n",
       "</style>\n",
       "<table border=\"1\" class=\"dataframe\">\n",
       "  <thead>\n",
       "    <tr style=\"text-align: right;\">\n",
       "      <th></th>\n",
       "      <th>School</th>\n",
       "      <th>Section</th>\n",
       "      <th>Very Ahead +5</th>\n",
       "      <th>Middling +0</th>\n",
       "      <th>Behind -1-5</th>\n",
       "      <th>More Behind -6-10</th>\n",
       "      <th>Very Behind -11</th>\n",
       "      <th>Completed</th>\n",
       "    </tr>\n",
       "  </thead>\n",
       "  <tbody>\n",
       "    <tr>\n",
       "      <th>0</th>\n",
       "      <td>A</td>\n",
       "      <td>1</td>\n",
       "      <td>0</td>\n",
       "      <td>5</td>\n",
       "      <td>54</td>\n",
       "      <td>3</td>\n",
       "      <td>9</td>\n",
       "      <td>10</td>\n",
       "    </tr>\n",
       "    <tr>\n",
       "      <th>1</th>\n",
       "      <td>A</td>\n",
       "      <td>2</td>\n",
       "      <td>0</td>\n",
       "      <td>8</td>\n",
       "      <td>40</td>\n",
       "      <td>10</td>\n",
       "      <td>16</td>\n",
       "      <td>6</td>\n",
       "    </tr>\n",
       "    <tr>\n",
       "      <th>2</th>\n",
       "      <td>A</td>\n",
       "      <td>3</td>\n",
       "      <td>0</td>\n",
       "      <td>9</td>\n",
       "      <td>35</td>\n",
       "      <td>12</td>\n",
       "      <td>13</td>\n",
       "      <td>11</td>\n",
       "    </tr>\n",
       "    <tr>\n",
       "      <th>3</th>\n",
       "      <td>A</td>\n",
       "      <td>4</td>\n",
       "      <td>0</td>\n",
       "      <td>14</td>\n",
       "      <td>44</td>\n",
       "      <td>5</td>\n",
       "      <td>12</td>\n",
       "      <td>10</td>\n",
       "    </tr>\n",
       "    <tr>\n",
       "      <th>4</th>\n",
       "      <td>A</td>\n",
       "      <td>5</td>\n",
       "      <td>0</td>\n",
       "      <td>9</td>\n",
       "      <td>42</td>\n",
       "      <td>2</td>\n",
       "      <td>24</td>\n",
       "      <td>8</td>\n",
       "    </tr>\n",
       "  </tbody>\n",
       "</table>\n",
       "</div>"
      ],
      "text/plain": [
       "  School  Section   Very Ahead +5   Middling +0   Behind -1-5  \\\n",
       "0      A        1               0             5            54   \n",
       "1      A        2               0             8            40   \n",
       "2      A        3               0             9            35   \n",
       "3      A        4               0            14            44   \n",
       "4      A        5               0             9            42   \n",
       "\n",
       "   More Behind -6-10   Very Behind -11   Completed  \n",
       "0                  3                 9          10  \n",
       "1                 10                16           6  \n",
       "2                 12                13          11  \n",
       "3                  5                12          10  \n",
       "4                  2                24           8  "
      ]
     },
     "execution_count": 3,
     "metadata": {},
     "output_type": "execute_result"
    }
   ],
   "source": [
    "# viewing the data - first 5 rows\n",
    "df.head()"
   ]
  },
  {
   "cell_type": "code",
   "execution_count": 4,
   "id": "f0a81bbd",
   "metadata": {},
   "outputs": [
    {
     "name": "stdout",
     "output_type": "stream",
     "text": [
      "Number of rows:  30\n",
      "Number of columns:  8\n"
     ]
    }
   ],
   "source": [
    "#Shape of data\n",
    "df.shape\n",
    "print(\"Number of rows: \",df.shape[0])\n",
    "print(\"Number of columns: \",df.shape[1])"
   ]
  },
  {
   "cell_type": "markdown",
   "id": "a3b2923c",
   "metadata": {},
   "source": [
    "This is a small data set with 30 rows and 8 columns"
   ]
  },
  {
   "cell_type": "code",
   "execution_count": 5,
   "id": "61a343c2",
   "metadata": {},
   "outputs": [
    {
     "name": "stdout",
     "output_type": "stream",
     "text": [
      "<class 'pandas.core.frame.DataFrame'>\n",
      "RangeIndex: 30 entries, 0 to 29\n",
      "Data columns (total 8 columns):\n",
      " #   Column             Non-Null Count  Dtype \n",
      "---  ------             --------------  ----- \n",
      " 0   School             30 non-null     object\n",
      " 1   Section            30 non-null     int64 \n",
      " 2    Very Ahead +5     30 non-null     int64 \n",
      " 3    Middling +0       30 non-null     int64 \n",
      " 4    Behind -1-5       30 non-null     int64 \n",
      " 5   More Behind -6-10  30 non-null     int64 \n",
      " 6    Very Behind -11   30 non-null     int64 \n",
      " 7    Completed         30 non-null     int64 \n",
      "dtypes: int64(7), object(1)\n",
      "memory usage: 2.0+ KB\n"
     ]
    }
   ],
   "source": [
    "# checking for data type and null values in the data set\n",
    "df.info()"
   ]
  },
  {
   "cell_type": "markdown",
   "id": "24a2761e",
   "metadata": {},
   "source": [
    "# Data Cleaning & Wrangling"
   ]
  },
  {
   "cell_type": "code",
   "execution_count": 6,
   "id": "42d63de9",
   "metadata": {},
   "outputs": [],
   "source": [
    "# renaming columns - removing spaces and digits for easy access\n",
    "df = df.rename(columns={' Very Ahead +5':'VeryAhead', ' Middling +0':'Middling',' Behind -1-5':'Behind', \n",
    "                                'More Behind -6-10':'MoreBehind',' Very Behind -11':'VeryBehind', ' Completed':'Completed'})"
   ]
  },
  {
   "cell_type": "code",
   "execution_count": 7,
   "id": "72fb8091",
   "metadata": {},
   "outputs": [
    {
     "data": {
      "text/plain": [
       "Index(['School', 'Section', 'VeryAhead', 'Middling', 'Behind', 'MoreBehind',\n",
       "       'VeryBehind', 'Completed'],\n",
       "      dtype='object')"
      ]
     },
     "execution_count": 7,
     "metadata": {},
     "output_type": "execute_result"
    }
   ],
   "source": [
    "df.columns"
   ]
  },
  {
   "cell_type": "code",
   "execution_count": 8,
   "id": "d8162c87",
   "metadata": {},
   "outputs": [],
   "source": [
    "# re-arranging the columns in descinding order of students progress. \n",
    "# students who already completed the course will be at the beginning and who are very behind will be at the end of the dataframe\n",
    "df = df[[\"School\",\"Section\",\"Completed\",\"VeryAhead\",\"Middling\",\"Behind\",\"MoreBehind\",\"VeryBehind\"]]"
   ]
  },
  {
   "cell_type": "code",
   "execution_count": 9,
   "id": "4c7dc24d",
   "metadata": {},
   "outputs": [
    {
     "data": {
      "text/plain": [
       "School        0\n",
       "Section       0\n",
       "Completed     0\n",
       "VeryAhead     0\n",
       "Middling      0\n",
       "Behind        0\n",
       "MoreBehind    0\n",
       "VeryBehind    0\n",
       "dtype: int64"
      ]
     },
     "execution_count": 9,
     "metadata": {},
     "output_type": "execute_result"
    }
   ],
   "source": [
    "# checking for null values\n",
    "df.isnull().sum()"
   ]
  },
  {
   "cell_type": "markdown",
   "id": "20a906fa",
   "metadata": {},
   "source": [
    "There are no null values"
   ]
  },
  {
   "cell_type": "code",
   "execution_count": 10,
   "id": "66a08cf5",
   "metadata": {},
   "outputs": [
    {
     "data": {
      "text/plain": [
       "School        0\n",
       "Section       0\n",
       "Completed     0\n",
       "VeryAhead     0\n",
       "Middling      0\n",
       "Behind        0\n",
       "MoreBehind    0\n",
       "VeryBehind    0\n",
       "dtype: int64"
      ]
     },
     "execution_count": 10,
     "metadata": {},
     "output_type": "execute_result"
    }
   ],
   "source": [
    "#Checking for NA values\n",
    "df.isna().sum()"
   ]
  },
  {
   "cell_type": "markdown",
   "id": "9377c620",
   "metadata": {},
   "source": [
    "There are no 'NA' values"
   ]
  },
  {
   "cell_type": "code",
   "execution_count": 11,
   "id": "77381369",
   "metadata": {},
   "outputs": [
    {
     "data": {
      "text/plain": [
       "School        object\n",
       "Section        int64\n",
       "Completed      int64\n",
       "VeryAhead      int64\n",
       "Middling       int64\n",
       "Behind         int64\n",
       "MoreBehind     int64\n",
       "VeryBehind     int64\n",
       "dtype: object"
      ]
     },
     "execution_count": 11,
     "metadata": {},
     "output_type": "execute_result"
    }
   ],
   "source": [
    "# datatypes of each field\n",
    "df.dtypes"
   ]
  },
  {
   "cell_type": "markdown",
   "id": "908e0eed",
   "metadata": {},
   "source": [
    "# Data Analysis & Visualization"
   ]
  },
  {
   "cell_type": "markdown",
   "id": "6b47abef",
   "metadata": {},
   "source": [
    "During our analysis we will be answering some of the business questions through visualization such as\n",
    "1. How many students are there in each school\n",
    "2. What is the distribution of student progress categories\n",
    "3. How are student progress distributed across each school\n",
    "4. Which schools have higher percentage of students ahead or behind\n",
    "5. Are their any outliers in our analysis?\n",
    "6. What is the breakup of students & schools according to sections"
   ]
  },
  {
   "cell_type": "code",
   "execution_count": 12,
   "id": "50dbbcb4",
   "metadata": {},
   "outputs": [
    {
     "data": {
      "text/html": [
       "<div>\n",
       "<style scoped>\n",
       "    .dataframe tbody tr th:only-of-type {\n",
       "        vertical-align: middle;\n",
       "    }\n",
       "\n",
       "    .dataframe tbody tr th {\n",
       "        vertical-align: top;\n",
       "    }\n",
       "\n",
       "    .dataframe thead th {\n",
       "        text-align: right;\n",
       "    }\n",
       "</style>\n",
       "<table border=\"1\" class=\"dataframe\">\n",
       "  <thead>\n",
       "    <tr style=\"text-align: right;\">\n",
       "      <th></th>\n",
       "      <th>count</th>\n",
       "      <th>mean</th>\n",
       "      <th>std</th>\n",
       "      <th>min</th>\n",
       "      <th>25%</th>\n",
       "      <th>50%</th>\n",
       "      <th>75%</th>\n",
       "      <th>max</th>\n",
       "    </tr>\n",
       "  </thead>\n",
       "  <tbody>\n",
       "    <tr>\n",
       "      <th>Section</th>\n",
       "      <td>30.0</td>\n",
       "      <td>5.900000</td>\n",
       "      <td>3.898275</td>\n",
       "      <td>1.0</td>\n",
       "      <td>2.25</td>\n",
       "      <td>5.5</td>\n",
       "      <td>9.00</td>\n",
       "      <td>13.0</td>\n",
       "    </tr>\n",
       "    <tr>\n",
       "      <th>Completed</th>\n",
       "      <td>30.0</td>\n",
       "      <td>10.533333</td>\n",
       "      <td>6.004213</td>\n",
       "      <td>1.0</td>\n",
       "      <td>6.00</td>\n",
       "      <td>10.0</td>\n",
       "      <td>14.00</td>\n",
       "      <td>27.0</td>\n",
       "    </tr>\n",
       "    <tr>\n",
       "      <th>VeryAhead</th>\n",
       "      <td>30.0</td>\n",
       "      <td>0.000000</td>\n",
       "      <td>0.000000</td>\n",
       "      <td>0.0</td>\n",
       "      <td>0.00</td>\n",
       "      <td>0.0</td>\n",
       "      <td>0.00</td>\n",
       "      <td>0.0</td>\n",
       "    </tr>\n",
       "    <tr>\n",
       "      <th>Middling</th>\n",
       "      <td>30.0</td>\n",
       "      <td>7.400000</td>\n",
       "      <td>3.909317</td>\n",
       "      <td>2.0</td>\n",
       "      <td>4.25</td>\n",
       "      <td>7.5</td>\n",
       "      <td>9.75</td>\n",
       "      <td>19.0</td>\n",
       "    </tr>\n",
       "    <tr>\n",
       "      <th>Behind</th>\n",
       "      <td>30.0</td>\n",
       "      <td>25.133333</td>\n",
       "      <td>13.935154</td>\n",
       "      <td>4.0</td>\n",
       "      <td>15.25</td>\n",
       "      <td>22.0</td>\n",
       "      <td>34.25</td>\n",
       "      <td>56.0</td>\n",
       "    </tr>\n",
       "    <tr>\n",
       "      <th>MoreBehind</th>\n",
       "      <td>30.0</td>\n",
       "      <td>3.333333</td>\n",
       "      <td>3.283536</td>\n",
       "      <td>0.0</td>\n",
       "      <td>1.00</td>\n",
       "      <td>2.0</td>\n",
       "      <td>4.75</td>\n",
       "      <td>12.0</td>\n",
       "    </tr>\n",
       "    <tr>\n",
       "      <th>VeryBehind</th>\n",
       "      <td>30.0</td>\n",
       "      <td>6.966667</td>\n",
       "      <td>6.272454</td>\n",
       "      <td>0.0</td>\n",
       "      <td>1.25</td>\n",
       "      <td>5.5</td>\n",
       "      <td>11.50</td>\n",
       "      <td>24.0</td>\n",
       "    </tr>\n",
       "  </tbody>\n",
       "</table>\n",
       "</div>"
      ],
      "text/plain": [
       "            count       mean        std  min    25%   50%    75%   max\n",
       "Section      30.0   5.900000   3.898275  1.0   2.25   5.5   9.00  13.0\n",
       "Completed    30.0  10.533333   6.004213  1.0   6.00  10.0  14.00  27.0\n",
       "VeryAhead    30.0   0.000000   0.000000  0.0   0.00   0.0   0.00   0.0\n",
       "Middling     30.0   7.400000   3.909317  2.0   4.25   7.5   9.75  19.0\n",
       "Behind       30.0  25.133333  13.935154  4.0  15.25  22.0  34.25  56.0\n",
       "MoreBehind   30.0   3.333333   3.283536  0.0   1.00   2.0   4.75  12.0\n",
       "VeryBehind   30.0   6.966667   6.272454  0.0   1.25   5.5  11.50  24.0"
      ]
     },
     "execution_count": 12,
     "metadata": {},
     "output_type": "execute_result"
    }
   ],
   "source": [
    "# summary of the statistical data\n",
    "df.describe().T"
   ]
  },
  {
   "cell_type": "markdown",
   "id": "6732fef0",
   "metadata": {},
   "source": [
    "There is no data in VeryAhead. It is okay to drop this column"
   ]
  },
  {
   "cell_type": "code",
   "execution_count": 13,
   "id": "a361bf57",
   "metadata": {},
   "outputs": [],
   "source": [
    "df.drop('VeryAhead', axis=1, inplace=True)"
   ]
  },
  {
   "cell_type": "markdown",
   "id": "8527fa19",
   "metadata": {},
   "source": [
    "#### Pie Chart - High Level Summary"
   ]
  },
  {
   "cell_type": "code",
   "execution_count": 14,
   "id": "3a43d288",
   "metadata": {},
   "outputs": [
    {
     "data": {
      "text/plain": [
       "Completed     316\n",
       "Middling      222\n",
       "Behind        754\n",
       "MoreBehind    100\n",
       "VeryBehind    209\n",
       "dtype: int64"
      ]
     },
     "execution_count": 14,
     "metadata": {},
     "output_type": "execute_result"
    }
   ],
   "source": [
    "summary = df[[\"Completed\",\"Middling\",\"Behind\",\"MoreBehind\",\"VeryBehind\"]].sum()\n",
    "summary"
   ]
  },
  {
   "cell_type": "code",
   "execution_count": 15,
   "id": "62509d7d",
   "metadata": {},
   "outputs": [
    {
     "data": {
      "text/plain": [
       "Text(0.5, 1.0, 'Pie Chart of Students Progress in Schools')"
      ]
     },
     "execution_count": 15,
     "metadata": {},
     "output_type": "execute_result"
    },
    {
     "data": {
      "image/png": "[encoded data removed]",
      "text/plain": [
       "<Figure size 432x288 with 1 Axes>"
      ]
     },
     "metadata": {},
     "output_type": "display_data"
    }
   ],
   "source": [
    "plt.pie(summary, labels = ['Completed','Middling','Behind','MoreBehind','VeryBehind'], \n",
    "        colors = sns.color_palette('bright'), \n",
    "        autopct = '%0.0f%%')\n",
    "plt.title('Pie Chart of Students Progress in Schools')"
   ]
  },
  {
   "cell_type": "markdown",
   "id": "3b725a14",
   "metadata": {},
   "source": [
    "#### Creating Frequency Table"
   ]
  },
  {
   "cell_type": "code",
   "execution_count": 16,
   "id": "d8f70c53",
   "metadata": {},
   "outputs": [
    {
     "data": {
      "text/plain": [
       "School\n",
       "A    13\n",
       "B    12\n",
       "C     3\n",
       "D     1\n",
       "E     1\n",
       "Name: Section, dtype: int64"
      ]
     },
     "execution_count": 16,
     "metadata": {},
     "output_type": "execute_result"
    }
   ],
   "source": [
    "# How many section in each School?\n",
    "df.groupby('School').count()['Section']"
   ]
  },
  {
   "cell_type": "markdown",
   "id": "af92a396",
   "metadata": {},
   "source": [
    "School \"A\" has highest number of sections - 13 \n",
    "\n",
    "School \"B\" has Second highest number of sections - 12"
   ]
  },
  {
   "cell_type": "markdown",
   "id": "6146a0b6",
   "metadata": {},
   "source": [
    "#### Bar Chart - Number of Students in each School"
   ]
  },
  {
   "cell_type": "code",
   "execution_count": 17,
   "id": "a17adc2e",
   "metadata": {},
   "outputs": [
    {
     "data": {
      "text/plain": [
       "School\n",
       "A    932\n",
       "B    446\n",
       "C     85\n",
       "D     22\n",
       "E    116\n",
       "dtype: int64"
      ]
     },
     "execution_count": 17,
     "metadata": {},
     "output_type": "execute_result"
    }
   ],
   "source": [
    "# How many Students in Each School?\n",
    "grouped = df.groupby('School').sum()\n",
    "school_strength = grouped[['Completed','Middling','Behind','MoreBehind','VeryBehind']].sum(axis=1)\n",
    "school_strength"
   ]
  },
  {
   "cell_type": "code",
   "execution_count": 18,
   "id": "0b71a9eb",
   "metadata": {},
   "outputs": [
    {
     "data": {
      "text/plain": [
       "<AxesSubplot:title={'center':'Total Students per School'}, xlabel='School', ylabel='Total Students'>"
      ]
     },
     "execution_count": 18,
     "metadata": {},
     "output_type": "execute_result"
    },
    {
     "data": {
      "image/png": "[encoded data removed]",
      "text/plain": [
       "<Figure size 504x360 with 1 Axes>"
      ]
     },
     "metadata": {
      "needs_background": "light"
     },
     "output_type": "display_data"
    }
   ],
   "source": [
    "school_strength.plot(kind='bar',ylabel='Total Students',fontsize=11,title='Total Students per School',  figsize=(7,5))"
   ]
  },
  {
   "cell_type": "markdown",
   "id": "7f6b1f6d",
   "metadata": {},
   "source": [
    "#### Bar Chart - Status of Students Across each schools"
   ]
  },
  {
   "cell_type": "code",
   "execution_count": 19,
   "id": "28ceccf6",
   "metadata": {},
   "outputs": [
    {
     "data": {
      "text/html": [
       "<div>\n",
       "<style scoped>\n",
       "    .dataframe tbody tr th:only-of-type {\n",
       "        vertical-align: middle;\n",
       "    }\n",
       "\n",
       "    .dataframe tbody tr th {\n",
       "        vertical-align: top;\n",
       "    }\n",
       "\n",
       "    .dataframe thead th {\n",
       "        text-align: right;\n",
       "    }\n",
       "</style>\n",
       "<table border=\"1\" class=\"dataframe\">\n",
       "  <thead>\n",
       "    <tr style=\"text-align: right;\">\n",
       "      <th></th>\n",
       "      <th>Completed</th>\n",
       "      <th>Middling</th>\n",
       "      <th>Behind</th>\n",
       "      <th>MoreBehind</th>\n",
       "      <th>VeryBehind</th>\n",
       "    </tr>\n",
       "    <tr>\n",
       "      <th>School</th>\n",
       "      <th></th>\n",
       "      <th></th>\n",
       "      <th></th>\n",
       "      <th></th>\n",
       "      <th></th>\n",
       "    </tr>\n",
       "  </thead>\n",
       "  <tbody>\n",
       "    <tr>\n",
       "      <th>A</th>\n",
       "      <td>142</td>\n",
       "      <td>113</td>\n",
       "      <td>450</td>\n",
       "      <td>73</td>\n",
       "      <td>154</td>\n",
       "    </tr>\n",
       "    <tr>\n",
       "      <th>B</th>\n",
       "      <td>125</td>\n",
       "      <td>84</td>\n",
       "      <td>201</td>\n",
       "      <td>14</td>\n",
       "      <td>22</td>\n",
       "    </tr>\n",
       "    <tr>\n",
       "      <th>C</th>\n",
       "      <td>19</td>\n",
       "      <td>11</td>\n",
       "      <td>39</td>\n",
       "      <td>4</td>\n",
       "      <td>12</td>\n",
       "    </tr>\n",
       "    <tr>\n",
       "      <th>D</th>\n",
       "      <td>3</td>\n",
       "      <td>3</td>\n",
       "      <td>8</td>\n",
       "      <td>2</td>\n",
       "      <td>6</td>\n",
       "    </tr>\n",
       "    <tr>\n",
       "      <th>E</th>\n",
       "      <td>27</td>\n",
       "      <td>11</td>\n",
       "      <td>56</td>\n",
       "      <td>7</td>\n",
       "      <td>15</td>\n",
       "    </tr>\n",
       "  </tbody>\n",
       "</table>\n",
       "</div>"
      ],
      "text/plain": [
       "        Completed  Middling  Behind  MoreBehind  VeryBehind\n",
       "School                                                     \n",
       "A             142       113     450          73         154\n",
       "B             125        84     201          14          22\n",
       "C              19        11      39           4          12\n",
       "D               3         3       8           2           6\n",
       "E              27        11      56           7          15"
      ]
     },
     "execution_count": 19,
     "metadata": {},
     "output_type": "execute_result"
    }
   ],
   "source": [
    "# grade distribution across all the schools\n",
    "school_performance = df.groupby('School').sum().drop('Section', axis=1)\n",
    "school_performance"
   ]
  },
  {
   "cell_type": "code",
   "execution_count": 20,
   "id": "0b20bd96",
   "metadata": {},
   "outputs": [
    {
     "data": {
      "text/plain": [
       "<AxesSubplot:title={'center':'Status of Students'}, xlabel='School'>"
      ]
     },
     "execution_count": 20,
     "metadata": {},
     "output_type": "execute_result"
    },
    {
     "data": {
      "image/png": "[encoded data removed]",
      "text/plain": [
       "<Figure size 432x288 with 1 Axes>"
      ]
     },
     "metadata": {
      "needs_background": "light"
     },
     "output_type": "display_data"
    }
   ],
   "source": [
    "school_performance.plot(kind='bar', stacked=True, title='Status of Students')"
   ]
  },
  {
   "cell_type": "markdown",
   "id": "fa48eba0",
   "metadata": {},
   "source": [
    "According to above chart, we see that Schools \"A\" and \"B\" have a very high number of students middling or behind.In the coming weeks if resources are concentrated around these schools we can expect good results."
   ]
  },
  {
   "cell_type": "markdown",
   "id": "654f54cd",
   "metadata": {},
   "source": [
    "#### Box Plot - Performance across each school"
   ]
  },
  {
   "cell_type": "code",
   "execution_count": 21,
   "id": "37e1a5e0",
   "metadata": {},
   "outputs": [
    {
     "data": {
      "text/plain": [
       "array([[<AxesSubplot:title={'center':'Behind'}, xlabel='[School]'>,\n",
       "        <AxesSubplot:title={'center':'Completed'}, xlabel='[School]'>],\n",
       "       [<AxesSubplot:title={'center':'Middling'}, xlabel='[School]'>,\n",
       "        <AxesSubplot:title={'center':'MoreBehind'}, xlabel='[School]'>],\n",
       "       [<AxesSubplot:title={'center':'VeryBehind'}, xlabel='[School]'>,\n",
       "        <AxesSubplot:>]], dtype=object)"
      ]
     },
     "execution_count": 21,
     "metadata": {},
     "output_type": "execute_result"
    },
    {
     "data": {
      "image/png": "[encoded data removed]",
      "text/plain": [
       "<Figure size 1440x1440 with 6 Axes>"
      ]
     },
     "metadata": {
      "needs_background": "light"
     },
     "output_type": "display_data"
    }
   ],
   "source": [
    "df.drop('Section',axis=1).boxplot(by='School',fontsize=18,  figsize=(20,20))"
   ]
  },
  {
   "cell_type": "markdown",
   "id": "9b1c94ed",
   "metadata": {},
   "source": [
    "From the boxplot we observe that there are some sections in School \"A\" and \"B\" that are outliers. Pinpointing these sections will help us allocate resources in a much better way."
   ]
  },
  {
   "cell_type": "markdown",
   "id": "29171409",
   "metadata": {},
   "source": [
    "#### ScatterPlots - Details by School and Section"
   ]
  },
  {
   "cell_type": "markdown",
   "id": "6b911388",
   "metadata": {},
   "source": [
    "Plot that maps Section Total vs Middling Counts"
   ]
  },
  {
   "cell_type": "code",
   "execution_count": 22,
   "id": "694c9a1d",
   "metadata": {},
   "outputs": [],
   "source": [
    "# section total\n",
    "df['Total'] = df[['Completed','Middling','Behind','MoreBehind','VeryBehind']].sum(axis=1)"
   ]
  },
  {
   "cell_type": "code",
   "execution_count": 23,
   "id": "561792dc",
   "metadata": {},
   "outputs": [],
   "source": [
    "# configuring plot size, font scale of the seaborn plots\n",
    "\n",
    "sns.set(rc={\"figure.figsize\":(7, 5)}) # default width=6, height=5\n",
    "\n",
    "sns.set_style('white') # setting theme\n",
    "\n",
    "sns.set_context(\"notebook\", font_scale=1.3, rc={\"lines.linewidth\": 2})"
   ]
  },
  {
   "cell_type": "code",
   "execution_count": 24,
   "id": "35f08326",
   "metadata": {},
   "outputs": [
    {
     "data": {
      "text/plain": [
       "<matplotlib.legend.Legend at 0x16082f7d040>"
      ]
     },
     "execution_count": 24,
     "metadata": {},
     "output_type": "execute_result"
    },
    {
     "data": {
      "image/png": "[encoded data removed]",
      "text/plain": [
       "<Figure size 504x360 with 1 Axes>"
      ]
     },
     "metadata": {},
     "output_type": "display_data"
    }
   ],
   "source": [
    "# creating scatter plot\n",
    "ax = sns.scatterplot(data=df, x='Total', y='Middling', size='Middling', hue='School')\n",
    "\n",
    "# adding average line\n",
    "ax.axhline(df['Middling'].mean(), ls='--')\n",
    "\n",
    "ax.set_title('Section Total vs Middling Counts')\n",
    "\n",
    "# place legend outside top right corner of plot\n",
    "plt.legend(bbox_to_anchor=(1.02, 1), loc='upper left', borderaxespad=0)"
   ]
  },
  {
   "cell_type": "code",
   "execution_count": 25,
   "id": "aebacccf",
   "metadata": {},
   "outputs": [
    {
     "data": {
      "text/plain": [
       "<matplotlib.legend.Legend at 0x16083037100>"
      ]
     },
     "execution_count": 25,
     "metadata": {},
     "output_type": "execute_result"
    },
    {
     "data": {
      "image/png": "[encoded data removed]",
      "text/plain": [
       "<Figure size 504x360 with 1 Axes>"
      ]
     },
     "metadata": {},
     "output_type": "display_data"
    }
   ],
   "source": [
    "ax = sns.scatterplot(data=df, x='Total', y='Behind',size='Behind', hue='School')\n",
    "ax.axhline(df['Behind'].mean(), ls='--')\n",
    "ax.set_title('Section Total vs Behind Counts')\n",
    "plt.legend(bbox_to_anchor=(1.02, 1), loc='upper left', borderaxespad=0)"
   ]
  },
  {
   "cell_type": "code",
   "execution_count": 26,
   "id": "ff23c3d5",
   "metadata": {},
   "outputs": [
    {
     "data": {
      "text/plain": [
       "<matplotlib.legend.Legend at 0x1608308b100>"
      ]
     },
     "execution_count": 26,
     "metadata": {},
     "output_type": "execute_result"
    },
    {
     "data": {
      "image/png": "[encoded data removed]",
      "text/plain": [
       "<Figure size 504x360 with 1 Axes>"
      ]
     },
     "metadata": {},
     "output_type": "display_data"
    }
   ],
   "source": [
    "ax = sns.scatterplot(data=df, x='Total', y='VeryBehind',size='VeryBehind', hue='School')\n",
    "ax.axhline(df['VeryBehind'].mean(), ls='--')\n",
    "ax.set_title('Section Total vs VeryBehind Counts')\n",
    "plt.legend(bbox_to_anchor=(1.02, 1), loc='upper left', borderaxespad=0)"
   ]
  },
  {
   "cell_type": "markdown",
   "id": "03e60b04",
   "metadata": {},
   "source": [
    "### CONCLUSION\n",
    "1. Data discovery showed us zero students in “VeryAhead” bucket. Assumption is that these students have completed their course\n",
    "2. Pie chart showed us that around 66% students are lagging behind\n",
    "3. School \"A\" has highest number of students studying the maths course - 932 students\n",
    "4. Box plot showed us some outliers for School \"A\" and \"B\". To look more closely we then generated scatterplots\n",
    "5. Middling scatterplot helped us identify schools which are in need of immediate help\n",
    "6. Behind scatterplot showed us Schools \"A\" and \"E\" have high number of students lagging behind\n",
    "7. Very Behind scatterplot gave us similar results that point to schools \"A\" and \"E\""
   ]
  }
 ],
 "metadata": {
  "kernelspec": {
   "display_name": "Python 3 (ipykernel)",
   "language": "python",
   "name": "python3"
  },
  "language_info": {
   "codemirror_mode": {
    "name": "ipython",
    "version": 3
   },
   "file_extension": ".py",
   "mimetype": "text/x-python",
   "name": "python",
   "nbconvert_exporter": "python",
   "pygments_lexer": "ipython3",
   "version": "3.9.7"
  }
 },
 "nbformat": 4,
 "nbformat_minor": 5
}
