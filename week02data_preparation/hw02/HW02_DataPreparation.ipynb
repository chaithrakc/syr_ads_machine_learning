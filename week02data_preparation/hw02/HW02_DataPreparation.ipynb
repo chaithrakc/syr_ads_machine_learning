{
 "cells": [
  {
   "cell_type": "code",
   "execution_count": 1,
   "id": "37320274",
   "metadata": {},
   "outputs": [],
   "source": [
    "# Name: Chaithra Kopparam Cheluvaiah\n",
    "# Assignment: HW02 Data Preparation\n",
    "# Date: Feb 06, 2022"
   ]
  },
  {
   "cell_type": "markdown",
   "id": "93f544f8",
   "metadata": {},
   "source": [
    "Each of 5 schools (A, B, C, D and E) is implementing the same math course this semester, with 35 lessons. There are 30 sections total. The semester is about 3/4 of the way through.\n",
    "\n",
    "For each section, we record the number of students who are:\n",
    "\n",
    "- very ahead (more than 5 lessons ahead)\n",
    "- middling  (5 lessons ahead to 0 lessons ahead)\n",
    "- behind (1 to 5 lessons behind)\n",
    "- more behind (6 to 10 lessons behind)\n",
    "- very behind  (more than 10 lessons behind)\n",
    "- completed (finished with the course)\n",
    "\n",
    "**What’s the story (or stories) in this data? Find it, and tell it visually and, above all, truthfully.**\n"
   ]
  },
  {
   "cell_type": "code",
   "execution_count": 3,
   "id": "6ab7de8e",
   "metadata": {},
   "outputs": [],
   "source": [
    "# loading required libraries\n",
    "import pandas as pd"
   ]
  },
  {
   "cell_type": "code",
   "execution_count": 21,
   "id": "97808cd7",
   "metadata": {},
   "outputs": [],
   "source": [
    "# reading dataset into a dataframe\n",
    "path = 'data-storyteller.csv'\n",
    "grades = pd.read_csv(path, header=0, na_values='NA')"
   ]
  },
  {
   "cell_type": "code",
   "execution_count": 22,
   "id": "e904ab21",
   "metadata": {},
   "outputs": [
    {
     "data": {
      "text/html": [
       "<div>\n",
       "<style scoped>\n",
       "    .dataframe tbody tr th:only-of-type {\n",
       "        vertical-align: middle;\n",
       "    }\n",
       "\n",
       "    .dataframe tbody tr th {\n",
       "        vertical-align: top;\n",
       "    }\n",
       "\n",
       "    .dataframe thead th {\n",
       "        text-align: right;\n",
       "    }\n",
       "</style>\n",
       "<table border=\"1\" class=\"dataframe\">\n",
       "  <thead>\n",
       "    <tr style=\"text-align: right;\">\n",
       "      <th></th>\n",
       "      <th>School</th>\n",
       "      <th>Section</th>\n",
       "      <th>Very Ahead +5</th>\n",
       "      <th>Middling +0</th>\n",
       "      <th>Behind -1-5</th>\n",
       "      <th>More Behind -6-10</th>\n",
       "      <th>Very Behind -11</th>\n",
       "      <th>Completed</th>\n",
       "    </tr>\n",
       "  </thead>\n",
       "  <tbody>\n",
       "    <tr>\n",
       "      <th>0</th>\n",
       "      <td>A</td>\n",
       "      <td>1</td>\n",
       "      <td>0</td>\n",
       "      <td>5</td>\n",
       "      <td>54</td>\n",
       "      <td>3</td>\n",
       "      <td>9</td>\n",
       "      <td>10</td>\n",
       "    </tr>\n",
       "    <tr>\n",
       "      <th>1</th>\n",
       "      <td>A</td>\n",
       "      <td>2</td>\n",
       "      <td>0</td>\n",
       "      <td>8</td>\n",
       "      <td>40</td>\n",
       "      <td>10</td>\n",
       "      <td>16</td>\n",
       "      <td>6</td>\n",
       "    </tr>\n",
       "    <tr>\n",
       "      <th>2</th>\n",
       "      <td>A</td>\n",
       "      <td>3</td>\n",
       "      <td>0</td>\n",
       "      <td>9</td>\n",
       "      <td>35</td>\n",
       "      <td>12</td>\n",
       "      <td>13</td>\n",
       "      <td>11</td>\n",
       "    </tr>\n",
       "    <tr>\n",
       "      <th>3</th>\n",
       "      <td>A</td>\n",
       "      <td>4</td>\n",
       "      <td>0</td>\n",
       "      <td>14</td>\n",
       "      <td>44</td>\n",
       "      <td>5</td>\n",
       "      <td>12</td>\n",
       "      <td>10</td>\n",
       "    </tr>\n",
       "    <tr>\n",
       "      <th>4</th>\n",
       "      <td>A</td>\n",
       "      <td>5</td>\n",
       "      <td>0</td>\n",
       "      <td>9</td>\n",
       "      <td>42</td>\n",
       "      <td>2</td>\n",
       "      <td>24</td>\n",
       "      <td>8</td>\n",
       "    </tr>\n",
       "  </tbody>\n",
       "</table>\n",
       "</div>"
      ],
      "text/plain": [
       "  School  Section   Very Ahead +5   Middling +0   Behind -1-5  \\\n",
       "0      A        1               0             5            54   \n",
       "1      A        2               0             8            40   \n",
       "2      A        3               0             9            35   \n",
       "3      A        4               0            14            44   \n",
       "4      A        5               0             9            42   \n",
       "\n",
       "   More Behind -6-10   Very Behind -11   Completed  \n",
       "0                  3                 9          10  \n",
       "1                 10                16           6  \n",
       "2                 12                13          11  \n",
       "3                  5                12          10  \n",
       "4                  2                24           8  "
      ]
     },
     "execution_count": 22,
     "metadata": {},
     "output_type": "execute_result"
    }
   ],
   "source": [
    "# viewing the data - first 5 rows\n",
    "grades.head()"
   ]
  },
  {
   "cell_type": "code",
   "execution_count": 30,
   "id": "42d63de9",
   "metadata": {},
   "outputs": [],
   "source": [
    "# modifying column names - removing spaces and digits\n",
    "grades = grades.rename(columns={' Very Ahead +5':'VeryAhead', ' Middling +0':'Middling',' Behind -1-5':'Behind', \n",
    "                                'More Behind -6-10':'MoreBehind',' Very Behind -11':'VeryBehind', ' Completed':'Completed'})"
   ]
  },
  {
   "cell_type": "code",
   "execution_count": 35,
   "id": "8346e5f5",
   "metadata": {},
   "outputs": [
    {
     "data": {
      "text/html": [
       "<div>\n",
       "<style scoped>\n",
       "    .dataframe tbody tr th:only-of-type {\n",
       "        vertical-align: middle;\n",
       "    }\n",
       "\n",
       "    .dataframe tbody tr th {\n",
       "        vertical-align: top;\n",
       "    }\n",
       "\n",
       "    .dataframe thead th {\n",
       "        text-align: right;\n",
       "    }\n",
       "</style>\n",
       "<table border=\"1\" class=\"dataframe\">\n",
       "  <thead>\n",
       "    <tr style=\"text-align: right;\">\n",
       "      <th></th>\n",
       "      <th>School</th>\n",
       "      <th>Section</th>\n",
       "      <th>VeryAhead</th>\n",
       "      <th>Middling</th>\n",
       "      <th>Behind</th>\n",
       "      <th>MoreBehind</th>\n",
       "      <th>VeryBehind</th>\n",
       "      <th>Completed</th>\n",
       "    </tr>\n",
       "  </thead>\n",
       "  <tbody>\n",
       "    <tr>\n",
       "      <th>0</th>\n",
       "      <td>A</td>\n",
       "      <td>1</td>\n",
       "      <td>0</td>\n",
       "      <td>5</td>\n",
       "      <td>54</td>\n",
       "      <td>3</td>\n",
       "      <td>9</td>\n",
       "      <td>10</td>\n",
       "    </tr>\n",
       "    <tr>\n",
       "      <th>1</th>\n",
       "      <td>A</td>\n",
       "      <td>2</td>\n",
       "      <td>0</td>\n",
       "      <td>8</td>\n",
       "      <td>40</td>\n",
       "      <td>10</td>\n",
       "      <td>16</td>\n",
       "      <td>6</td>\n",
       "    </tr>\n",
       "    <tr>\n",
       "      <th>2</th>\n",
       "      <td>A</td>\n",
       "      <td>3</td>\n",
       "      <td>0</td>\n",
       "      <td>9</td>\n",
       "      <td>35</td>\n",
       "      <td>12</td>\n",
       "      <td>13</td>\n",
       "      <td>11</td>\n",
       "    </tr>\n",
       "    <tr>\n",
       "      <th>3</th>\n",
       "      <td>A</td>\n",
       "      <td>4</td>\n",
       "      <td>0</td>\n",
       "      <td>14</td>\n",
       "      <td>44</td>\n",
       "      <td>5</td>\n",
       "      <td>12</td>\n",
       "      <td>10</td>\n",
       "    </tr>\n",
       "    <tr>\n",
       "      <th>4</th>\n",
       "      <td>A</td>\n",
       "      <td>5</td>\n",
       "      <td>0</td>\n",
       "      <td>9</td>\n",
       "      <td>42</td>\n",
       "      <td>2</td>\n",
       "      <td>24</td>\n",
       "      <td>8</td>\n",
       "    </tr>\n",
       "  </tbody>\n",
       "</table>\n",
       "</div>"
      ],
      "text/plain": [
       "  School  Section  VeryAhead  Middling  Behind  MoreBehind  VeryBehind  \\\n",
       "0      A        1          0         5      54           3           9   \n",
       "1      A        2          0         8      40          10          16   \n",
       "2      A        3          0         9      35          12          13   \n",
       "3      A        4          0        14      44           5          12   \n",
       "4      A        5          0         9      42           2          24   \n",
       "\n",
       "   Completed  \n",
       "0         10  \n",
       "1          6  \n",
       "2         11  \n",
       "3         10  \n",
       "4          8  "
      ]
     },
     "execution_count": 35,
     "metadata": {},
     "output_type": "execute_result"
    }
   ],
   "source": [
    "grades.head()"
   ]
  },
  {
   "cell_type": "code",
   "execution_count": 37,
   "id": "f0a81bbd",
   "metadata": {},
   "outputs": [
    {
     "name": "stdout",
     "output_type": "stream",
     "text": [
      "Number of rows:  30\n",
      "Number of columns:  8\n"
     ]
    }
   ],
   "source": [
    "#Shape of data\n",
    "grades.shape\n",
    "print(\"Number of rows: \",grades.shape[0])\n",
    "print(\"Number of columns: \",grades.shape[1])"
   ]
  },
  {
   "cell_type": "code",
   "execution_count": 38,
   "id": "77381369",
   "metadata": {},
   "outputs": [
    {
     "data": {
      "text/plain": [
       "School        object\n",
       "Section        int64\n",
       "VeryAhead      int64\n",
       "Middling       int64\n",
       "Behind         int64\n",
       "MoreBehind     int64\n",
       "VeryBehind     int64\n",
       "Completed      int64\n",
       "dtype: object"
      ]
     },
     "execution_count": 38,
     "metadata": {},
     "output_type": "execute_result"
    }
   ],
   "source": [
    "#Datatypes of each field\n",
    "grades.dtypes"
   ]
  },
  {
   "cell_type": "code",
   "execution_count": 32,
   "id": "3161ea77",
   "metadata": {},
   "outputs": [
    {
     "name": "stdout",
     "output_type": "stream",
     "text": [
      "<class 'pandas.core.frame.DataFrame'>\n",
      "RangeIndex: 30 entries, 0 to 29\n",
      "Data columns (total 8 columns):\n",
      " #   Column      Non-Null Count  Dtype \n",
      "---  ------      --------------  ----- \n",
      " 0   School      30 non-null     object\n",
      " 1   Section     30 non-null     int64 \n",
      " 2   VeryAhead   30 non-null     int64 \n",
      " 3   Middling    30 non-null     int64 \n",
      " 4   Behind      30 non-null     int64 \n",
      " 5   MoreBehind  30 non-null     int64 \n",
      " 6   VeryBehind  30 non-null     int64 \n",
      " 7   Completed   30 non-null     int64 \n",
      "dtypes: int64(7), object(1)\n",
      "memory usage: 2.0+ KB\n"
     ]
    }
   ],
   "source": [
    "# checking for data types and null values\n",
    "grades.info()"
   ]
  },
  {
   "cell_type": "code",
   "execution_count": 40,
   "id": "4c7dc24d",
   "metadata": {},
   "outputs": [
    {
     "data": {
      "text/plain": [
       "School        0\n",
       "Section       0\n",
       "VeryAhead     0\n",
       "Middling      0\n",
       "Behind        0\n",
       "MoreBehind    0\n",
       "VeryBehind    0\n",
       "Completed     0\n",
       "dtype: int64"
      ]
     },
     "execution_count": 40,
     "metadata": {},
     "output_type": "execute_result"
    }
   ],
   "source": [
    "#Checking for null values\n",
    "grades.isnull().sum()\n",
    "\n",
    "# There are no null values"
   ]
  },
  {
   "cell_type": "code",
   "execution_count": 42,
   "id": "66a08cf5",
   "metadata": {},
   "outputs": [
    {
     "data": {
      "text/plain": [
       "School        0\n",
       "Section       0\n",
       "VeryAhead     0\n",
       "Middling      0\n",
       "Behind        0\n",
       "MoreBehind    0\n",
       "VeryBehind    0\n",
       "Completed     0\n",
       "dtype: int64"
      ]
     },
     "execution_count": 42,
     "metadata": {},
     "output_type": "execute_result"
    }
   ],
   "source": [
    "#Checking for NA values\n",
    "grades.isna().sum()\n",
    "\n",
    "# There are no NA values"
   ]
  },
  {
   "cell_type": "code",
   "execution_count": 66,
   "id": "b8518bd0",
   "metadata": {},
   "outputs": [
    {
     "name": "stdout",
     "output_type": "stream",
     "text": [
      "A    13\n",
      "B    12\n",
      "C     3\n",
      "D     1\n",
      "E     1\n",
      "Name: School, dtype: int64\n",
      "1     5\n",
      "2     3\n",
      "3     3\n",
      "4     2\n",
      "5     2\n",
      "6     2\n",
      "7     2\n",
      "8     2\n",
      "9     2\n",
      "10    2\n",
      "11    2\n",
      "12    2\n",
      "13    1\n",
      "Name: Section, dtype: int64\n",
      "0    30\n",
      "Name: VeryAhead, dtype: int64\n",
      "8     4\n",
      "10    4\n",
      "9     3\n",
      "7     3\n",
      "3     3\n",
      "2     3\n",
      "5     2\n",
      "6     2\n",
      "4     2\n",
      "14    1\n",
      "19    1\n",
      "13    1\n",
      "11    1\n",
      "Name: Middling, dtype: int64\n",
      "29    2\n",
      "22    2\n",
      "8     2\n",
      "7     2\n",
      "40    2\n",
      "21    2\n",
      "54    1\n",
      "11    1\n",
      "4     1\n",
      "20    1\n",
      "15    1\n",
      "17    1\n",
      "19    1\n",
      "23    1\n",
      "31    1\n",
      "14    1\n",
      "30    1\n",
      "16    1\n",
      "32    1\n",
      "37    1\n",
      "42    1\n",
      "44    1\n",
      "35    1\n",
      "56    1\n",
      "Name: Behind, dtype: int64\n",
      "2     7\n",
      "1     6\n",
      "0     4\n",
      "3     3\n",
      "5     3\n",
      "4     2\n",
      "10    1\n",
      "12    1\n",
      "11    1\n",
      "8     1\n",
      "7     1\n",
      "Name: MoreBehind, dtype: int64\n",
      "1     5\n",
      "0     3\n",
      "3     2\n",
      "6     2\n",
      "12    2\n",
      "10    2\n",
      "2     2\n",
      "5     2\n",
      "7     1\n",
      "4     1\n",
      "9     1\n",
      "8     1\n",
      "16    1\n",
      "18    1\n",
      "14    1\n",
      "24    1\n",
      "13    1\n",
      "15    1\n",
      "Name: VeryBehind, dtype: int64\n",
      "10    4\n",
      "5     4\n",
      "6     2\n",
      "8     2\n",
      "19    2\n",
      "15    2\n",
      "14    2\n",
      "7     2\n",
      "3     2\n",
      "13    2\n",
      "11    1\n",
      "9     1\n",
      "20    1\n",
      "18    1\n",
      "1     1\n",
      "27    1\n",
      "Name: Completed, dtype: int64\n"
     ]
    }
   ],
   "source": [
    "# exploring the data\n",
    "for name in grades.columns:\n",
    "    print(grades[name].value_counts())"
   ]
  }
 ],
 "metadata": {
  "kernelspec": {
   "display_name": "Python 3 (ipykernel)",
   "language": "python",
   "name": "python3"
  },
  "language_info": {
   "codemirror_mode": {
    "name": "ipython",
    "version": 3
   },
   "file_extension": ".py",
   "mimetype": "text/x-python",
   "name": "python",
   "nbconvert_exporter": "python",
   "pygments_lexer": "ipython3",
   "version": "3.9.7"
  }
 },
 "nbformat": 4,
 "nbformat_minor": 5
}
