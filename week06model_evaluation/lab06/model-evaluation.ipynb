{
 "cells": [
  {
   "cell_type": "code",
   "execution_count": 80,
   "id": "95323fd2",
   "metadata": {},
   "outputs": [],
   "source": [
    "import pandas as pd\n",
    "from sklearn.model_selection import KFold,train_test_split\n",
    "import numpy as np\n",
    "import seaborn as sns\n",
    "from sklearn.tree import DecisionTreeClassifier\n"
   ]
  },
  {
   "cell_type": "code",
   "execution_count": null,
   "id": "0e0ed000",
   "metadata": {},
   "outputs": [],
   "source": []
  },
  {
   "cell_type": "code",
   "execution_count": 11,
   "id": "2a15ac24",
   "metadata": {},
   "outputs": [
    {
     "data": {
      "text/plain": [
       "(891, 11)"
      ]
     },
     "execution_count": 11,
     "metadata": {},
     "output_type": "execute_result"
    }
   ],
   "source": [
    "titanic_train = pd.read_csv('titanic-train.csv')\n",
    "titanic_train.shape"
   ]
  },
  {
   "cell_type": "code",
   "execution_count": 12,
   "id": "3df3a38f",
   "metadata": {},
   "outputs": [
    {
     "data": {
      "text/plain": [
       "(418, 11)"
      ]
     },
     "execution_count": 12,
     "metadata": {},
     "output_type": "execute_result"
    }
   ],
   "source": [
    "titanic_test = pd.read_csv('titanic-test.csv')\n",
    "titanic_test.shape"
   ]
  },
  {
   "cell_type": "code",
   "execution_count": 13,
   "id": "c531b011",
   "metadata": {},
   "outputs": [
    {
     "data": {
      "text/html": [
       "<div>\n",
       "<style scoped>\n",
       "    .dataframe tbody tr th:only-of-type {\n",
       "        vertical-align: middle;\n",
       "    }\n",
       "\n",
       "    .dataframe tbody tr th {\n",
       "        vertical-align: top;\n",
       "    }\n",
       "\n",
       "    .dataframe thead th {\n",
       "        text-align: right;\n",
       "    }\n",
       "</style>\n",
       "<table border=\"1\" class=\"dataframe\">\n",
       "  <thead>\n",
       "    <tr style=\"text-align: right;\">\n",
       "      <th></th>\n",
       "      <th>PassengerId</th>\n",
       "      <th>Survived</th>\n",
       "      <th>Pclass</th>\n",
       "      <th>Sex</th>\n",
       "      <th>Age</th>\n",
       "      <th>SibSp</th>\n",
       "      <th>Parch</th>\n",
       "      <th>Ticket</th>\n",
       "      <th>Fare</th>\n",
       "      <th>Cabin</th>\n",
       "      <th>Embarked</th>\n",
       "    </tr>\n",
       "  </thead>\n",
       "  <tbody>\n",
       "    <tr>\n",
       "      <th>0</th>\n",
       "      <td>1</td>\n",
       "      <td>0</td>\n",
       "      <td>3</td>\n",
       "      <td>male</td>\n",
       "      <td>22.0</td>\n",
       "      <td>1</td>\n",
       "      <td>0</td>\n",
       "      <td>A/5 21171</td>\n",
       "      <td>7.2500</td>\n",
       "      <td>NaN</td>\n",
       "      <td>S</td>\n",
       "    </tr>\n",
       "    <tr>\n",
       "      <th>1</th>\n",
       "      <td>2</td>\n",
       "      <td>1</td>\n",
       "      <td>1</td>\n",
       "      <td>female</td>\n",
       "      <td>38.0</td>\n",
       "      <td>1</td>\n",
       "      <td>0</td>\n",
       "      <td>PC 17599</td>\n",
       "      <td>71.2833</td>\n",
       "      <td>C85</td>\n",
       "      <td>C</td>\n",
       "    </tr>\n",
       "    <tr>\n",
       "      <th>2</th>\n",
       "      <td>3</td>\n",
       "      <td>1</td>\n",
       "      <td>3</td>\n",
       "      <td>female</td>\n",
       "      <td>26.0</td>\n",
       "      <td>0</td>\n",
       "      <td>0</td>\n",
       "      <td>STON/O2. 3101282</td>\n",
       "      <td>7.9250</td>\n",
       "      <td>NaN</td>\n",
       "      <td>S</td>\n",
       "    </tr>\n",
       "    <tr>\n",
       "      <th>3</th>\n",
       "      <td>4</td>\n",
       "      <td>1</td>\n",
       "      <td>1</td>\n",
       "      <td>female</td>\n",
       "      <td>35.0</td>\n",
       "      <td>1</td>\n",
       "      <td>0</td>\n",
       "      <td>113803</td>\n",
       "      <td>53.1000</td>\n",
       "      <td>C123</td>\n",
       "      <td>S</td>\n",
       "    </tr>\n",
       "    <tr>\n",
       "      <th>4</th>\n",
       "      <td>5</td>\n",
       "      <td>0</td>\n",
       "      <td>3</td>\n",
       "      <td>male</td>\n",
       "      <td>35.0</td>\n",
       "      <td>0</td>\n",
       "      <td>0</td>\n",
       "      <td>373450</td>\n",
       "      <td>8.0500</td>\n",
       "      <td>NaN</td>\n",
       "      <td>S</td>\n",
       "    </tr>\n",
       "  </tbody>\n",
       "</table>\n",
       "</div>"
      ],
      "text/plain": [
       "   PassengerId  Survived  Pclass     Sex   Age  SibSp  Parch  \\\n",
       "0            1         0       3    male  22.0      1      0   \n",
       "1            2         1       1  female  38.0      1      0   \n",
       "2            3         1       3  female  26.0      0      0   \n",
       "3            4         1       1  female  35.0      1      0   \n",
       "4            5         0       3    male  35.0      0      0   \n",
       "\n",
       "             Ticket     Fare Cabin Embarked  \n",
       "0         A/5 21171   7.2500   NaN        S  \n",
       "1          PC 17599  71.2833   C85        C  \n",
       "2  STON/O2. 3101282   7.9250   NaN        S  \n",
       "3            113803  53.1000  C123        S  \n",
       "4            373450   8.0500   NaN        S  "
      ]
     },
     "execution_count": 13,
     "metadata": {},
     "output_type": "execute_result"
    }
   ],
   "source": [
    "titanic_train.head()"
   ]
  },
  {
   "cell_type": "code",
   "execution_count": 82,
   "id": "0820c51f",
   "metadata": {},
   "outputs": [],
   "source": [
    "# converting cabin to binary attribute using dummy variable\n",
    "titanic_train['Cabin'] = titanic_train[\"Cabin\"].apply(lambda x: 0 if type(x) == float else 1)\n",
    "titanic_test['Cabin'] = titanic_test[\"Cabin\"].apply(lambda x: 0 if type(x) == float else 1)"
   ]
  },
  {
   "cell_type": "code",
   "execution_count": 83,
   "id": "ba342e5d",
   "metadata": {},
   "outputs": [],
   "source": [
    "# converting sex cateogorical variable to dummy variable\n",
    "titanic_train['Sex'] = titanic_train[\"Sex\"].replace({'male':0,'female':1})\n",
    "titanic_test['Sex'] = titanic_test[\"Sex\"].replace({'male':0,'female':1})"
   ]
  },
  {
   "cell_type": "code",
   "execution_count": 84,
   "id": "69744d3b",
   "metadata": {},
   "outputs": [
    {
     "data": {
      "text/plain": [
       "[     PassengerId  Survived  Pclass  Sex  Age  SibSp  Parch            Ticket  \\\n",
       " 0              1         0       3    0   22      1      0         A/5 21171   \n",
       " 1              2         1       1    1   38      1      0          PC 17599   \n",
       " 2              3         1       3    1   26      0      0  STON/O2. 3101282   \n",
       " 3              4         1       1    1   35      1      0            113803   \n",
       " 4              5         0       3    0   35      0      0            373450   \n",
       " ..           ...       ...     ...  ...  ...    ...    ...               ...   \n",
       " 886          887         0       2    0   27      0      0            211536   \n",
       " 887          888         1       1    1   19      0      0            112053   \n",
       " 888          889         0       3    1   15      1      2        W./C. 6607   \n",
       " 889          890         1       1    0   26      0      0            111369   \n",
       " 890          891         0       3    0   32      0      0            370376   \n",
       " \n",
       "         Fare  Cabin Embarked  \n",
       " 0     7.2500      1        S  \n",
       " 1    71.2833      1        C  \n",
       " 2     7.9250      1        S  \n",
       " 3    53.1000      1        S  \n",
       " 4     8.0500      1        S  \n",
       " ..       ...    ...      ...  \n",
       " 886  13.0000      1        S  \n",
       " 887  30.0000      1        S  \n",
       " 888  23.4500      1        S  \n",
       " 889  30.0000      1        C  \n",
       " 890   7.7500      1        Q  \n",
       " \n",
       " [891 rows x 11 columns],\n",
       "      PassengerId Survived  Pclass  Sex  Age  SibSp  Parch              Ticket  \\\n",
       " 0            892        ?       3    0   34      0      0              330911   \n",
       " 1            893        ?       3    1   47      1      0              363272   \n",
       " 2            894        ?       2    0   62      0      0              240276   \n",
       " 3            895        ?       3    0   27      0      0              315154   \n",
       " 4            896        ?       3    1   22      1      1             3101298   \n",
       " ..           ...      ...     ...  ...  ...    ...    ...                 ...   \n",
       " 413         1305        ?       3    0   39      0      0           A.5. 3236   \n",
       " 414         1306        ?       1    1   39      0      0            PC 17758   \n",
       " 415         1307        ?       3    0   38      0      0  SOTON/O.Q. 3101262   \n",
       " 416         1308        ?       3    0   24      0      0              359309   \n",
       " 417         1309        ?       3    0   17      1      1                2668   \n",
       " \n",
       "          Fare  Cabin Embarked  \n",
       " 0      7.8292      1        Q  \n",
       " 1      7.0000      1        S  \n",
       " 2      9.6875      1        Q  \n",
       " 3      8.6625      1        S  \n",
       " 4     12.2875      1        S  \n",
       " ..        ...    ...      ...  \n",
       " 413    8.0500      1        S  \n",
       " 414  108.9000      1        C  \n",
       " 415    7.2500      1        S  \n",
       " 416    8.0500      1        S  \n",
       " 417   22.3583      1        C  \n",
       " \n",
       " [418 rows x 11 columns]]"
      ]
     },
     "execution_count": 84,
     "metadata": {},
     "output_type": "execute_result"
    }
   ],
   "source": [
    "full_data = [titanic_train,titanic_test]\n",
    "full_data"
   ]
  },
  {
   "cell_type": "code",
   "execution_count": 85,
   "id": "a37b1e1e",
   "metadata": {},
   "outputs": [],
   "source": [
    "# Remove all NULLS in the Age column\n",
    "for dataset in full_data:\n",
    "    age_avg = dataset['Age'].mean()\n",
    "    age_std = dataset['Age'].std()\n",
    "    age_null_count = dataset['Age'].isnull().sum()\n",
    "    age_null_random_list = np.random.randint(age_avg - age_std, age_avg + age_std, size=age_null_count)\n",
    "    # Next line has been improved to avoid warning\n",
    "    dataset.loc[np.isnan(dataset['Age']), 'Age'] = age_null_random_list\n",
    "    dataset['Age'] = dataset['Age'].astype(int)"
   ]
  },
  {
   "cell_type": "code",
   "execution_count": 86,
   "id": "900eb1b0",
   "metadata": {},
   "outputs": [
    {
     "data": {
      "text/plain": [
       "<AxesSubplot:>"
      ]
     },
     "execution_count": 86,
     "metadata": {},
     "output_type": "execute_result"
    },
    {
     "data": {
      "image/png": "[encoded data removed]",
      "text/plain": [
       "<Figure size 432x288 with 2 Axes>"
      ]
     },
     "metadata": {
      "needs_background": "light"
     },
     "output_type": "display_data"
    }
   ],
   "source": [
    "sns.heatmap(titanic_test.isnull()) # Age and Cabin has many null values"
   ]
  },
  {
   "cell_type": "code",
   "execution_count": 87,
   "id": "cf6a2f6b",
   "metadata": {},
   "outputs": [
    {
     "data": {
      "text/plain": [
       "<AxesSubplot:>"
      ]
     },
     "execution_count": 87,
     "metadata": {},
     "output_type": "execute_result"
    },
    {
     "data": {
      "image/png": "[encoded data removed]",
      "text/plain": [
       "<Figure size 432x288 with 2 Axes>"
      ]
     },
     "metadata": {
      "needs_background": "light"
     },
     "output_type": "display_data"
    }
   ],
   "source": [
    "sns.heatmap(titanic_train.isnull()) # Age and Cabin has many null values"
   ]
  },
  {
   "cell_type": "code",
   "execution_count": 88,
   "id": "3bbbcebd",
   "metadata": {},
   "outputs": [
    {
     "data": {
      "text/plain": [
       "[     PassengerId  Survived  Pclass  Sex  Age  SibSp  Parch            Ticket  \\\n",
       " 0              1         0       3    0   22      1      0         A/5 21171   \n",
       " 1              2         1       1    1   38      1      0          PC 17599   \n",
       " 2              3         1       3    1   26      0      0  STON/O2. 3101282   \n",
       " 3              4         1       1    1   35      1      0            113803   \n",
       " 4              5         0       3    0   35      0      0            373450   \n",
       " ..           ...       ...     ...  ...  ...    ...    ...               ...   \n",
       " 886          887         0       2    0   27      0      0            211536   \n",
       " 887          888         1       1    1   19      0      0            112053   \n",
       " 888          889         0       3    1   15      1      2        W./C. 6607   \n",
       " 889          890         1       1    0   26      0      0            111369   \n",
       " 890          891         0       3    0   32      0      0            370376   \n",
       " \n",
       "         Fare  Cabin Embarked  \n",
       " 0     7.2500      1        S  \n",
       " 1    71.2833      1        C  \n",
       " 2     7.9250      1        S  \n",
       " 3    53.1000      1        S  \n",
       " 4     8.0500      1        S  \n",
       " ..       ...    ...      ...  \n",
       " 886  13.0000      1        S  \n",
       " 887  30.0000      1        S  \n",
       " 888  23.4500      1        S  \n",
       " 889  30.0000      1        C  \n",
       " 890   7.7500      1        Q  \n",
       " \n",
       " [891 rows x 11 columns],\n",
       "      PassengerId  Survived  Pclass  Sex  Age  SibSp  Parch            Ticket  \\\n",
       " 0              1         0       3    0   22      1      0         A/5 21171   \n",
       " 1              2         1       1    1   38      1      0          PC 17599   \n",
       " 2              3         1       3    1   26      0      0  STON/O2. 3101282   \n",
       " 3              4         1       1    1   35      1      0            113803   \n",
       " 4              5         0       3    0   35      0      0            373450   \n",
       " ..           ...       ...     ...  ...  ...    ...    ...               ...   \n",
       " 886          887         0       2    0   27      0      0            211536   \n",
       " 887          888         1       1    1   19      0      0            112053   \n",
       " 888          889         0       3    1   15      1      2        W./C. 6607   \n",
       " 889          890         1       1    0   26      0      0            111369   \n",
       " 890          891         0       3    0   32      0      0            370376   \n",
       " \n",
       "         Fare  Cabin Embarked  \n",
       " 0     7.2500      1        S  \n",
       " 1    71.2833      1        C  \n",
       " 2     7.9250      1        S  \n",
       " 3    53.1000      1        S  \n",
       " 4     8.0500      1        S  \n",
       " ..       ...    ...      ...  \n",
       " 886  13.0000      1        S  \n",
       " 887  30.0000      1        S  \n",
       " 888  23.4500      1        S  \n",
       " 889  30.0000      1        C  \n",
       " 890   7.7500      1        Q  \n",
       " \n",
       " [891 rows x 11 columns]]"
      ]
     },
     "execution_count": 88,
     "metadata": {},
     "output_type": "execute_result"
    }
   ],
   "source": [
    "full_data = [titanic_train, titanic_train]\n",
    "full_data"
   ]
  },
  {
   "cell_type": "code",
   "execution_count": 89,
   "id": "19fbab3a",
   "metadata": {},
   "outputs": [],
   "source": [
    "Y_full = full_data[0]['Survived']\n",
    "X_full = full_data[0][['Sex','Pclass','Age','SibSp','Parch','Cabin']]"
   ]
  },
  {
   "cell_type": "code",
   "execution_count": 29,
   "id": "00c5f17b",
   "metadata": {},
   "outputs": [],
   "source": [
    "# X_train = titanic_train[['Sex','Pclass','Age','SibSp','Parch','Cabin']]\n",
    "# Y_train = titanic_train['Survived']\n",
    "# X_test = titanic_test[['Sex','Pclass','Age','SibSp','Parch','Cabin']]\n",
    "# Y_test = titanic_test['Survived']"
   ]
  },
  {
   "cell_type": "code",
   "execution_count": 44,
   "id": "23b79c6c",
   "metadata": {},
   "outputs": [
    {
     "data": {
      "text/plain": [
       "[        Sex  Pclass  Age  SibSp  Parch  Cabin\n",
       " 0      male       3   22      1      0      1\n",
       " 1    female       1   38      1      0      1\n",
       " 2    female       3   26      0      0      1\n",
       " 3    female       1   35      1      0      1\n",
       " 4      male       3   35      0      0      1\n",
       " ..      ...     ...  ...    ...    ...    ...\n",
       " 886    male       2   27      0      0      1\n",
       " 887  female       1   19      0      0      1\n",
       " 888  female       3   15      1      2      1\n",
       " 889    male       1   26      0      0      1\n",
       " 890    male       3   32      0      0      1\n",
       " \n",
       " [891 rows x 6 columns],\n",
       "         Sex  Pclass  Age  SibSp  Parch  Cabin\n",
       " 0      male       3   34      0      0      1\n",
       " 1    female       3   47      1      0      1\n",
       " 2      male       2   62      0      0      1\n",
       " 3      male       3   27      0      0      1\n",
       " 4    female       3   22      1      1      1\n",
       " ..      ...     ...  ...    ...    ...    ...\n",
       " 413    male       3   39      0      0      1\n",
       " 414  female       1   39      0      0      1\n",
       " 415    male       3   38      0      0      1\n",
       " 416    male       3   24      0      0      1\n",
       " 417    male       3   17      1      1      1\n",
       " \n",
       " [418 rows x 6 columns]]"
      ]
     },
     "execution_count": 44,
     "metadata": {},
     "output_type": "execute_result"
    }
   ],
   "source": [
    "# X_full_data = [X_train,X_test]\n",
    "# X_full_data"
   ]
  },
  {
   "cell_type": "code",
   "execution_count": 37,
   "id": "c657849a",
   "metadata": {},
   "outputs": [
    {
     "data": {
      "text/plain": [
       "5"
      ]
     },
     "execution_count": 37,
     "metadata": {},
     "output_type": "execute_result"
    }
   ],
   "source": [
    "# kf = KFold(n_splits=5)\n",
    "# kf.get_n_splits(full_data)"
   ]
  },
  {
   "cell_type": "code",
   "execution_count": 38,
   "id": "9a0f6562",
   "metadata": {},
   "outputs": [
    {
     "name": "stdout",
     "output_type": "stream",
     "text": [
      "KFold(n_splits=5, random_state=None, shuffle=False)\n"
     ]
    }
   ],
   "source": [
    "#print(kf)"
   ]
  },
  {
   "cell_type": "code",
   "execution_count": 69,
   "id": "a8fd9d06",
   "metadata": {},
   "outputs": [],
   "source": [
    "# for train_index, test_index in kf.split(X_full):\n",
    "#     print(\"TRAIN:\", train_index, \"TEST:\", test_index)\n",
    "#     X_train, X_test = X_full[train_index], X_full[test_index]\n",
    "#     y_train, y_test = Y_full[train_index], Y_full[test_index]"
   ]
  },
  {
   "cell_type": "code",
   "execution_count": 90,
   "id": "cbac3223",
   "metadata": {},
   "outputs": [],
   "source": [
    "X_train, X_test, Y_train, Y_test = train_test_split(X_full, Y_full, random_state=0, test_size=0.1) "
   ]
  },
  {
   "cell_type": "code",
   "execution_count": 91,
   "id": "122ea128",
   "metadata": {},
   "outputs": [
    {
     "data": {
      "text/plain": [
       "(801, 6)"
      ]
     },
     "execution_count": 91,
     "metadata": {},
     "output_type": "execute_result"
    }
   ],
   "source": [
    "X_train.shape"
   ]
  },
  {
   "cell_type": "code",
   "execution_count": 92,
   "id": "9c50d235",
   "metadata": {},
   "outputs": [
    {
     "data": {
      "text/plain": [
       "(90, 6)"
      ]
     },
     "execution_count": 92,
     "metadata": {},
     "output_type": "execute_result"
    }
   ],
   "source": [
    "X_test.shape"
   ]
  },
  {
   "cell_type": "code",
   "execution_count": 93,
   "id": "35b60f26",
   "metadata": {},
   "outputs": [
    {
     "data": {
      "text/plain": [
       "DecisionTreeClassifier(criterion='entropy', random_state=0)"
      ]
     },
     "execution_count": 93,
     "metadata": {},
     "output_type": "execute_result"
    }
   ],
   "source": [
    "clf = DecisionTreeClassifier(random_state=0, criterion='entropy') # entropy to measure the purity of the split \n",
    "clf.fit(X_train,Y_train)"
   ]
  },
  {
   "cell_type": "code",
   "execution_count": null,
   "id": "e9f3b57b",
   "metadata": {},
   "outputs": [],
   "source": []
  },
  {
   "cell_type": "code",
   "execution_count": null,
   "id": "9688eeb5",
   "metadata": {},
   "outputs": [],
   "source": []
  }
 ],
 "metadata": {
  "kernelspec": {
   "display_name": "Python 3 (ipykernel)",
   "language": "python",
   "name": "python3"
  },
  "language_info": {
   "codemirror_mode": {
    "name": "ipython",
    "version": 3
   },
   "file_extension": ".py",
   "mimetype": "text/x-python",
   "name": "python",
   "nbconvert_exporter": "python",
   "pygments_lexer": "ipython3",
   "version": "3.9.7"
  }
 },
 "nbformat": 4,
 "nbformat_minor": 5
}
